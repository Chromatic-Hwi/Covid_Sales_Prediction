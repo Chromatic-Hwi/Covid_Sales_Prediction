{
 "cells": [
  {
   "cell_type": "markdown",
   "id": "49534bc4",
   "metadata": {},
   "source": [
    "# Covid Sales Prediction"
   ]
  },
  {
   "cell_type": "markdown",
   "id": "ea4a87c8",
   "metadata": {},
   "source": [
    "### 목차"
   ]
  },
  {
   "cell_type": "code",
   "execution_count": 1,
   "id": "626d35d1",
   "metadata": {},
   "outputs": [
    {
     "data": {
      "text/plain": [
       "'\\n각 컬럼들을 종합한 데이터를 만들고, 상관도를 구한다.\\n딥러닝 학습을 하면 테스트셋과 예측 결과의 정확도가 추출된다. (무엇의 정확도?)\\n\\n'"
      ]
     },
     "execution_count": 1,
     "metadata": {},
     "output_type": "execute_result"
    }
   ],
   "source": [
    "\"\"\"\n",
    "각 컬럼들을 종합한 데이터를 만들고, 상관도를 구한다.\n",
    "딥러닝 학습을 하면 테스트셋과 예측 결과의 정확도가 추출된다. (무엇의 정확도?)\n",
    "\n",
    "\"\"\""
   ]
  },
  {
   "cell_type": "markdown",
   "id": "79f886a9",
   "metadata": {},
   "source": [
    "### <화면 가로 확장>"
   ]
  },
  {
   "cell_type": "code",
   "execution_count": 2,
   "id": "01779336",
   "metadata": {},
   "outputs": [
    {
     "data": {
      "text/html": [
       "<style>.container { width:80% !important; }</style>"
      ],
      "text/plain": [
       "<IPython.core.display.HTML object>"
      ]
     },
     "metadata": {},
     "output_type": "display_data"
    }
   ],
   "source": [
    "# 화면 가로 확장 코드 (기본 width 50%)\n",
    "from IPython.core.display import display, HTML\n",
    "display(HTML(\"<style>.container { width:80% !important; }</style>\"))"
   ]
  },
  {
   "cell_type": "markdown",
   "id": "5914b761",
   "metadata": {},
   "source": [
    "### 1. 모듈 임포트"
   ]
  },
  {
   "cell_type": "code",
   "execution_count": 3,
   "id": "4fef1b48",
   "metadata": {},
   "outputs": [],
   "source": [
    "import numpy as np \n",
    "import pandas as pd \n",
    "import matplotlib.pyplot as plt\n",
    "from mpl_toolkits.mplot3d import Axes3D\n",
    "import seaborn as sns\n",
    "import tensorflow as tf\n",
    "import csv\n",
    "import os\n",
    "import datetime\n",
    "import h5py"
   ]
  },
  {
   "cell_type": "markdown",
   "id": "f7f69a8e",
   "metadata": {},
   "source": [
    "### <GPU 확인>"
   ]
  },
  {
   "cell_type": "code",
   "execution_count": 4,
   "id": "b6295985",
   "metadata": {},
   "outputs": [
    {
     "data": {
      "text/plain": [
       "'/device:GPU:0'"
      ]
     },
     "execution_count": 4,
     "metadata": {},
     "output_type": "execute_result"
    }
   ],
   "source": [
    "tf.test.gpu_device_name()"
   ]
  },
  {
   "cell_type": "markdown",
   "id": "9c1e9665",
   "metadata": {},
   "source": [
    "#### 최종 데이터 Import"
   ]
  },
  {
   "cell_type": "code",
   "execution_count": 5,
   "id": "5d68ba68",
   "metadata": {},
   "outputs": [
    {
     "data": {
      "text/html": [
       "<div>\n",
       "<style scoped>\n",
       "    .dataframe tbody tr th:only-of-type {\n",
       "        vertical-align: middle;\n",
       "    }\n",
       "\n",
       "    .dataframe tbody tr th {\n",
       "        vertical-align: top;\n",
       "    }\n",
       "\n",
       "    .dataframe thead th {\n",
       "        text-align: right;\n",
       "    }\n",
       "</style>\n",
       "<table border=\"1\" class=\"dataframe\">\n",
       "  <thead>\n",
       "    <tr style=\"text-align: right;\">\n",
       "      <th></th>\n",
       "      <th>Unnamed: 0</th>\n",
       "      <th>날짜</th>\n",
       "      <th>확진자수(양성)</th>\n",
       "      <th>검사수</th>\n",
       "      <th>확진자 증가량</th>\n",
       "      <th>검사수 증가량</th>\n",
       "      <th>18시 전 규제 인원수</th>\n",
       "      <th>18시 후 규제 인원수</th>\n",
       "      <th>영업 제한 시각</th>\n",
       "      <th>평균기온(°C)</th>\n",
       "      <th>강수여부</th>\n",
       "      <th>일강수량(mm)</th>\n",
       "      <th>평균 풍속(m/s)</th>\n",
       "      <th>Won</th>\n",
       "    </tr>\n",
       "  </thead>\n",
       "  <tbody>\n",
       "    <tr>\n",
       "      <th>0</th>\n",
       "      <td>0</td>\n",
       "      <td>20210101</td>\n",
       "      <td>61753</td>\n",
       "      <td>4269308</td>\n",
       "      <td>1027</td>\n",
       "      <td>55436</td>\n",
       "      <td>5</td>\n",
       "      <td>5</td>\n",
       "      <td>21</td>\n",
       "      <td>-4.2</td>\n",
       "      <td>0.0</td>\n",
       "      <td>0.0</td>\n",
       "      <td>2.0</td>\n",
       "      <td>0</td>\n",
       "    </tr>\n",
       "    <tr>\n",
       "      <th>1</th>\n",
       "      <td>1</td>\n",
       "      <td>20210102</td>\n",
       "      <td>62573</td>\n",
       "      <td>4302790</td>\n",
       "      <td>820</td>\n",
       "      <td>33482</td>\n",
       "      <td>5</td>\n",
       "      <td>5</td>\n",
       "      <td>21</td>\n",
       "      <td>-5.0</td>\n",
       "      <td>0.0</td>\n",
       "      <td>0.0</td>\n",
       "      <td>2.6</td>\n",
       "      <td>0</td>\n",
       "    </tr>\n",
       "    <tr>\n",
       "      <th>2</th>\n",
       "      <td>2</td>\n",
       "      <td>20210103</td>\n",
       "      <td>63230</td>\n",
       "      <td>4340830</td>\n",
       "      <td>657</td>\n",
       "      <td>38040</td>\n",
       "      <td>5</td>\n",
       "      <td>5</td>\n",
       "      <td>21</td>\n",
       "      <td>-5.6</td>\n",
       "      <td>0.0</td>\n",
       "      <td>0.0</td>\n",
       "      <td>2.0</td>\n",
       "      <td>0</td>\n",
       "    </tr>\n",
       "    <tr>\n",
       "      <th>3</th>\n",
       "      <td>3</td>\n",
       "      <td>20210104</td>\n",
       "      <td>64250</td>\n",
       "      <td>4376600</td>\n",
       "      <td>1020</td>\n",
       "      <td>35770</td>\n",
       "      <td>5</td>\n",
       "      <td>5</td>\n",
       "      <td>21</td>\n",
       "      <td>-3.5</td>\n",
       "      <td>0.0</td>\n",
       "      <td>0.0</td>\n",
       "      <td>1.7</td>\n",
       "      <td>249789</td>\n",
       "    </tr>\n",
       "    <tr>\n",
       "      <th>4</th>\n",
       "      <td>4</td>\n",
       "      <td>20210105</td>\n",
       "      <td>64964</td>\n",
       "      <td>4439352</td>\n",
       "      <td>714</td>\n",
       "      <td>62752</td>\n",
       "      <td>5</td>\n",
       "      <td>5</td>\n",
       "      <td>21</td>\n",
       "      <td>-5.5</td>\n",
       "      <td>0.0</td>\n",
       "      <td>0.0</td>\n",
       "      <td>2.9</td>\n",
       "      <td>211252</td>\n",
       "    </tr>\n",
       "    <tr>\n",
       "      <th>...</th>\n",
       "      <td>...</td>\n",
       "      <td>...</td>\n",
       "      <td>...</td>\n",
       "      <td>...</td>\n",
       "      <td>...</td>\n",
       "      <td>...</td>\n",
       "      <td>...</td>\n",
       "      <td>...</td>\n",
       "      <td>...</td>\n",
       "      <td>...</td>\n",
       "      <td>...</td>\n",
       "      <td>...</td>\n",
       "      <td>...</td>\n",
       "      <td>...</td>\n",
       "    </tr>\n",
       "    <tr>\n",
       "      <th>321</th>\n",
       "      <td>321</td>\n",
       "      <td>20211118</td>\n",
       "      <td>406065</td>\n",
       "      <td>15845430</td>\n",
       "      <td>3290</td>\n",
       "      <td>3290</td>\n",
       "      <td>10</td>\n",
       "      <td>10</td>\n",
       "      <td>27</td>\n",
       "      <td>11.9</td>\n",
       "      <td>0.0</td>\n",
       "      <td>0.0</td>\n",
       "      <td>2.4</td>\n",
       "      <td>322402</td>\n",
       "    </tr>\n",
       "    <tr>\n",
       "      <th>322</th>\n",
       "      <td>322</td>\n",
       "      <td>20211119</td>\n",
       "      <td>409099</td>\n",
       "      <td>15848464</td>\n",
       "      <td>3034</td>\n",
       "      <td>3034</td>\n",
       "      <td>10</td>\n",
       "      <td>10</td>\n",
       "      <td>27</td>\n",
       "      <td>12.9</td>\n",
       "      <td>0.0</td>\n",
       "      <td>0.0</td>\n",
       "      <td>1.9</td>\n",
       "      <td>55371</td>\n",
       "    </tr>\n",
       "    <tr>\n",
       "      <th>323</th>\n",
       "      <td>323</td>\n",
       "      <td>20211120</td>\n",
       "      <td>412305</td>\n",
       "      <td>15851670</td>\n",
       "      <td>3206</td>\n",
       "      <td>3206</td>\n",
       "      <td>10</td>\n",
       "      <td>10</td>\n",
       "      <td>27</td>\n",
       "      <td>10.4</td>\n",
       "      <td>0.0</td>\n",
       "      <td>0.0</td>\n",
       "      <td>1.6</td>\n",
       "      <td>0</td>\n",
       "    </tr>\n",
       "    <tr>\n",
       "      <th>324</th>\n",
       "      <td>324</td>\n",
       "      <td>20211121</td>\n",
       "      <td>415425</td>\n",
       "      <td>15854790</td>\n",
       "      <td>3120</td>\n",
       "      <td>3120</td>\n",
       "      <td>10</td>\n",
       "      <td>10</td>\n",
       "      <td>27</td>\n",
       "      <td>10.4</td>\n",
       "      <td>1.0</td>\n",
       "      <td>5.9</td>\n",
       "      <td>1.9</td>\n",
       "      <td>0</td>\n",
       "    </tr>\n",
       "    <tr>\n",
       "      <th>325</th>\n",
       "      <td>325</td>\n",
       "      <td>20211122</td>\n",
       "      <td>418252</td>\n",
       "      <td>15857617</td>\n",
       "      <td>2827</td>\n",
       "      <td>2827</td>\n",
       "      <td>10</td>\n",
       "      <td>10</td>\n",
       "      <td>27</td>\n",
       "      <td>2.7</td>\n",
       "      <td>1.0</td>\n",
       "      <td>1.3</td>\n",
       "      <td>4.1</td>\n",
       "      <td>68641</td>\n",
       "    </tr>\n",
       "  </tbody>\n",
       "</table>\n",
       "<p>326 rows × 14 columns</p>\n",
       "</div>"
      ],
      "text/plain": [
       "     Unnamed: 0        날짜  확진자수(양성)       검사수  확진자 증가량  검사수 증가량  18시 전 규제 인원수  \\\n",
       "0             0  20210101     61753   4269308     1027    55436             5   \n",
       "1             1  20210102     62573   4302790      820    33482             5   \n",
       "2             2  20210103     63230   4340830      657    38040             5   \n",
       "3             3  20210104     64250   4376600     1020    35770             5   \n",
       "4             4  20210105     64964   4439352      714    62752             5   \n",
       "..          ...       ...       ...       ...      ...      ...           ...   \n",
       "321         321  20211118    406065  15845430     3290     3290            10   \n",
       "322         322  20211119    409099  15848464     3034     3034            10   \n",
       "323         323  20211120    412305  15851670     3206     3206            10   \n",
       "324         324  20211121    415425  15854790     3120     3120            10   \n",
       "325         325  20211122    418252  15857617     2827     2827            10   \n",
       "\n",
       "     18시 후 규제 인원수  영업 제한 시각  평균기온(°C)  강수여부  일강수량(mm)  평균 풍속(m/s)     Won  \n",
       "0               5        21      -4.2   0.0       0.0         2.0       0  \n",
       "1               5        21      -5.0   0.0       0.0         2.6       0  \n",
       "2               5        21      -5.6   0.0       0.0         2.0       0  \n",
       "3               5        21      -3.5   0.0       0.0         1.7  249789  \n",
       "4               5        21      -5.5   0.0       0.0         2.9  211252  \n",
       "..            ...       ...       ...   ...       ...         ...     ...  \n",
       "321            10        27      11.9   0.0       0.0         2.4  322402  \n",
       "322            10        27      12.9   0.0       0.0         1.9   55371  \n",
       "323            10        27      10.4   0.0       0.0         1.6       0  \n",
       "324            10        27      10.4   1.0       5.9         1.9       0  \n",
       "325            10        27       2.7   1.0       1.3         4.1   68641  \n",
       "\n",
       "[326 rows x 14 columns]"
      ]
     },
     "execution_count": 5,
     "metadata": {},
     "output_type": "execute_result"
    }
   ],
   "source": [
    "Data_Combined=pd.read_csv('./Data/2021_Data_Combined.csv', encoding='cp949')\n",
    "Data_Combined"
   ]
  },
  {
   "cell_type": "markdown",
   "id": "3fb042ae",
   "metadata": {},
   "source": [
    "### 4. 데이터 정규화"
   ]
  },
  {
   "cell_type": "markdown",
   "id": "60c87e2c",
   "metadata": {},
   "source": [
    "#### Min-Max Scaling 이용, 4년치 학습 데이터 정규화"
   ]
  },
  {
   "cell_type": "code",
   "execution_count": 6,
   "id": "b72ea907",
   "metadata": {},
   "outputs": [
    {
     "data": {
      "text/html": [
       "<div>\n",
       "<style scoped>\n",
       "    .dataframe tbody tr th:only-of-type {\n",
       "        vertical-align: middle;\n",
       "    }\n",
       "\n",
       "    .dataframe tbody tr th {\n",
       "        vertical-align: top;\n",
       "    }\n",
       "\n",
       "    .dataframe thead th {\n",
       "        text-align: right;\n",
       "    }\n",
       "</style>\n",
       "<table border=\"1\" class=\"dataframe\">\n",
       "  <thead>\n",
       "    <tr style=\"text-align: right;\">\n",
       "      <th></th>\n",
       "      <th>날짜</th>\n",
       "      <th>확진자수(양성)</th>\n",
       "      <th>검사수</th>\n",
       "      <th>확진자 증가량</th>\n",
       "      <th>검사수 증가량</th>\n",
       "      <th>18시 전 규제 인원수</th>\n",
       "      <th>18시 후 규제 인원수</th>\n",
       "      <th>영업 제한 시각</th>\n",
       "      <th>평균기온(°C)</th>\n",
       "      <th>강수여부</th>\n",
       "      <th>일강수량(mm)</th>\n",
       "      <th>평균 풍속(m/s)</th>\n",
       "      <th>Won</th>\n",
       "    </tr>\n",
       "  </thead>\n",
       "  <tbody>\n",
       "    <tr>\n",
       "      <th>0</th>\n",
       "      <td>20210101</td>\n",
       "      <td>0.000000</td>\n",
       "      <td>0.000000</td>\n",
       "      <td>0.246169</td>\n",
       "      <td>0.771646</td>\n",
       "      <td>0.0</td>\n",
       "      <td>0.285714</td>\n",
       "      <td>0.0</td>\n",
       "      <td>0.229614</td>\n",
       "      <td>0.0</td>\n",
       "      <td>0.000000</td>\n",
       "      <td>0.189189</td>\n",
       "      <td>0.000000</td>\n",
       "    </tr>\n",
       "    <tr>\n",
       "      <th>1</th>\n",
       "      <td>20210102</td>\n",
       "      <td>0.002300</td>\n",
       "      <td>0.002889</td>\n",
       "      <td>0.177215</td>\n",
       "      <td>0.457038</td>\n",
       "      <td>0.0</td>\n",
       "      <td>0.285714</td>\n",
       "      <td>0.0</td>\n",
       "      <td>0.212446</td>\n",
       "      <td>0.0</td>\n",
       "      <td>0.000000</td>\n",
       "      <td>0.351351</td>\n",
       "      <td>0.000000</td>\n",
       "    </tr>\n",
       "    <tr>\n",
       "      <th>2</th>\n",
       "      <td>20210103</td>\n",
       "      <td>0.004143</td>\n",
       "      <td>0.006172</td>\n",
       "      <td>0.122918</td>\n",
       "      <td>0.522355</td>\n",
       "      <td>0.0</td>\n",
       "      <td>0.285714</td>\n",
       "      <td>0.0</td>\n",
       "      <td>0.199571</td>\n",
       "      <td>0.0</td>\n",
       "      <td>0.000000</td>\n",
       "      <td>0.189189</td>\n",
       "      <td>0.000000</td>\n",
       "    </tr>\n",
       "    <tr>\n",
       "      <th>3</th>\n",
       "      <td>20210104</td>\n",
       "      <td>0.007004</td>\n",
       "      <td>0.009259</td>\n",
       "      <td>0.243837</td>\n",
       "      <td>0.489825</td>\n",
       "      <td>0.0</td>\n",
       "      <td>0.285714</td>\n",
       "      <td>0.0</td>\n",
       "      <td>0.244635</td>\n",
       "      <td>0.0</td>\n",
       "      <td>0.000000</td>\n",
       "      <td>0.108108</td>\n",
       "      <td>0.190575</td>\n",
       "    </tr>\n",
       "    <tr>\n",
       "      <th>4</th>\n",
       "      <td>20210105</td>\n",
       "      <td>0.009007</td>\n",
       "      <td>0.014674</td>\n",
       "      <td>0.141905</td>\n",
       "      <td>0.876487</td>\n",
       "      <td>0.0</td>\n",
       "      <td>0.285714</td>\n",
       "      <td>0.0</td>\n",
       "      <td>0.201717</td>\n",
       "      <td>0.0</td>\n",
       "      <td>0.000000</td>\n",
       "      <td>0.432432</td>\n",
       "      <td>0.161173</td>\n",
       "    </tr>\n",
       "    <tr>\n",
       "      <th>...</th>\n",
       "      <td>...</td>\n",
       "      <td>...</td>\n",
       "      <td>...</td>\n",
       "      <td>...</td>\n",
       "      <td>...</td>\n",
       "      <td>...</td>\n",
       "      <td>...</td>\n",
       "      <td>...</td>\n",
       "      <td>...</td>\n",
       "      <td>...</td>\n",
       "      <td>...</td>\n",
       "      <td>...</td>\n",
       "      <td>...</td>\n",
       "    </tr>\n",
       "    <tr>\n",
       "      <th>321</th>\n",
       "      <td>20211118</td>\n",
       "      <td>0.965815</td>\n",
       "      <td>0.998948</td>\n",
       "      <td>1.000000</td>\n",
       "      <td>0.024376</td>\n",
       "      <td>1.0</td>\n",
       "      <td>1.000000</td>\n",
       "      <td>1.0</td>\n",
       "      <td>0.575107</td>\n",
       "      <td>0.0</td>\n",
       "      <td>0.000000</td>\n",
       "      <td>0.297297</td>\n",
       "      <td>0.245974</td>\n",
       "    </tr>\n",
       "    <tr>\n",
       "      <th>322</th>\n",
       "      <td>20211119</td>\n",
       "      <td>0.974325</td>\n",
       "      <td>0.999210</td>\n",
       "      <td>0.914724</td>\n",
       "      <td>0.020707</td>\n",
       "      <td>1.0</td>\n",
       "      <td>1.000000</td>\n",
       "      <td>1.0</td>\n",
       "      <td>0.596567</td>\n",
       "      <td>0.0</td>\n",
       "      <td>0.000000</td>\n",
       "      <td>0.162162</td>\n",
       "      <td>0.042245</td>\n",
       "    </tr>\n",
       "    <tr>\n",
       "      <th>323</th>\n",
       "      <td>20211120</td>\n",
       "      <td>0.983318</td>\n",
       "      <td>0.999487</td>\n",
       "      <td>0.972019</td>\n",
       "      <td>0.023172</td>\n",
       "      <td>1.0</td>\n",
       "      <td>1.000000</td>\n",
       "      <td>1.0</td>\n",
       "      <td>0.542918</td>\n",
       "      <td>0.0</td>\n",
       "      <td>0.000000</td>\n",
       "      <td>0.081081</td>\n",
       "      <td>0.000000</td>\n",
       "    </tr>\n",
       "    <tr>\n",
       "      <th>324</th>\n",
       "      <td>20211121</td>\n",
       "      <td>0.992070</td>\n",
       "      <td>0.999756</td>\n",
       "      <td>0.943371</td>\n",
       "      <td>0.021940</td>\n",
       "      <td>1.0</td>\n",
       "      <td>1.000000</td>\n",
       "      <td>1.0</td>\n",
       "      <td>0.542918</td>\n",
       "      <td>1.0</td>\n",
       "      <td>0.076227</td>\n",
       "      <td>0.162162</td>\n",
       "      <td>0.000000</td>\n",
       "    </tr>\n",
       "    <tr>\n",
       "      <th>325</th>\n",
       "      <td>20211122</td>\n",
       "      <td>1.000000</td>\n",
       "      <td>1.000000</td>\n",
       "      <td>0.845769</td>\n",
       "      <td>0.017741</td>\n",
       "      <td>1.0</td>\n",
       "      <td>1.000000</td>\n",
       "      <td>1.0</td>\n",
       "      <td>0.377682</td>\n",
       "      <td>1.0</td>\n",
       "      <td>0.016796</td>\n",
       "      <td>0.756757</td>\n",
       "      <td>0.052369</td>\n",
       "    </tr>\n",
       "  </tbody>\n",
       "</table>\n",
       "<p>326 rows × 13 columns</p>\n",
       "</div>"
      ],
      "text/plain": [
       "           날짜  확진자수(양성)       검사수   확진자 증가량   검사수 증가량  18시 전 규제 인원수  \\\n",
       "0    20210101  0.000000  0.000000  0.246169  0.771646           0.0   \n",
       "1    20210102  0.002300  0.002889  0.177215  0.457038           0.0   \n",
       "2    20210103  0.004143  0.006172  0.122918  0.522355           0.0   \n",
       "3    20210104  0.007004  0.009259  0.243837  0.489825           0.0   \n",
       "4    20210105  0.009007  0.014674  0.141905  0.876487           0.0   \n",
       "..        ...       ...       ...       ...       ...           ...   \n",
       "321  20211118  0.965815  0.998948  1.000000  0.024376           1.0   \n",
       "322  20211119  0.974325  0.999210  0.914724  0.020707           1.0   \n",
       "323  20211120  0.983318  0.999487  0.972019  0.023172           1.0   \n",
       "324  20211121  0.992070  0.999756  0.943371  0.021940           1.0   \n",
       "325  20211122  1.000000  1.000000  0.845769  0.017741           1.0   \n",
       "\n",
       "     18시 후 규제 인원수  영업 제한 시각  평균기온(°C)  강수여부  일강수량(mm)  평균 풍속(m/s)       Won  \n",
       "0        0.285714       0.0  0.229614   0.0  0.000000    0.189189  0.000000  \n",
       "1        0.285714       0.0  0.212446   0.0  0.000000    0.351351  0.000000  \n",
       "2        0.285714       0.0  0.199571   0.0  0.000000    0.189189  0.000000  \n",
       "3        0.285714       0.0  0.244635   0.0  0.000000    0.108108  0.190575  \n",
       "4        0.285714       0.0  0.201717   0.0  0.000000    0.432432  0.161173  \n",
       "..            ...       ...       ...   ...       ...         ...       ...  \n",
       "321      1.000000       1.0  0.575107   0.0  0.000000    0.297297  0.245974  \n",
       "322      1.000000       1.0  0.596567   0.0  0.000000    0.162162  0.042245  \n",
       "323      1.000000       1.0  0.542918   0.0  0.000000    0.081081  0.000000  \n",
       "324      1.000000       1.0  0.542918   1.0  0.076227    0.162162  0.000000  \n",
       "325      1.000000       1.0  0.377682   1.0  0.016796    0.756757  0.052369  \n",
       "\n",
       "[326 rows x 13 columns]"
      ]
     },
     "execution_count": 6,
     "metadata": {},
     "output_type": "execute_result"
    }
   ],
   "source": [
    "from sklearn.preprocessing import MinMaxScaler\n",
    "# 정규화 과정을 거쳐 데이터 범위를 원하는 범위로 제한. 그래프는 동일하나 손실 정도를 확인하기에 더 좋음.\n",
    "# 배치 정규화는 기울기 소멸 문제를 해결하기는 좋으나, RNN의 경우 계층별로 미니 정규화 적용이 필요해 모델이 복잡해지고 효율이 저하됨.\n",
    "Data_Combined.sort_index(ascending=False).reset_index(drop=True)\n",
    "\n",
    "scaler = MinMaxScaler()\n",
    "scale_cols = ['확진자수(양성)', '검사수', '확진자 증가량', '검사수 증가량', '18시 전 규제 인원수', '18시 후 규제 인원수', '영업 제한 시각', '평균기온(°C)', '강수여부', '일강수량(mm)', '평균 풍속(m/s)', 'Won']\n",
    "Data_scaled = scaler.fit_transform(Data_Combined[scale_cols])\n",
    "Data_scaled = pd.DataFrame(Data_scaled)\n",
    "Data_scaled.columns = scale_cols\n",
    "\n",
    "Data_scaled.insert(0, '날짜', Data_Combined['날짜'])\n",
    "Data_scaled"
   ]
  },
  {
   "cell_type": "markdown",
   "id": "88477722",
   "metadata": {},
   "source": [
    "### 5. 데이터 연관성 분석"
   ]
  },
  {
   "cell_type": "code",
   "execution_count": 7,
   "id": "81e71bfa",
   "metadata": {},
   "outputs": [
    {
     "data": {
      "text/plain": [
       "Index(['날짜', '확진자수(양성)', '검사수', '확진자 증가량', '검사수 증가량', '18시 전 규제 인원수',\n",
       "       '18시 후 규제 인원수', '영업 제한 시각', '평균기온(°C)', '강수여부', '일강수량(mm)',\n",
       "       '평균 풍속(m/s)', 'Won'],\n",
       "      dtype='object')"
      ]
     },
     "execution_count": 7,
     "metadata": {},
     "output_type": "execute_result"
    }
   ],
   "source": [
    "Data_scaled.columns"
   ]
  },
  {
   "cell_type": "code",
   "execution_count": 8,
   "id": "38e5c5fb",
   "metadata": {},
   "outputs": [
    {
     "name": "stdout",
     "output_type": "stream",
     "text": [
      "< 확진자수(양성)-Won >\n",
      "P-value ==>> 0.093\n",
      "\n",
      "< 검사수-Won >\n",
      "P-value ==>> 0.029\n",
      "\n",
      "< 확진자 증가량-Won >\n",
      "P-value ==>> 0.537\n",
      "\n",
      "< 검사수 증가량-Won >\n",
      "P-value ==>> 0.000\n",
      "\n",
      "< 18시 전 규제 인원수-Won >\n",
      "P-value ==>> 0.263\n",
      "\n",
      "< 18시 후 규제 인원수-Won >\n",
      "P-value ==>> 0.660\n",
      "\n",
      "< 영업 제한 시각-Won >\n",
      "P-value ==>> 0.079\n",
      "\n",
      "< 평균기온(°C)-Won >\n",
      "P-value ==>> 0.006\n",
      "\n",
      "< 강수여부-Won >\n",
      "P-value ==>> 0.061\n",
      "\n",
      "< 일강수량(mm)-Won >\n",
      "P-value ==>> 0.027\n",
      "\n",
      "< 평균 풍속(m/s)-Won >\n",
      "P-value ==>> 0.783\n",
      "\n"
     ]
    }
   ],
   "source": [
    "import scipy.stats as stats\n",
    "\n",
    "# 피어슨 stat을 이용하면 피어슨 상관계수와 p-value값이 출력되는데 상관계수는 양 or 음의 비례관계 정도를, p-value는 상관 정도를 보여준다. (0에 가까울수록 영향이 크다.)\n",
    "def P_value(dataset, c1, c2):\n",
    "    Correlation=stats.pearsonr(dataset[c1], dataset[c2])\n",
    "    print('< '+c1+'-'+c2+' >')\n",
    "    print('P-value ==>> %.3f\\n' %Correlation[1])\n",
    "\n",
    "for p in range(1, len(Data_scaled.columns)-1):\n",
    "    P_value(Data_scaled, Data_scaled.columns[p], 'Won')"
   ]
  },
  {
   "cell_type": "code",
   "execution_count": 9,
   "id": "4ce0ee9a",
   "metadata": {},
   "outputs": [],
   "source": [
    "#Data_P = Data_scaled.drop([Data_scaled.columns[1], Data_scaled.columns[3], Data_scaled.columns[4], Data_scaled.columns[5], Data_scaled.columns[7], Data_scaled.columns[9]], axis=1)\n",
    "Data_P = Data_scaled.loc[:, ['날짜', '검사수', '검사수 증가량', '영업 제한 시각', '평균기온(°C)', '강수여부', '일강수량(mm)', 'Won']]"
   ]
  },
  {
   "cell_type": "code",
   "execution_count": 10,
   "id": "facb50d7",
   "metadata": {},
   "outputs": [
    {
     "data": {
      "text/html": [
       "<div>\n",
       "<style scoped>\n",
       "    .dataframe tbody tr th:only-of-type {\n",
       "        vertical-align: middle;\n",
       "    }\n",
       "\n",
       "    .dataframe tbody tr th {\n",
       "        vertical-align: top;\n",
       "    }\n",
       "\n",
       "    .dataframe thead th {\n",
       "        text-align: right;\n",
       "    }\n",
       "</style>\n",
       "<table border=\"1\" class=\"dataframe\">\n",
       "  <thead>\n",
       "    <tr style=\"text-align: right;\">\n",
       "      <th></th>\n",
       "      <th>날짜</th>\n",
       "      <th>검사수</th>\n",
       "      <th>검사수 증가량</th>\n",
       "      <th>영업 제한 시각</th>\n",
       "      <th>평균기온(°C)</th>\n",
       "      <th>강수여부</th>\n",
       "      <th>일강수량(mm)</th>\n",
       "      <th>Won</th>\n",
       "    </tr>\n",
       "  </thead>\n",
       "  <tbody>\n",
       "    <tr>\n",
       "      <th>0</th>\n",
       "      <td>20210101</td>\n",
       "      <td>0.000000</td>\n",
       "      <td>0.771646</td>\n",
       "      <td>0.0</td>\n",
       "      <td>0.229614</td>\n",
       "      <td>0.0</td>\n",
       "      <td>0.000000</td>\n",
       "      <td>0.000000</td>\n",
       "    </tr>\n",
       "    <tr>\n",
       "      <th>1</th>\n",
       "      <td>20210102</td>\n",
       "      <td>0.002889</td>\n",
       "      <td>0.457038</td>\n",
       "      <td>0.0</td>\n",
       "      <td>0.212446</td>\n",
       "      <td>0.0</td>\n",
       "      <td>0.000000</td>\n",
       "      <td>0.000000</td>\n",
       "    </tr>\n",
       "    <tr>\n",
       "      <th>2</th>\n",
       "      <td>20210103</td>\n",
       "      <td>0.006172</td>\n",
       "      <td>0.522355</td>\n",
       "      <td>0.0</td>\n",
       "      <td>0.199571</td>\n",
       "      <td>0.0</td>\n",
       "      <td>0.000000</td>\n",
       "      <td>0.000000</td>\n",
       "    </tr>\n",
       "    <tr>\n",
       "      <th>3</th>\n",
       "      <td>20210104</td>\n",
       "      <td>0.009259</td>\n",
       "      <td>0.489825</td>\n",
       "      <td>0.0</td>\n",
       "      <td>0.244635</td>\n",
       "      <td>0.0</td>\n",
       "      <td>0.000000</td>\n",
       "      <td>0.190575</td>\n",
       "    </tr>\n",
       "    <tr>\n",
       "      <th>4</th>\n",
       "      <td>20210105</td>\n",
       "      <td>0.014674</td>\n",
       "      <td>0.876487</td>\n",
       "      <td>0.0</td>\n",
       "      <td>0.201717</td>\n",
       "      <td>0.0</td>\n",
       "      <td>0.000000</td>\n",
       "      <td>0.161173</td>\n",
       "    </tr>\n",
       "    <tr>\n",
       "      <th>...</th>\n",
       "      <td>...</td>\n",
       "      <td>...</td>\n",
       "      <td>...</td>\n",
       "      <td>...</td>\n",
       "      <td>...</td>\n",
       "      <td>...</td>\n",
       "      <td>...</td>\n",
       "      <td>...</td>\n",
       "    </tr>\n",
       "    <tr>\n",
       "      <th>321</th>\n",
       "      <td>20211118</td>\n",
       "      <td>0.998948</td>\n",
       "      <td>0.024376</td>\n",
       "      <td>1.0</td>\n",
       "      <td>0.575107</td>\n",
       "      <td>0.0</td>\n",
       "      <td>0.000000</td>\n",
       "      <td>0.245974</td>\n",
       "    </tr>\n",
       "    <tr>\n",
       "      <th>322</th>\n",
       "      <td>20211119</td>\n",
       "      <td>0.999210</td>\n",
       "      <td>0.020707</td>\n",
       "      <td>1.0</td>\n",
       "      <td>0.596567</td>\n",
       "      <td>0.0</td>\n",
       "      <td>0.000000</td>\n",
       "      <td>0.042245</td>\n",
       "    </tr>\n",
       "    <tr>\n",
       "      <th>323</th>\n",
       "      <td>20211120</td>\n",
       "      <td>0.999487</td>\n",
       "      <td>0.023172</td>\n",
       "      <td>1.0</td>\n",
       "      <td>0.542918</td>\n",
       "      <td>0.0</td>\n",
       "      <td>0.000000</td>\n",
       "      <td>0.000000</td>\n",
       "    </tr>\n",
       "    <tr>\n",
       "      <th>324</th>\n",
       "      <td>20211121</td>\n",
       "      <td>0.999756</td>\n",
       "      <td>0.021940</td>\n",
       "      <td>1.0</td>\n",
       "      <td>0.542918</td>\n",
       "      <td>1.0</td>\n",
       "      <td>0.076227</td>\n",
       "      <td>0.000000</td>\n",
       "    </tr>\n",
       "    <tr>\n",
       "      <th>325</th>\n",
       "      <td>20211122</td>\n",
       "      <td>1.000000</td>\n",
       "      <td>0.017741</td>\n",
       "      <td>1.0</td>\n",
       "      <td>0.377682</td>\n",
       "      <td>1.0</td>\n",
       "      <td>0.016796</td>\n",
       "      <td>0.052369</td>\n",
       "    </tr>\n",
       "  </tbody>\n",
       "</table>\n",
       "<p>326 rows × 8 columns</p>\n",
       "</div>"
      ],
      "text/plain": [
       "           날짜       검사수   검사수 증가량  영업 제한 시각  평균기온(°C)  강수여부  일강수량(mm)  \\\n",
       "0    20210101  0.000000  0.771646       0.0  0.229614   0.0  0.000000   \n",
       "1    20210102  0.002889  0.457038       0.0  0.212446   0.0  0.000000   \n",
       "2    20210103  0.006172  0.522355       0.0  0.199571   0.0  0.000000   \n",
       "3    20210104  0.009259  0.489825       0.0  0.244635   0.0  0.000000   \n",
       "4    20210105  0.014674  0.876487       0.0  0.201717   0.0  0.000000   \n",
       "..        ...       ...       ...       ...       ...   ...       ...   \n",
       "321  20211118  0.998948  0.024376       1.0  0.575107   0.0  0.000000   \n",
       "322  20211119  0.999210  0.020707       1.0  0.596567   0.0  0.000000   \n",
       "323  20211120  0.999487  0.023172       1.0  0.542918   0.0  0.000000   \n",
       "324  20211121  0.999756  0.021940       1.0  0.542918   1.0  0.076227   \n",
       "325  20211122  1.000000  0.017741       1.0  0.377682   1.0  0.016796   \n",
       "\n",
       "          Won  \n",
       "0    0.000000  \n",
       "1    0.000000  \n",
       "2    0.000000  \n",
       "3    0.190575  \n",
       "4    0.161173  \n",
       "..        ...  \n",
       "321  0.245974  \n",
       "322  0.042245  \n",
       "323  0.000000  \n",
       "324  0.000000  \n",
       "325  0.052369  \n",
       "\n",
       "[326 rows x 8 columns]"
      ]
     },
     "execution_count": 10,
     "metadata": {},
     "output_type": "execute_result"
    }
   ],
   "source": [
    "Data_P"
   ]
  },
  {
   "cell_type": "markdown",
   "id": "043d8fb9",
   "metadata": {},
   "source": [
    "### 이상치 처리"
   ]
  },
  {
   "cell_type": "code",
   "execution_count": 11,
   "id": "82656f2d",
   "metadata": {},
   "outputs": [],
   "source": [
    "def get_outlier(df=None, column=None, weight=1.5):\n",
    "    quantile_25 = np.percentile(df[column].values, 25)\n",
    "    quantile_40 = np.percentile(df[column].values, 40)\n",
    "    quantile_50 = np.percentile(df[column].values, 50)\n",
    "    quantile_75 = np.percentile(df[column].values, 75)\n",
    "    \n",
    "    IQR = quantile_75 - quantile_25\n",
    "    IQR_weight = IQR * weight\n",
    "    \n",
    "    midlow_val = quantile_40-IQR_weight\n",
    "    lowest_val = quantile_25-IQR_weight\n",
    "    highest_val = quantile_75+IQR_weight\n",
    "    \n",
    "    outlier_index_low = df[column][df[column] < lowest_val].index\n",
    "    outlier_index_midlow = df[column][df[column] < midlow_val].index\n",
    "    outlier_index_high = df[column][df[column] > highest_val].index\n",
    "    \n",
    "    return outlier_index_low, outlier_index_high, quantile_25, quantile_50, quantile_75, outlier_index_midlow, quantile_40"
   ]
  },
  {
   "cell_type": "code",
   "execution_count": 12,
   "id": "91eba6bb",
   "metadata": {},
   "outputs": [
    {
     "name": "stdout",
     "output_type": "stream",
     "text": [
      "Low Outlier ==>> Int64Index([], dtype='int64')\n",
      "\n",
      "High Outlier ==>> Int64Index([  6,  11,  13,  34,  40,  48,  55,  63,  69,  76,  83,  90,  97,\n",
      "            104, 111, 118, 132, 140, 195, 209, 216, 223, 237, 244, 251, 258,\n",
      "            269, 272, 280, 287, 293, 300, 307],\n",
      "           dtype='int64')\n",
      "\n",
      "MidLow Outlier ==>> Int64Index([], dtype='int64')\n",
      "\n",
      "25% Value ==>> 0.0\n",
      "\n",
      "40% Value ==>> 0.031305837886831146\n",
      "\n",
      "50% Value ==>> 0.060951893395508105\n",
      "\n",
      "75% Value ==>> 0.11486601958932308\n"
     ]
    }
   ],
   "source": [
    "print('Low Outlier ==>> {}\\n'.format(get_outlier(df=Data_P, column='Won', weight=1.5)[0]))\n",
    "print('High Outlier ==>> {}\\n'.format(get_outlier(df=Data_P, column='Won', weight=1.5)[1]))\n",
    "print('MidLow Outlier ==>> {}\\n'.format(get_outlier(df=Data_P, column='Won', weight=1.5)[5]))\n",
    "\n",
    "print('25% Value ==>> {}\\n'.format(get_outlier(df=Data_P, column='Won', weight=1.5)[2]))\n",
    "print('40% Value ==>> {}\\n'.format(get_outlier(df=Data_P, column='Won', weight=1.5)[6]))\n",
    "print('50% Value ==>> {}\\n'.format(get_outlier(df=Data_P, column='Won', weight=1.5)[3]))\n",
    "print('75% Value ==>> {}'.format(get_outlier(df=Data_P, column='Won', weight=1.5)[4]))"
   ]
  },
  {
   "cell_type": "code",
   "execution_count": 13,
   "id": "bee017ed",
   "metadata": {},
   "outputs": [
    {
     "data": {
      "text/plain": [
       "\"\\nfor sw in range(len(Data_P['Won'])):\\n    if (Data_P['Won'][sw]==0.000000):\\n        Data_P['Won'][sw]=get_outlier(df=Data_P, column='Won', weight=1.5)[6]\\n    else:\\n        pass\\n\""
      ]
     },
     "execution_count": 13,
     "metadata": {},
     "output_type": "execute_result"
    }
   ],
   "source": [
    "\"\"\"\n",
    "for sw in range(len(Data_P['Won'])):\n",
    "    if (Data_P['Won'][sw]==0.000000):\n",
    "        Data_P['Won'][sw]=get_outlier(df=Data_P, column='Won', weight=1.5)[6]\n",
    "    else:\n",
    "        pass\n",
    "\"\"\""
   ]
  },
  {
   "cell_type": "code",
   "execution_count": 14,
   "id": "fd009cc7",
   "metadata": {},
   "outputs": [
    {
     "data": {
      "text/plain": [
       "\"\\nhigh_val = get_outlier(df=Data_P, column='Won', weight=1.5)[1].values.tolist()\\n\\nfor l in range(len(high_val)):\\n    Data_P['Won'][high_val[l]] = get_outlier(df=Data_P, column='Won', weight=1.5)[4]\\n    \""
      ]
     },
     "execution_count": 14,
     "metadata": {},
     "output_type": "execute_result"
    }
   ],
   "source": [
    "\"\"\"\n",
    "high_val = get_outlier(df=Data_P, column='Won', weight=1.5)[1].values.tolist()\n",
    "\n",
    "for l in range(len(high_val)):\n",
    "    Data_P['Won'][high_val[l]] = get_outlier(df=Data_P, column='Won', weight=1.5)[4]\n",
    "    \"\"\""
   ]
  },
  {
   "cell_type": "code",
   "execution_count": 15,
   "id": "e678ecf9",
   "metadata": {},
   "outputs": [
    {
     "name": "stdout",
     "output_type": "stream",
     "text": [
      "Quantity of Low Outlier ==>> 0\n",
      "\n",
      "Quantity of High Outlier ==>> 33\n",
      "\n"
     ]
    }
   ],
   "source": [
    "print('Quantity of Low Outlier ==>> {}\\n'.format(len(get_outlier(df=Data_P, column='Won', weight=1.5)[0])))\n",
    "print('Quantity of High Outlier ==>> {}\\n'.format(len(get_outlier(df=Data_P, column='Won', weight=1.5)[1])))"
   ]
  },
  {
   "cell_type": "markdown",
   "id": "8395aaba",
   "metadata": {},
   "source": [
    "### 7. 데이터셋 편집"
   ]
  },
  {
   "cell_type": "code",
   "execution_count": 16,
   "id": "ee1957fe",
   "metadata": {},
   "outputs": [],
   "source": [
    "TEST_SIZE = 20  # 10일치를 테스트셋으로 사용\n",
    "WINDOW_SIZE = 1 # 얼마 동안의 과거 기반의 데이터에 기반하여 다음날의 값을 예측할 것인지 설정. \n",
    "\n",
    "train = Data_P[:-TEST_SIZE]\n",
    "test= Data_P[-TEST_SIZE:]"
   ]
  },
  {
   "cell_type": "code",
   "execution_count": 17,
   "id": "156c49e5",
   "metadata": {},
   "outputs": [],
   "source": [
    "test = test.reset_index(drop=True) # 인덱스 초기화"
   ]
  },
  {
   "cell_type": "code",
   "execution_count": 18,
   "id": "68b2123f",
   "metadata": {},
   "outputs": [],
   "source": [
    "from sklearn.model_selection import train_test_split\n",
    "\n",
    "feature_cols = ['검사수', '검사수 증가량', '영업 제한 시각', '평균기온(°C)', '강수여부', '일강수량(mm)', 'Won']\n",
    "label_cols = ['Won']\n",
    "\n",
    "train_feature = train[feature_cols]\n",
    "train_label = train[label_cols]\n",
    "\n",
    "x_train, x_valid, y_train, y_valid = train_test_split(train_feature, train_label, test_size=0.2, random_state=0, shuffle=False)"
   ]
  },
  {
   "cell_type": "code",
   "execution_count": 19,
   "id": "5f1c1da0",
   "metadata": {},
   "outputs": [],
   "source": [
    "def windowed_dataset(series, window_size, batch_size, shuffle):\n",
    "    series = tf.expand_dims(series, axis=-1)\n",
    "    ds = tf.data.Dataset.from_tensor_slices(series)\n",
    "    ds = ds.window(window_size + 1, shift=1, drop_remainder=True)\n",
    "    ds = ds.flat_map(lambda w: w.batch(window_size + 1))\n",
    "    if shuffle:\n",
    "        ds = ds.shuffle(1000)\n",
    "    ds = ds.map(lambda w: (w[:-1], w[-1]))\n",
    "    return ds.batch(batch_size).prefetch(1)"
   ]
  },
  {
   "cell_type": "code",
   "execution_count": 20,
   "id": "801a3128",
   "metadata": {},
   "outputs": [],
   "source": [
    "WINDOW_SIZE=1\n",
    "BATCH_SIZE=256"
   ]
  },
  {
   "cell_type": "code",
   "execution_count": 21,
   "id": "f5741c7c",
   "metadata": {},
   "outputs": [],
   "source": [
    "train_data = windowed_dataset(y_train, WINDOW_SIZE, BATCH_SIZE, False) # 학습도 셔플 안해야 맞는게 아닌가??\n",
    "valid_data = windowed_dataset(y_valid, WINDOW_SIZE, BATCH_SIZE, False)"
   ]
  },
  {
   "cell_type": "code",
   "execution_count": 22,
   "id": "00efa566",
   "metadata": {},
   "outputs": [
    {
     "name": "stdout",
     "output_type": "stream",
     "text": [
      "데이터셋(X) 구성(batch_size, window_size, feature갯수): (243, 1, 1, 1)\n",
      "데이터셋(Y) 구성(batch_size, window_size, feature갯수): (243, 1, 1)\n"
     ]
    }
   ],
   "source": [
    "for data in train_data.take(1):\n",
    "    print(f'데이터셋(X) 구성(batch_size, window_size, feature갯수): {data[0].shape}')\n",
    "    print(f'데이터셋(Y) 구성(batch_size, window_size, feature갯수): {data[1].shape}')"
   ]
  },
  {
   "cell_type": "markdown",
   "id": "0249c42f",
   "metadata": {},
   "source": [
    "### 8. 딥러닝 모델"
   ]
  },
  {
   "cell_type": "code",
   "execution_count": 23,
   "id": "170ade62",
   "metadata": {},
   "outputs": [
    {
     "data": {
      "text/plain": [
       "'\\n- initial_learning_rate : 최초의 학습률\\n- first_decay_steps : (첫 주기의 감쇄가 진행되는 총 스텝 수) 최초의 주기 길이\\n- t_mul : 주기 T를 늘려갈 비율 (첫 주기가 100step이면 그 다음은 200step, 그 다음은 400step...)\\n- m_mul : 최초 학습률로 설정한 값에 매 주기마다 곱해줄 값 (0.9라면 매 주기 시작마다 initial_learning_rate에 0.9 i\\n (i는 주기 인덱스)만큼 곱한 값을 주기 시작 학습률로써 사용한다.)\\n- alpha : 학습률의 하한을 설정하기위한 파라미터로 학습률의 감소 하한은 initial_learning_rate * alpha가 된다.\\n'"
      ]
     },
     "execution_count": 23,
     "metadata": {},
     "output_type": "execute_result"
    }
   ],
   "source": [
    "\"\"\"\n",
    "- initial_learning_rate : 최초의 학습률\n",
    "- first_decay_steps : (첫 주기의 감쇄가 진행되는 총 스텝 수) 최초의 주기 길이\n",
    "- t_mul : 주기 T를 늘려갈 비율 (첫 주기가 100step이면 그 다음은 200step, 그 다음은 400step...)\n",
    "- m_mul : 최초 학습률로 설정한 값에 매 주기마다 곱해줄 값 (0.9라면 매 주기 시작마다 initial_learning_rate에 0.9 i\n",
    " (i는 주기 인덱스)만큼 곱한 값을 주기 시작 학습률로써 사용한다.)\n",
    "- alpha : 학습률의 하한을 설정하기위한 파라미터로 학습률의 감소 하한은 initial_learning_rate * alpha가 된다.\n",
    "\"\"\""
   ]
  },
  {
   "cell_type": "code",
   "execution_count": 24,
   "id": "5d36cde6",
   "metadata": {},
   "outputs": [],
   "source": [
    "lr_CosineDecay = tf.keras.experimental.CosineDecayRestarts(0.005, 5, t_mul=2.0, m_mul=0.9, alpha=0.2, name=None)"
   ]
  },
  {
   "cell_type": "code",
   "execution_count": 25,
   "id": "79fdd673",
   "metadata": {},
   "outputs": [
    {
     "name": "stdout",
     "output_type": "stream",
     "text": [
      "Model: \"sequential\"\n",
      "_________________________________________________________________\n",
      " Layer (type)                Output Shape              Param #   \n",
      "=================================================================\n",
      " conv1d (Conv1D)             (None, 1, 16)             32        \n",
      "                                                                 \n",
      " time_distributed (TimeDistr  (None, 1, 16)            272       \n",
      " ibuted)                                                         \n",
      "                                                                 \n",
      " bidirectional (Bidirectiona  (None, 1, 32)            4224      \n",
      " l)                                                              \n",
      "                                                                 \n",
      " bidirectional_1 (Bidirectio  (None, 1, 32)            6272      \n",
      " nal)                                                            \n",
      "                                                                 \n",
      " lstm_2 (LSTM)               (None, 8)                 1312      \n",
      "                                                                 \n",
      " dense_1 (Dense)             (None, 1)                 9         \n",
      "                                                                 \n",
      "=================================================================\n",
      "Total params: 12,121\n",
      "Trainable params: 12,121\n",
      "Non-trainable params: 0\n",
      "_________________________________________________________________\n"
     ]
    }
   ],
   "source": [
    "from tensorflow.keras.models import Sequential\n",
    "from tensorflow.keras.layers import Dense, Dropout, Flatten, Conv1D, MaxPooling1D\n",
    "from tensorflow.keras.callbacks import EarlyStopping, ModelCheckpoint\n",
    "from tensorflow.keras.layers import LSTM\n",
    "from tensorflow.keras.layers import Bidirectional\n",
    "from keras.layers.wrappers import TimeDistributed\n",
    "from tensorflow.keras.utils import plot_model\n",
    "import keras\n",
    "\n",
    "#32-32-16-16-8-1\n",
    "model = Sequential([\n",
    "    Conv1D(filters=16, kernel_size=1, padding=\"causal\", input_shape=[WINDOW_SIZE, 1]),\n",
    "    TimeDistributed(Dense(16)),\n",
    "    Bidirectional(LSTM(16, return_sequences=True), merge_mode='concat'),\n",
    "    Bidirectional(LSTM(16, return_sequences=True), merge_mode='concat'),\n",
    "    LSTM(8, return_sequences = False),\n",
    "    #LSTM(16, return_sequences = False),\n",
    "    Dense(1)\n",
    "                    ])\n",
    "\n",
    "model.summary()\n",
    "\n",
    "#Adam_Cosine = tf.keras.optimizers.Adam(learning_rate=lr_CosineDecay, amsgrad=False)\n",
    "#model.compile(loss='mean_squared_error', optimizer=Adam_Cosine)\n",
    "model.compile(loss='mean_squared_error', optimizer=\"Adam\")"
   ]
  },
  {
   "cell_type": "code",
   "execution_count": 39,
   "id": "c11aaf45",
   "metadata": {},
   "outputs": [
    {
     "name": "stdout",
     "output_type": "stream",
     "text": [
      "Model: \"sequential_2\"\n",
      "_________________________________________________________________\n",
      " Layer (type)                Output Shape              Param #   \n",
      "=================================================================\n",
      " dense_5 (Dense)             (None, 1, 16)             32        \n",
      "                                                                 \n",
      " dropout (Dropout)           (None, 1, 16)             0         \n",
      "                                                                 \n",
      " dense_6 (Dense)             (None, 1, 8)              136       \n",
      "                                                                 \n",
      " dense_7 (Dense)             (None, 1, 1)              9         \n",
      "                                                                 \n",
      "=================================================================\n",
      "Total params: 177\n",
      "Trainable params: 177\n",
      "Non-trainable params: 0\n",
      "_________________________________________________________________\n"
     ]
    }
   ],
   "source": [
    "from tensorflow.keras.models import Sequential\n",
    "from tensorflow.keras.layers import Dense, Dropout, Flatten, Conv1D, MaxPooling1D\n",
    "from tensorflow.keras.callbacks import EarlyStopping, ModelCheckpoint\n",
    "from tensorflow.keras.layers import LSTM\n",
    "from tensorflow.keras.layers import Bidirectional\n",
    "from keras.layers.wrappers import TimeDistributed\n",
    "from tensorflow.keras.utils import plot_model\n",
    "import keras\n",
    "\n",
    "#32-32-16-16-8-1\n",
    "model = Sequential([\n",
    "    Dense(16, activation='relu', input_shape=[WINDOW_SIZE, 1]),\n",
    "    Dropout(0.2),\n",
    "    Dense(8, activation='relu'),\n",
    "    #LSTM(16, return_sequences = False),\n",
    "    Dense(1)\n",
    "                    ])\n",
    "\n",
    "model.summary()\n",
    "\n",
    "#Adam_Cosine = tf.keras.optimizers.Adam(learning_rate=lr_CosineDecay, amsgrad=False)\n",
    "#model.compile(loss='mean_squared_error', optimizer=Adam_Cosine)\n",
    "model.compile(loss='mean_squared_error', optimizer=\"Adam\", metrics=['mae', 'mse'])"
   ]
  },
  {
   "cell_type": "markdown",
   "id": "cd6964ab",
   "metadata": {},
   "source": [
    "#### Plot model 저장"
   ]
  },
  {
   "cell_type": "code",
   "execution_count": 40,
   "id": "82e93e66",
   "metadata": {},
   "outputs": [
    {
     "data": {
      "image/png": "[encoded data removed]",
      "text/plain": [
       "<IPython.core.display.Image object>"
      ]
     },
     "execution_count": 40,
     "metadata": {},
     "output_type": "execute_result"
    }
   ],
   "source": [
    "from keras.utils.vis_utils import plot_model\n",
    "import pydot\n",
    "import pydotplus\n",
    "import graphviz\n",
    "\n",
    "plot_model(model, to_file='./Result/CNN+LSTM/model.png')\n",
    "plot_model(model, to_file='./Result/CNN+LSTM/model_shapes.png', show_shapes=True)"
   ]
  },
  {
   "cell_type": "markdown",
   "id": "e4aa6030",
   "metadata": {},
   "source": [
    "#### 학습"
   ]
  },
  {
   "cell_type": "code",
   "execution_count": 41,
   "id": "d18415fc",
   "metadata": {},
   "outputs": [
    {
     "name": "stdout",
     "output_type": "stream",
     "text": [
      "Epoch 1/50\n",
      "      1/Unknown - 0s 328ms/step - loss: 0.0251 - mae: 0.0950 - mse: 0.0251\n",
      "Epoch 00001: val_loss improved from inf to 0.02325, saving model to model\\tmp_checkpoint_Covid.h5\n",
      "1/1 [==============================] - 1s 541ms/step - loss: 0.0251 - mae: 0.0950 - mse: 0.0251 - val_loss: 0.0233 - val_mae: 0.0972 - val_mse: 0.0233\n",
      "Epoch 2/50\n",
      "1/1 [==============================] - ETA: 0s - loss: 0.0250 - mae: 0.0954 - mse: 0.0250\n",
      "Epoch 00002: val_loss improved from 0.02325 to 0.02283, saving model to model\\tmp_checkpoint_Covid.h5\n",
      "1/1 [==============================] - 0s 62ms/step - loss: 0.0250 - mae: 0.0954 - mse: 0.0250 - val_loss: 0.0228 - val_mae: 0.0976 - val_mse: 0.0228\n",
      "Epoch 3/50\n",
      "1/1 [==============================] - ETA: 0s - loss: 0.0244 - mae: 0.0960 - mse: 0.0244\n",
      "Epoch 00003: val_loss improved from 0.02283 to 0.02244, saving model to model\\tmp_checkpoint_Covid.h5\n",
      "1/1 [==============================] - 0s 63ms/step - loss: 0.0244 - mae: 0.0960 - mse: 0.0244 - val_loss: 0.0224 - val_mae: 0.0979 - val_mse: 0.0224\n",
      "Epoch 4/50\n",
      "1/1 [==============================] - ETA: 0s - loss: 0.0243 - mae: 0.0969 - mse: 0.0243\n",
      "Epoch 00004: val_loss improved from 0.02244 to 0.02210, saving model to model\\tmp_checkpoint_Covid.h5\n",
      "1/1 [==============================] - 0s 67ms/step - loss: 0.0243 - mae: 0.0969 - mse: 0.0243 - val_loss: 0.0221 - val_mae: 0.0983 - val_mse: 0.0221\n",
      "Epoch 5/50\n",
      "1/1 [==============================] - ETA: 0s - loss: 0.0248 - mae: 0.0967 - mse: 0.0248\n",
      "Epoch 00005: val_loss improved from 0.02210 to 0.02181, saving model to model\\tmp_checkpoint_Covid.h5\n",
      "1/1 [==============================] - 0s 62ms/step - loss: 0.0248 - mae: 0.0967 - mse: 0.0248 - val_loss: 0.0218 - val_mae: 0.0988 - val_mse: 0.0218\n",
      "Epoch 6/50\n",
      "1/1 [==============================] - ETA: 0s - loss: 0.0239 - mae: 0.0974 - mse: 0.0239\n",
      "Epoch 00006: val_loss improved from 0.02181 to 0.02155, saving model to model\\tmp_checkpoint_Covid.h5\n",
      "1/1 [==============================] - 0s 61ms/step - loss: 0.0239 - mae: 0.0974 - mse: 0.0239 - val_loss: 0.0216 - val_mae: 0.0994 - val_mse: 0.0216\n",
      "Epoch 7/50\n",
      "1/1 [==============================] - ETA: 0s - loss: 0.0241 - mae: 0.0987 - mse: 0.0241\n",
      "Epoch 00007: val_loss improved from 0.02155 to 0.02133, saving model to model\\tmp_checkpoint_Covid.h5\n",
      "1/1 [==============================] - 0s 64ms/step - loss: 0.0241 - mae: 0.0987 - mse: 0.0241 - val_loss: 0.0213 - val_mae: 0.1001 - val_mse: 0.0213\n",
      "Epoch 8/50\n",
      "1/1 [==============================] - ETA: 0s - loss: 0.0239 - mae: 0.0985 - mse: 0.0239\n",
      "Epoch 00008: val_loss improved from 0.02133 to 0.02115, saving model to model\\tmp_checkpoint_Covid.h5\n",
      "1/1 [==============================] - 0s 67ms/step - loss: 0.0239 - mae: 0.0985 - mse: 0.0239 - val_loss: 0.0211 - val_mae: 0.1009 - val_mse: 0.0211\n",
      "Epoch 9/50\n",
      "1/1 [==============================] - ETA: 0s - loss: 0.0228 - mae: 0.0973 - mse: 0.0228\n",
      "Epoch 00009: val_loss improved from 0.02115 to 0.02099, saving model to model\\tmp_checkpoint_Covid.h5\n",
      "1/1 [==============================] - 0s 65ms/step - loss: 0.0228 - mae: 0.0973 - mse: 0.0228 - val_loss: 0.0210 - val_mae: 0.1016 - val_mse: 0.0210\n",
      "Epoch 10/50\n",
      "1/1 [==============================] - ETA: 0s - loss: 0.0232 - mae: 0.0992 - mse: 0.0232\n",
      "Epoch 00010: val_loss improved from 0.02099 to 0.02087, saving model to model\\tmp_checkpoint_Covid.h5\n",
      "1/1 [==============================] - 0s 62ms/step - loss: 0.0232 - mae: 0.0992 - mse: 0.0232 - val_loss: 0.0209 - val_mae: 0.1023 - val_mse: 0.0209\n",
      "Epoch 11/50\n",
      "1/1 [==============================] - ETA: 0s - loss: 0.0226 - mae: 0.0975 - mse: 0.0226\n",
      "Epoch 00011: val_loss improved from 0.02087 to 0.02077, saving model to model\\tmp_checkpoint_Covid.h5\n",
      "1/1 [==============================] - 0s 63ms/step - loss: 0.0226 - mae: 0.0975 - mse: 0.0226 - val_loss: 0.0208 - val_mae: 0.1030 - val_mse: 0.0208\n",
      "Epoch 12/50\n",
      "1/1 [==============================] - ETA: 0s - loss: 0.0224 - mae: 0.0980 - mse: 0.0224\n",
      "Epoch 00012: val_loss improved from 0.02077 to 0.02068, saving model to model\\tmp_checkpoint_Covid.h5\n",
      "1/1 [==============================] - 0s 64ms/step - loss: 0.0224 - mae: 0.0980 - mse: 0.0224 - val_loss: 0.0207 - val_mae: 0.1036 - val_mse: 0.0207\n",
      "Epoch 13/50\n",
      "1/1 [==============================] - ETA: 0s - loss: 0.0227 - mae: 0.0991 - mse: 0.0227\n",
      "Epoch 00013: val_loss improved from 0.02068 to 0.02060, saving model to model\\tmp_checkpoint_Covid.h5\n",
      "1/1 [==============================] - 0s 63ms/step - loss: 0.0227 - mae: 0.0991 - mse: 0.0227 - val_loss: 0.0206 - val_mae: 0.1041 - val_mse: 0.0206\n",
      "Epoch 14/50\n",
      "1/1 [==============================] - ETA: 0s - loss: 0.0232 - mae: 0.1016 - mse: 0.0232\n",
      "Epoch 00014: val_loss improved from 0.02060 to 0.02052, saving model to model\\tmp_checkpoint_Covid.h5\n",
      "1/1 [==============================] - 0s 69ms/step - loss: 0.0232 - mae: 0.1016 - mse: 0.0232 - val_loss: 0.0205 - val_mae: 0.1046 - val_mse: 0.0205\n",
      "Epoch 15/50\n",
      "1/1 [==============================] - ETA: 0s - loss: 0.0226 - mae: 0.1001 - mse: 0.0226\n",
      "Epoch 00015: val_loss improved from 0.02052 to 0.02044, saving model to model\\tmp_checkpoint_Covid.h5\n",
      "1/1 [==============================] - 0s 63ms/step - loss: 0.0226 - mae: 0.1001 - mse: 0.0226 - val_loss: 0.0204 - val_mae: 0.1049 - val_mse: 0.0204\n",
      "Epoch 16/50\n",
      "1/1 [==============================] - ETA: 0s - loss: 0.0224 - mae: 0.0999 - mse: 0.0224\n",
      "Epoch 00016: val_loss improved from 0.02044 to 0.02037, saving model to model\\tmp_checkpoint_Covid.h5\n",
      "1/1 [==============================] - 0s 61ms/step - loss: 0.0224 - mae: 0.0999 - mse: 0.0224 - val_loss: 0.0204 - val_mae: 0.1051 - val_mse: 0.0204\n",
      "Epoch 17/50\n",
      "1/1 [==============================] - ETA: 0s - loss: 0.0219 - mae: 0.0999 - mse: 0.0219\n",
      "Epoch 00017: val_loss improved from 0.02037 to 0.02029, saving model to model\\tmp_checkpoint_Covid.h5\n",
      "1/1 [==============================] - 0s 64ms/step - loss: 0.0219 - mae: 0.0999 - mse: 0.0219 - val_loss: 0.0203 - val_mae: 0.1052 - val_mse: 0.0203\n",
      "Epoch 18/50\n",
      "1/1 [==============================] - ETA: 0s - loss: 0.0218 - mae: 0.1004 - mse: 0.0218\n",
      "Epoch 00018: val_loss improved from 0.02029 to 0.02020, saving model to model\\tmp_checkpoint_Covid.h5\n",
      "1/1 [==============================] - 0s 64ms/step - loss: 0.0218 - mae: 0.1004 - mse: 0.0218 - val_loss: 0.0202 - val_mae: 0.1052 - val_mse: 0.0202\n",
      "Epoch 19/50\n",
      "1/1 [==============================] - ETA: 0s - loss: 0.0227 - mae: 0.1023 - mse: 0.0227\n",
      "Epoch 00019: val_loss improved from 0.02020 to 0.02010, saving model to model\\tmp_checkpoint_Covid.h5\n",
      "1/1 [==============================] - 0s 65ms/step - loss: 0.0227 - mae: 0.1023 - mse: 0.0227 - val_loss: 0.0201 - val_mae: 0.1050 - val_mse: 0.0201\n",
      "Epoch 20/50\n",
      "1/1 [==============================] - ETA: 0s - loss: 0.0226 - mae: 0.1030 - mse: 0.0226\n",
      "Epoch 00020: val_loss improved from 0.02010 to 0.01998, saving model to model\\tmp_checkpoint_Covid.h5\n",
      "1/1 [==============================] - 0s 63ms/step - loss: 0.0226 - mae: 0.1030 - mse: 0.0226 - val_loss: 0.0200 - val_mae: 0.1047 - val_mse: 0.0200\n",
      "Epoch 21/50\n",
      "1/1 [==============================] - ETA: 0s - loss: 0.0218 - mae: 0.0995 - mse: 0.0218\n",
      "Epoch 00021: val_loss improved from 0.01998 to 0.01987, saving model to model\\tmp_checkpoint_Covid.h5\n",
      "1/1 [==============================] - 0s 63ms/step - loss: 0.0218 - mae: 0.0995 - mse: 0.0218 - val_loss: 0.0199 - val_mae: 0.1043 - val_mse: 0.0199\n",
      "Epoch 22/50\n",
      "1/1 [==============================] - ETA: 0s - loss: 0.0219 - mae: 0.0999 - mse: 0.0219\n",
      "Epoch 00022: val_loss improved from 0.01987 to 0.01975, saving model to model\\tmp_checkpoint_Covid.h5\n",
      "1/1 [==============================] - 0s 67ms/step - loss: 0.0219 - mae: 0.0999 - mse: 0.0219 - val_loss: 0.0198 - val_mae: 0.1038 - val_mse: 0.0198\n",
      "Epoch 23/50\n",
      "1/1 [==============================] - ETA: 0s - loss: 0.0211 - mae: 0.0990 - mse: 0.0211\n",
      "Epoch 00023: val_loss improved from 0.01975 to 0.01964, saving model to model\\tmp_checkpoint_Covid.h5\n",
      "1/1 [==============================] - 0s 65ms/step - loss: 0.0211 - mae: 0.0990 - mse: 0.0211 - val_loss: 0.0196 - val_mae: 0.1033 - val_mse: 0.0196\n",
      "Epoch 24/50\n"
     ]
    },
    {
     "name": "stdout",
     "output_type": "stream",
     "text": [
      "1/1 [==============================] - ETA: 0s - loss: 0.0220 - mae: 0.0988 - mse: 0.0220\n",
      "Epoch 00024: val_loss improved from 0.01964 to 0.01952, saving model to model\\tmp_checkpoint_Covid.h5\n",
      "1/1 [==============================] - 0s 62ms/step - loss: 0.0220 - mae: 0.0988 - mse: 0.0220 - val_loss: 0.0195 - val_mae: 0.1027 - val_mse: 0.0195\n",
      "Epoch 25/50\n",
      "1/1 [==============================] - ETA: 0s - loss: 0.0221 - mae: 0.1005 - mse: 0.0221\n",
      "Epoch 00025: val_loss improved from 0.01952 to 0.01941, saving model to model\\tmp_checkpoint_Covid.h5\n",
      "1/1 [==============================] - 0s 63ms/step - loss: 0.0221 - mae: 0.1005 - mse: 0.0221 - val_loss: 0.0194 - val_mae: 0.1021 - val_mse: 0.0194\n",
      "Epoch 26/50\n",
      "1/1 [==============================] - ETA: 0s - loss: 0.0212 - mae: 0.0976 - mse: 0.0212\n",
      "Epoch 00026: val_loss improved from 0.01941 to 0.01929, saving model to model\\tmp_checkpoint_Covid.h5\n",
      "1/1 [==============================] - 0s 62ms/step - loss: 0.0212 - mae: 0.0976 - mse: 0.0212 - val_loss: 0.0193 - val_mae: 0.1015 - val_mse: 0.0193\n",
      "Epoch 27/50\n",
      "1/1 [==============================] - ETA: 0s - loss: 0.0215 - mae: 0.0988 - mse: 0.0215\n",
      "Epoch 00027: val_loss improved from 0.01929 to 0.01918, saving model to model\\tmp_checkpoint_Covid.h5\n",
      "1/1 [==============================] - 0s 66ms/step - loss: 0.0215 - mae: 0.0988 - mse: 0.0215 - val_loss: 0.0192 - val_mae: 0.1008 - val_mse: 0.0192\n",
      "Epoch 28/50\n",
      "1/1 [==============================] - ETA: 0s - loss: 0.0221 - mae: 0.0992 - mse: 0.0221\n",
      "Epoch 00028: val_loss improved from 0.01918 to 0.01907, saving model to model\\tmp_checkpoint_Covid.h5\n",
      "1/1 [==============================] - 0s 64ms/step - loss: 0.0221 - mae: 0.0992 - mse: 0.0221 - val_loss: 0.0191 - val_mae: 0.1002 - val_mse: 0.0191\n",
      "Epoch 29/50\n",
      "1/1 [==============================] - ETA: 0s - loss: 0.0208 - mae: 0.0941 - mse: 0.0208\n",
      "Epoch 00029: val_loss improved from 0.01907 to 0.01897, saving model to model\\tmp_checkpoint_Covid.h5\n",
      "1/1 [==============================] - 0s 61ms/step - loss: 0.0208 - mae: 0.0941 - mse: 0.0208 - val_loss: 0.0190 - val_mae: 0.0996 - val_mse: 0.0190\n",
      "Epoch 30/50\n",
      "1/1 [==============================] - ETA: 0s - loss: 0.0205 - mae: 0.0952 - mse: 0.0205\n",
      "Epoch 00030: val_loss improved from 0.01897 to 0.01888, saving model to model\\tmp_checkpoint_Covid.h5\n",
      "1/1 [==============================] - 0s 69ms/step - loss: 0.0205 - mae: 0.0952 - mse: 0.0205 - val_loss: 0.0189 - val_mae: 0.0991 - val_mse: 0.0189\n",
      "Epoch 31/50\n",
      "1/1 [==============================] - ETA: 0s - loss: 0.0211 - mae: 0.0964 - mse: 0.0211\n",
      "Epoch 00031: val_loss improved from 0.01888 to 0.01879, saving model to model\\tmp_checkpoint_Covid.h5\n",
      "1/1 [==============================] - 0s 73ms/step - loss: 0.0211 - mae: 0.0964 - mse: 0.0211 - val_loss: 0.0188 - val_mae: 0.0986 - val_mse: 0.0188\n",
      "Epoch 32/50\n",
      "1/1 [==============================] - ETA: 0s - loss: 0.0215 - mae: 0.0970 - mse: 0.0215\n",
      "Epoch 00032: val_loss improved from 0.01879 to 0.01870, saving model to model\\tmp_checkpoint_Covid.h5\n",
      "1/1 [==============================] - 0s 70ms/step - loss: 0.0215 - mae: 0.0970 - mse: 0.0215 - val_loss: 0.0187 - val_mae: 0.0981 - val_mse: 0.0187\n",
      "Epoch 33/50\n",
      "1/1 [==============================] - ETA: 0s - loss: 0.0203 - mae: 0.0943 - mse: 0.0203\n",
      "Epoch 00033: val_loss improved from 0.01870 to 0.01861, saving model to model\\tmp_checkpoint_Covid.h5\n",
      "1/1 [==============================] - 0s 63ms/step - loss: 0.0203 - mae: 0.0943 - mse: 0.0203 - val_loss: 0.0186 - val_mae: 0.0977 - val_mse: 0.0186\n",
      "Epoch 34/50\n",
      "1/1 [==============================] - ETA: 0s - loss: 0.0209 - mae: 0.0953 - mse: 0.0209\n",
      "Epoch 00034: val_loss improved from 0.01861 to 0.01853, saving model to model\\tmp_checkpoint_Covid.h5\n",
      "1/1 [==============================] - 0s 69ms/step - loss: 0.0209 - mae: 0.0953 - mse: 0.0209 - val_loss: 0.0185 - val_mae: 0.0973 - val_mse: 0.0185\n",
      "Epoch 35/50\n",
      "1/1 [==============================] - ETA: 0s - loss: 0.0208 - mae: 0.0943 - mse: 0.0208\n",
      "Epoch 00035: val_loss improved from 0.01853 to 0.01845, saving model to model\\tmp_checkpoint_Covid.h5\n",
      "1/1 [==============================] - 0s 63ms/step - loss: 0.0208 - mae: 0.0943 - mse: 0.0208 - val_loss: 0.0185 - val_mae: 0.0969 - val_mse: 0.0185\n",
      "Epoch 36/50\n",
      "1/1 [==============================] - ETA: 0s - loss: 0.0207 - mae: 0.0951 - mse: 0.0207\n",
      "Epoch 00036: val_loss improved from 0.01845 to 0.01838, saving model to model\\tmp_checkpoint_Covid.h5\n",
      "1/1 [==============================] - 0s 62ms/step - loss: 0.0207 - mae: 0.0951 - mse: 0.0207 - val_loss: 0.0184 - val_mae: 0.0967 - val_mse: 0.0184\n",
      "Epoch 37/50\n",
      "1/1 [==============================] - ETA: 0s - loss: 0.0204 - mae: 0.0942 - mse: 0.0204\n",
      "Epoch 00037: val_loss improved from 0.01838 to 0.01832, saving model to model\\tmp_checkpoint_Covid.h5\n",
      "1/1 [==============================] - 0s 62ms/step - loss: 0.0204 - mae: 0.0942 - mse: 0.0204 - val_loss: 0.0183 - val_mae: 0.0965 - val_mse: 0.0183\n",
      "Epoch 38/50\n",
      "1/1 [==============================] - ETA: 0s - loss: 0.0207 - mae: 0.0950 - mse: 0.0207\n",
      "Epoch 00038: val_loss improved from 0.01832 to 0.01826, saving model to model\\tmp_checkpoint_Covid.h5\n",
      "1/1 [==============================] - 0s 62ms/step - loss: 0.0207 - mae: 0.0950 - mse: 0.0207 - val_loss: 0.0183 - val_mae: 0.0964 - val_mse: 0.0183\n",
      "Epoch 39/50\n",
      "1/1 [==============================] - ETA: 0s - loss: 0.0206 - mae: 0.0944 - mse: 0.0206\n",
      "Epoch 00039: val_loss improved from 0.01826 to 0.01821, saving model to model\\tmp_checkpoint_Covid.h5\n",
      "1/1 [==============================] - 0s 64ms/step - loss: 0.0206 - mae: 0.0944 - mse: 0.0206 - val_loss: 0.0182 - val_mae: 0.0963 - val_mse: 0.0182\n",
      "Epoch 40/50\n",
      "1/1 [==============================] - ETA: 0s - loss: 0.0200 - mae: 0.0930 - mse: 0.0200\n",
      "Epoch 00040: val_loss improved from 0.01821 to 0.01817, saving model to model\\tmp_checkpoint_Covid.h5\n",
      "1/1 [==============================] - 0s 65ms/step - loss: 0.0200 - mae: 0.0930 - mse: 0.0200 - val_loss: 0.0182 - val_mae: 0.0963 - val_mse: 0.0182\n",
      "Epoch 41/50\n",
      "1/1 [==============================] - ETA: 0s - loss: 0.0202 - mae: 0.0934 - mse: 0.0202\n",
      "Epoch 00041: val_loss improved from 0.01817 to 0.01812, saving model to model\\tmp_checkpoint_Covid.h5\n",
      "1/1 [==============================] - 0s 71ms/step - loss: 0.0202 - mae: 0.0934 - mse: 0.0202 - val_loss: 0.0181 - val_mae: 0.0962 - val_mse: 0.0181\n",
      "Epoch 42/50\n",
      "1/1 [==============================] - ETA: 0s - loss: 0.0198 - mae: 0.0930 - mse: 0.0198\n",
      "Epoch 00042: val_loss improved from 0.01812 to 0.01808, saving model to model\\tmp_checkpoint_Covid.h5\n",
      "1/1 [==============================] - 0s 64ms/step - loss: 0.0198 - mae: 0.0930 - mse: 0.0198 - val_loss: 0.0181 - val_mae: 0.0962 - val_mse: 0.0181\n",
      "Epoch 43/50\n",
      "1/1 [==============================] - ETA: 0s - loss: 0.0200 - mae: 0.0925 - mse: 0.0200\n",
      "Epoch 00043: val_loss improved from 0.01808 to 0.01804, saving model to model\\tmp_checkpoint_Covid.h5\n",
      "1/1 [==============================] - 0s 65ms/step - loss: 0.0200 - mae: 0.0925 - mse: 0.0200 - val_loss: 0.0180 - val_mae: 0.0963 - val_mse: 0.0180\n",
      "Epoch 44/50\n",
      "1/1 [==============================] - ETA: 0s - loss: 0.0198 - mae: 0.0929 - mse: 0.0198\n",
      "Epoch 00044: val_loss improved from 0.01804 to 0.01800, saving model to model\\tmp_checkpoint_Covid.h5\n",
      "1/1 [==============================] - 0s 66ms/step - loss: 0.0198 - mae: 0.0929 - mse: 0.0198 - val_loss: 0.0180 - val_mae: 0.0964 - val_mse: 0.0180\n",
      "Epoch 45/50\n",
      "1/1 [==============================] - ETA: 0s - loss: 0.0203 - mae: 0.0935 - mse: 0.0203\n",
      "Epoch 00045: val_loss improved from 0.01800 to 0.01797, saving model to model\\tmp_checkpoint_Covid.h5\n",
      "1/1 [==============================] - 0s 62ms/step - loss: 0.0203 - mae: 0.0935 - mse: 0.0203 - val_loss: 0.0180 - val_mae: 0.0966 - val_mse: 0.0180\n",
      "Epoch 46/50\n",
      "1/1 [==============================] - ETA: 0s - loss: 0.0195 - mae: 0.0927 - mse: 0.0195\n",
      "Epoch 00046: val_loss improved from 0.01797 to 0.01794, saving model to model\\tmp_checkpoint_Covid.h5\n",
      "1/1 [==============================] - 0s 63ms/step - loss: 0.0195 - mae: 0.0927 - mse: 0.0195 - val_loss: 0.0179 - val_mae: 0.0968 - val_mse: 0.0179\n",
      "Epoch 47/50\n"
     ]
    },
    {
     "name": "stdout",
     "output_type": "stream",
     "text": [
      "1/1 [==============================] - ETA: 0s - loss: 0.0202 - mae: 0.0950 - mse: 0.0202\n",
      "Epoch 00047: val_loss improved from 0.01794 to 0.01791, saving model to model\\tmp_checkpoint_Covid.h5\n",
      "1/1 [==============================] - 0s 66ms/step - loss: 0.0202 - mae: 0.0950 - mse: 0.0202 - val_loss: 0.0179 - val_mae: 0.0969 - val_mse: 0.0179\n",
      "Epoch 48/50\n",
      "1/1 [==============================] - ETA: 0s - loss: 0.0196 - mae: 0.0934 - mse: 0.0196\n",
      "Epoch 00048: val_loss improved from 0.01791 to 0.01788, saving model to model\\tmp_checkpoint_Covid.h5\n",
      "1/1 [==============================] - 0s 63ms/step - loss: 0.0196 - mae: 0.0934 - mse: 0.0196 - val_loss: 0.0179 - val_mae: 0.0971 - val_mse: 0.0179\n",
      "Epoch 49/50\n",
      "1/1 [==============================] - ETA: 0s - loss: 0.0198 - mae: 0.0948 - mse: 0.0198\n",
      "Epoch 00049: val_loss improved from 0.01788 to 0.01785, saving model to model\\tmp_checkpoint_Covid.h5\n",
      "1/1 [==============================] - 0s 63ms/step - loss: 0.0198 - mae: 0.0948 - mse: 0.0198 - val_loss: 0.0179 - val_mae: 0.0972 - val_mse: 0.0179\n",
      "Epoch 50/50\n",
      "1/1 [==============================] - ETA: 0s - loss: 0.0203 - mae: 0.0955 - mse: 0.0203\n",
      "Epoch 00050: val_loss improved from 0.01785 to 0.01782, saving model to model\\tmp_checkpoint_Covid.h5\n",
      "1/1 [==============================] - 0s 63ms/step - loss: 0.0203 - mae: 0.0955 - mse: 0.0203 - val_loss: 0.0178 - val_mae: 0.0973 - val_mse: 0.0178\n"
     ]
    }
   ],
   "source": [
    "early_stop = EarlyStopping(monitor='val_loss', patience=15)\n",
    "\n",
    "with tf.device('/GPU:0'):\n",
    "    model_path = 'model'\n",
    "    filename = os.path.join(model_path, 'tmp_checkpoint_Covid.h5')\n",
    "    checkpoint = ModelCheckpoint(filename, monitor='val_loss', verbose=1, save_best_only=True, mode='auto')\n",
    "    history = model.fit(train_data, epochs=50, batch_size=32, validation_data=(valid_data), callbacks=[early_stop, checkpoint])"
   ]
  },
  {
   "cell_type": "code",
   "execution_count": 42,
   "id": "269d7721",
   "metadata": {},
   "outputs": [
    {
     "data": {
      "text/plain": [
       "(20, 1, 1)"
      ]
     },
     "execution_count": 42,
     "metadata": {},
     "output_type": "execute_result"
    }
   ],
   "source": [
    "model.load_weights(filename)\n",
    "pred = model.predict(test['Won'])\n",
    "\n",
    "pred.shape"
   ]
  },
  {
   "cell_type": "markdown",
   "id": "3f70a61f",
   "metadata": {},
   "source": [
    "### 9. 결과 표시"
   ]
  },
  {
   "cell_type": "code",
   "execution_count": 43,
   "id": "33bddf7a",
   "metadata": {},
   "outputs": [
    {
     "name": "stdout",
     "output_type": "stream",
     "text": [
      "해당 폴더가 이미 존재합니다.\n"
     ]
    }
   ],
   "source": [
    "try:\n",
    "    os.mkdir('./Result')\n",
    "    print('폴더 생성 완료.')\n",
    "    \n",
    "except FileExistsError:\n",
    "    print('해당 폴더가 이미 존재합니다.')"
   ]
  },
  {
   "cell_type": "code",
   "execution_count": 44,
   "id": "90879fb0",
   "metadata": {},
   "outputs": [
    {
     "name": "stdout",
     "output_type": "stream",
     "text": [
      "해당 폴더가 이미 존재합니다.\n"
     ]
    }
   ],
   "source": [
    "try:\n",
    "    os.mkdir('./Result/CNN+LSTM')\n",
    "    os.mkdir('./Result/CNN+LSTM/Graph')\n",
    "    os.mkdir('./Result/CNN+LSTM/Data')\n",
    "    print('폴더 생성 완료.')\n",
    "    \n",
    "except FileExistsError:\n",
    "    print('해당 폴더가 이미 존재합니다.')"
   ]
  },
  {
   "cell_type": "code",
   "execution_count": 45,
   "id": "e96d8ad2",
   "metadata": {},
   "outputs": [
    {
     "data": {
      "text/plain": [
       "<function matplotlib.pyplot.show(close=None, block=None)>"
      ]
     },
     "execution_count": 45,
     "metadata": {},
     "output_type": "execute_result"
    },
    {
     "data": {
      "image/png": "[encoded data removed]",
      "text/plain": [
       "<Figure size 432x288 with 1 Axes>"
      ]
     },
     "metadata": {
      "needs_background": "light"
     },
     "output_type": "display_data"
    }
   ],
   "source": [
    "plt.title('Model Validation Loss', size='15')\n",
    "plt.xlabel('Epoch')\n",
    "plt.ylabel('Val_loss')\n",
    "plt.grid(True)\n",
    "plt.plot(history.history['val_loss'])\n",
    "plt.savefig('./Result/CNN+LSTM/Graph/Model_Valdation_Loss.png')\n",
    "plt.show"
   ]
  },
  {
   "cell_type": "markdown",
   "id": "d56b11c1",
   "metadata": {},
   "source": [
    "#### 성능 측정 지표"
   ]
  },
  {
   "cell_type": "code",
   "execution_count": 46,
   "id": "afd501b5",
   "metadata": {},
   "outputs": [],
   "source": [
    "pred=pred.reshape(-1,1)"
   ]
  },
  {
   "cell_type": "code",
   "execution_count": 47,
   "id": "7b27eea7",
   "metadata": {},
   "outputs": [
    {
     "data": {
      "text/plain": [
       "(20, 1)"
      ]
     },
     "execution_count": 47,
     "metadata": {},
     "output_type": "execute_result"
    }
   ],
   "source": [
    "pred.shape"
   ]
  },
  {
   "cell_type": "code",
   "execution_count": 48,
   "id": "f21915c7",
   "metadata": {},
   "outputs": [
    {
     "name": "stdout",
     "output_type": "stream",
     "text": [
      "r2 >> 0.3353\n",
      "MAE >> 0.0664\n",
      "MSE >> 0.0070\n",
      "RMSE >> 0.0836\n"
     ]
    }
   ],
   "source": [
    "from sklearn.metrics import r2_score as r2\n",
    "from sklearn.metrics import mean_absolute_error as MAE\n",
    "from sklearn.metrics import mean_squared_error as MSE\n",
    "from sklearn.metrics import mean_squared_log_error as MSLE\n",
    "\n",
    "print('r2 >> %.4f' %r2(test['Won'], pred)) # 1에 가까워야 좋음\n",
    "print('MAE >> %.4f' %MAE(test['Won'], pred)) # 0에 가까워야 좋음\n",
    "print('MSE >> %.4f' %MSE(test['Won'], pred)) # 0에 가까워야 좋음\n",
    "print('RMSE >> %.4f' %np.sqrt(MSE(test['Won'], pred))) # 0에 가까워야 좋음\n",
    "#print('RMSLE >> %.4f' %np.sqrt(MSLE(test['Won'], pred))) # 0에 가까워야 좋음"
   ]
  },
  {
   "cell_type": "code",
   "execution_count": 49,
   "id": "afe21115",
   "metadata": {},
   "outputs": [
    {
     "name": "stdout",
     "output_type": "stream",
     "text": [
      "RMSE 측정 정확도 ==>> 91.642 %\n"
     ]
    }
   ],
   "source": [
    "RMSE = np.sqrt(MSE(test['Won'], pred))\n",
    "RMSE_pct = round(1-RMSE, 5)*100\n",
    "print('RMSE 측정 정확도 ==>> %.3f %%' %RMSE_pct)"
   ]
  },
  {
   "cell_type": "code",
   "execution_count": 50,
   "id": "09554c4d",
   "metadata": {},
   "outputs": [
    {
     "data": {
      "image/png": "[encoded data removed]",
      "text/plain": [
       "<Figure size 432x288 with 1 Axes>"
      ]
     },
     "metadata": {
      "needs_background": "light"
     },
     "output_type": "display_data"
    }
   ],
   "source": [
    "plt.plot(test['Won'])\n",
    "plt.plot(pred)\n",
    "plt.show()"
   ]
  }
 ],
 "metadata": {
  "kernelspec": {
   "display_name": "Python 3 (ipykernel)",
   "language": "python",
   "name": "python3"
  },
  "language_info": {
   "codemirror_mode": {
    "name": "ipython",
    "version": 3
   },
   "file_extension": ".py",
   "mimetype": "text/x-python",
   "name": "python",
   "nbconvert_exporter": "python",
   "pygments_lexer": "ipython3",
   "version": "3.9.7"
  }
 },
 "nbformat": 4,
 "nbformat_minor": 5
}
