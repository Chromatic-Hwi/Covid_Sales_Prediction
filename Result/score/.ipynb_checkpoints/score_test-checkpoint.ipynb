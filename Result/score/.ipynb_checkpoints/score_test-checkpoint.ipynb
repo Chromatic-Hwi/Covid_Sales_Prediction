{
 "cells": [
  {
   "cell_type": "code",
   "execution_count": 11,
   "id": "7521666e",
   "metadata": {},
   "outputs": [
    {
     "name": "stdout",
     "output_type": "stream",
     "text": [
      "RMSE score:0.058\n",
      "R2 score:0.4841\n",
      "score:0.713\n"
     ]
    }
   ],
   "source": [
    "import os\n",
    "import sys\n",
    "import pandas as pd\n",
    "import numpy as np\n",
    "\n",
    "def RMSE(y_true, y_pred):\n",
    "    return np.sqrt(((y_pred - y_true) ** 2).mean())\n",
    "\n",
    "def R2(y_true, y_pred):\n",
    "    err_2_sum = ((y_true-y_pred)**2).sum()\n",
    "    dev_2_sum = ((y_true-np.mean(y_true))**2).sum()\n",
    "    return 1-(err_2_sum/dev_2_sum)\n",
    "    \n",
    "pred = pd.read_csv('./Pred.csv').to_numpy()[:,:]\n",
    "gt = pd.read_csv('./Test_set.csv').to_numpy()[:,:]\n",
    "\n",
    "RMSE_score = float(format(RMSE(gt, pred), \".4f\"))\n",
    "R2_score = float(format(R2(gt, pred), \".4f\"))\n",
    "score = float(format(((1-RMSE_score)/2 + R2_score/2), \".4f\"))\n",
    "\n",
    "print(f\"RMSE score:{RMSE_score}\")\n",
    "print(f\"R2 score:{R2_score}\")\n",
    "print(f\"score:{score}\")"
   ]
  }
 ],
 "metadata": {
  "kernelspec": {
   "display_name": "Python 3 (ipykernel)",
   "language": "python",
   "name": "python3"
  },
  "language_info": {
   "codemirror_mode": {
    "name": "ipython",
    "version": 3
   },
   "file_extension": ".py",
   "mimetype": "text/x-python",
   "name": "python",
   "nbconvert_exporter": "python",
   "pygments_lexer": "ipython3",
   "version": "3.9.7"
  }
 },
 "nbformat": 4,
 "nbformat_minor": 5
}
