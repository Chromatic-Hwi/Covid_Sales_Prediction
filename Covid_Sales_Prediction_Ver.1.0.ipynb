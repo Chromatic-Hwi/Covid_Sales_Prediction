{
 "cells": [
  {
   "cell_type": "markdown",
   "id": "49534bc4",
   "metadata": {},
   "source": [
    "# Covid Sales Prediction"
   ]
  },
  {
   "cell_type": "markdown",
   "id": "ea4a87c8",
   "metadata": {},
   "source": [
    "### 목차"
   ]
  },
  {
   "cell_type": "code",
   "execution_count": 1,
   "id": "626d35d1",
   "metadata": {},
   "outputs": [
    {
     "data": {
      "text/plain": [
       "'\\n1. 모듈 임포트\\n\\n2. 데이터 처리\\n\\n3. 그래프 확인\\n\\n4. 데이터 정규화 \\n\\n5. 데이터 연관성 분석\\n\\n6. 이상치 처리\\n    -이상치 확인 함수 생성\\n    -분위별 이상치 1차 검색\\n    -이상치 치환\\n    -처리 후 잔여 개수 확인\\n\\n7. 데이터셋 편집\\n\\n8. 딥러닝 모델\\n\\n9. 결과 표시\\n    -그래프 표시\\n    -그래프 비교 결과\\n    -성능 측정 지표\\n\\n10. 예측값과 실제값 결과 csv 파일 저장\\n'"
      ]
     },
     "execution_count": 1,
     "metadata": {},
     "output_type": "execute_result"
    }
   ],
   "source": [
    "\"\"\"\n",
    "1. 모듈 임포트\n",
    "\n",
    "2. 데이터 처리\n",
    "\n",
    "3. 그래프 확인\n",
    "\n",
    "4. 데이터 정규화 \n",
    "\n",
    "5. 데이터 연관성 분석\n",
    "\n",
    "6. 이상치 처리\n",
    "    -이상치 확인 함수 생성\n",
    "    -분위별 이상치 1차 검색\n",
    "    -이상치 치환\n",
    "    -처리 후 잔여 개수 확인\n",
    "\n",
    "7. 데이터셋 편집\n",
    "\n",
    "8. 딥러닝 모델\n",
    "\n",
    "9. 결과 표시\n",
    "    -그래프 표시\n",
    "    -그래프 비교 결과\n",
    "    -성능 측정 지표\n",
    "\n",
    "10. 예측값과 실제값 결과 csv 파일 저장\n",
    "\"\"\""
   ]
  },
  {
   "cell_type": "markdown",
   "id": "79f886a9",
   "metadata": {},
   "source": [
    "### <화면 가로 확장>"
   ]
  },
  {
   "cell_type": "code",
   "execution_count": 3,
   "id": "01779336",
   "metadata": {},
   "outputs": [
    {
     "data": {
      "text/html": [
       "<style>.container { width:80% !important; }</style>"
      ],
      "text/plain": [
       "<IPython.core.display.HTML object>"
      ]
     },
     "metadata": {},
     "output_type": "display_data"
    }
   ],
   "source": [
    "# 화면 가로 확장 코드 (기본 width 50%)\n",
    "from IPython.core.display import display, HTML\n",
    "display(HTML(\"<style>.container { width:80% !important; }</style>\"))"
   ]
  },
  {
   "cell_type": "markdown",
   "id": "5914b761",
   "metadata": {},
   "source": [
    "### 1. 모듈 임포트"
   ]
  },
  {
   "cell_type": "code",
   "execution_count": 2,
   "id": "4fef1b48",
   "metadata": {},
   "outputs": [],
   "source": [
    "import numpy as np \n",
    "import pandas as pd \n",
    "import matplotlib.pyplot as plt\n",
    "from mpl_toolkits.mplot3d import Axes3D\n",
    "import seaborn as sns\n",
    "import tensorflow as tf\n",
    "import csv\n",
    "import os\n",
    "import datetime"
   ]
  },
  {
   "cell_type": "markdown",
   "id": "f7f69a8e",
   "metadata": {},
   "source": [
    "### <GPU 확인>"
   ]
  },
  {
   "cell_type": "code",
   "execution_count": 3,
   "id": "b6295985",
   "metadata": {},
   "outputs": [
    {
     "data": {
      "text/plain": [
       "'/device:GPU:0'"
      ]
     },
     "execution_count": 3,
     "metadata": {},
     "output_type": "execute_result"
    }
   ],
   "source": [
    "tf.test.gpu_device_name()"
   ]
  },
  {
   "cell_type": "markdown",
   "id": "ffe6b822",
   "metadata": {},
   "source": [
    "### 2. 데이터"
   ]
  },
  {
   "cell_type": "markdown",
   "id": "ded06c28",
   "metadata": {},
   "source": [
    "#### 배달의 민족 월별 정산 데이터 저장"
   ]
  },
  {
   "cell_type": "code",
   "execution_count": 17,
   "id": "d58084dc",
   "metadata": {},
   "outputs": [
    {
     "name": "stdout",
     "output_type": "stream",
     "text": [
      "폴더 생성 완료.\n"
     ]
    }
   ],
   "source": [
    "try:\n",
    "    os.mkdir('./Data')\n",
    "    os.mkdir('./Data/BaeMin')\n",
    "    print('폴더 생성 완료.')\n",
    "    \n",
    "except FileExistsError:\n",
    "    print('해당 폴더가 이미 존재합니다.')"
   ]
  },
  {
   "cell_type": "code",
   "execution_count": 18,
   "id": "281dc1da",
   "metadata": {},
   "outputs": [],
   "source": [
    "for BM in range(1, len(os.listdir('./Original_Data/BaeMin'))+1):\n",
    "    if BM<7:\n",
    "        count_num='0'+str(BM)\n",
    "        data_bm = pd.read_excel('./Original_Data/BaeMin/배달의민족-2021년'+count_num+'월_정산명세서_성정환사장님.xlsx', sheet_name='상세')\n",
    "        data_bm = data_bm.iloc[3:, [0, 20]] # 행, 열 제한으로 필요 정보 추출\n",
    "    if (BM>=7 and BM<10):\n",
    "        count_num='0'+str(BM)\n",
    "        data_bm = pd.read_excel('./Original_Data/BaeMin/배달의민족-2021년'+count_num+'월_정산명세서_성정환사장님.xlsx', sheet_name='상세')\n",
    "        data_bm = data_bm.iloc[3:, [0, 21]] # 행, 열 제한으로 필요 정보 추출\n",
    "    if BM>=10:\n",
    "        count_num=str(BM)\n",
    "        data_bm = pd.read_excel('./Original_Data/BaeMin/배달의민족-2021년'+count_num+'월_정산명세서_성정환사장님.xlsx', sheet_name='상세')\n",
    "        data_bm = data_bm.iloc[3:, [0, 21]] \n",
    "    \n",
    "    data_bm = data_bm.reset_index(drop=True) # 인덱스 초기화\n",
    "    data_bm.to_csv('./Data/BaeMin/배달의 민족_2021년_'+count_num+'월_수익정산.csv', header=False, encoding='cp949')\n",
    "    data_bm_named=pd.read_csv('./Data/BaeMin/배달의 민족_2021년_'+count_num+'월_수익정산.csv', names=['Date','Won'], encoding='cp949')\n",
    "    data_bm_named.to_csv('./Data/BaeMin/배달의 민족_2021년_'+count_num+'월_수익정산.csv', encoding='cp949')"
   ]
  },
  {
   "cell_type": "code",
   "execution_count": 21,
   "id": "b480e42a",
   "metadata": {},
   "outputs": [],
   "source": [
    "# 1년 단위 파일로 병합\n",
    "bm_y = pd.DataFrame()\n",
    "for y in range(1, len(os.listdir('./Data/BaeMin'))+1):\n",
    "    if y<=9:\n",
    "        count_num='0'+str(y)\n",
    "    else:\n",
    "        count_num=str(y)\n",
    "        \n",
    "    file = './Data/BaeMin/배달의 민족_2021년_'+count_num+'월_수익정산.csv'\n",
    "    bm_m= pd.read_csv(file, encoding='cp949')\n",
    "    bm_y = pd.concat([bm_y, bm_m])\n",
    "    \n",
    "bm_y = bm_y.drop([bm_y.columns[0]], axis=1)\n",
    "bm_y = bm_y.reset_index(drop=True)\n",
    "bm_y.to_csv('./Data/배달의 민족_2021년_수익정산.csv', encoding='cp949')\n",
    "\n",
    "# 중간에 0이 있는데 코로나 때문에 0이 된게 아니라면 이상치 처리를 해야함."
   ]
  },
  {
   "cell_type": "code",
   "execution_count": 122,
   "id": "75ffb6bc",
   "metadata": {},
   "outputs": [
    {
     "name": "stdout",
     "output_type": "stream",
     "text": [
      "         Date      Won\n",
      "0    20210104   249789\n",
      "2    20210105   211252\n",
      "3    20210106   152762\n",
      "5    20210107  1310714\n",
      "7    20210108   252126\n",
      "..        ...      ...\n",
      "418  20211123    48750\n",
      "420  20211124   123086\n",
      "422  20211125   572818\n",
      "424  20211125     4835\n",
      "425  20211126    98345\n",
      "\n",
      "[260 rows x 2 columns]\n"
     ]
    }
   ],
   "source": [
    "data_bm_sum=pd.DataFrame(columns=['Date','Won'])\n",
    "data_bm=pd.read_csv('./Data/배달의 민족_2021년_수익정산.csv', encoding='cp949')\n",
    "data_bm = data_bm.drop([data_bm.columns[0]], axis=1)\n",
    "\n",
    "for D in range(len(data_bm)-1):\n",
    "    y=data_bm['Date'][D][0:4]\n",
    "    m=data_bm['Date'][D][5:7]\n",
    "    d=data_bm['Date'][D][8:10]\n",
    "    YMD=y+m+d\n",
    "    if(data_bm['Date'][D]==data_bm['Date'][D+1]):\n",
    "        won=int(data_bm['Won'][D]+data_bm['Won'][D+1])\n",
    "        new_data=[YMD, won]\n",
    "        data_bm_sum.loc[D]=new_data\n",
    "    else:\n",
    "        new_data=[YMD, int(data_bm['Won'][D])]\n",
    "        data_bm_sum.loc[D]=new_data\n",
    "\n",
    "for D in range(len(data_bm_sum)):\n",
    "    try:\n",
    "        if(data_bm_sum['Date'][D]==data_bm_sum['Date'][D+1]):\n",
    "            data_bm_sum=data_bm_sum.drop(D+1, axis=0)\n",
    "\n",
    "    except KeyError:\n",
    "        pass\n",
    "    \n",
    "print(data_bm_sum)\n",
    "data_bm_sum = data_bm_sum.reset_index(drop=True)\n",
    "data_bm_sum.to_csv('./Data/배달의 민족_2021년_수익정산_동일날짜합.csv', encoding='cp949')"
   ]
  },
  {
   "cell_type": "markdown",
   "id": "dcc5e90d",
   "metadata": {},
   "source": [
    "#### 서울시 기상 정보 저장"
   ]
  },
  {
   "cell_type": "code",
   "execution_count": 12,
   "id": "1efc4c05",
   "metadata": {},
   "outputs": [
    {
     "name": "stderr",
     "output_type": "stream",
     "text": [
      "C:\\Users\\ADMINI~1\\AppData\\Local\\Temp/ipykernel_12860/2957362069.py:8: SettingWithCopyWarning: \n",
      "A value is trying to be set on a copy of a slice from a DataFrame\n",
      "\n",
      "See the caveats in the documentation: https://pandas.pydata.org/pandas-docs/stable/user_guide/indexing.html#returning-a-view-versus-a-copy\n",
      "  data_weather['강수여부'][num]=0 # 맑은 날은 0으로 값 변경\n",
      "C:\\Users\\ADMINI~1\\AppData\\Local\\Temp/ipykernel_12860/2957362069.py:9: SettingWithCopyWarning: \n",
      "A value is trying to be set on a copy of a slice from a DataFrame\n",
      "\n",
      "See the caveats in the documentation: https://pandas.pydata.org/pandas-docs/stable/user_guide/indexing.html#returning-a-view-versus-a-copy\n",
      "  data_weather['일강수량(mm)'][num]=0\n"
     ]
    }
   ],
   "source": [
    "data_weather = pd.read_excel('./Original_Data/OBS_ASOS_DD_20211123223955.xlsx')\n",
    "data_weather = data_weather.iloc[:, [2,3,5,6]]\n",
    "data_weather.insert(2, '강수여부', 1) # 컬럼 새로 생성 후 우선은 다 비오는 경우인 '1'로 입력\n",
    "\n",
    "for num in range(len(data_weather)):\n",
    "    rain_values = data_weather.iloc[num, [3]].values[0] # 강수량 컬럼의 정보를 읽어옴\n",
    "    if (str(rain_values)=='nan' or float(rain_values)==0.0):\n",
    "        data_weather['강수여부'][num]=0 # 맑은 날은 0으로 값 변경\n",
    "        data_weather['일강수량(mm)'][num]=0\n",
    "        \n",
    "data_weather = data_weather.reset_index(drop=True) # 인덱스 초기화\n",
    "data_weather.to_csv('./Data/2021_서울_기상정보.csv', encoding='cp949')"
   ]
  },
  {
   "cell_type": "markdown",
   "id": "7276da96",
   "metadata": {},
   "source": [
    "#### 전국 Covid 정보 저장"
   ]
  },
  {
   "cell_type": "code",
   "execution_count": 10,
   "id": "d6a58b09",
   "metadata": {},
   "outputs": [],
   "source": [
    "data_covid = pd.read_excel('./Original_Data/코로나 현황.xlsx')\n",
    "start_date=int(data_covid.loc[data_covid['날짜'] == 20210101].index[0])\n",
    "data_covid = data_covid.iloc[start_date:, [0,1,4]]\n",
    "data_covid = data_covid.reset_index(drop=True) # 인덱스 초기화\n",
    "data_covid.to_csv('./Data/2021_KOREA_Covid.csv', encoding='cp949')"
   ]
  },
  {
   "cell_type": "markdown",
   "id": "7bbbf68d",
   "metadata": {},
   "source": [
    "#### 거리두기 규제 및 집합 인원수 컬럼 추가"
   ]
  },
  {
   "cell_type": "code",
   "execution_count": 43,
   "id": "564ffbe1",
   "metadata": {},
   "outputs": [
    {
     "name": "stdout",
     "output_type": "stream",
     "text": [
      "           날짜  확진자수(양성)       검사수  18시 전 규제 인원수  18시 후 규제 인원수  영업 제한 시각\n",
      "0    20210101     61753   4269308             5             5        21\n",
      "1    20210102     62573   4302790             5             5        21\n",
      "2    20210103     63230   4340830             5             5        21\n",
      "3    20210104     64250   4376600             5             5        21\n",
      "4    20210105     64964   4439352             5             5        21\n",
      "..        ...       ...       ...           ...           ...       ...\n",
      "322  20211119    409099  15848464            10            10        27\n",
      "323  20211120    412305  15851670            10            10        27\n",
      "324  20211121    415425  15854790            10            10        27\n",
      "325  20211122    418252  15857617            10            10        27\n",
      "326  20211123    420950  15860315            10            10        27\n",
      "\n",
      "[327 rows x 6 columns]\n"
     ]
    },
    {
     "name": "stderr",
     "output_type": "stream",
     "text": [
      "C:\\Users\\ADMINI~1\\AppData\\Local\\Temp/ipykernel_16764/1539669511.py:18: SettingWithCopyWarning: \n",
      "A value is trying to be set on a copy of a slice from a DataFrame\n",
      "\n",
      "See the caveats in the documentation: https://pandas.pydata.org/pandas-docs/stable/user_guide/indexing.html#returning-a-view-versus-a-copy\n",
      "  data_covid['18시 전 규제 인원수'][D]=rules[0]\n",
      "C:\\Users\\ADMINI~1\\AppData\\Local\\Temp/ipykernel_16764/1539669511.py:19: SettingWithCopyWarning: \n",
      "A value is trying to be set on a copy of a slice from a DataFrame\n",
      "\n",
      "See the caveats in the documentation: https://pandas.pydata.org/pandas-docs/stable/user_guide/indexing.html#returning-a-view-versus-a-copy\n",
      "  data_covid['18시 후 규제 인원수'][D]=rules[1]\n",
      "C:\\Users\\ADMINI~1\\AppData\\Local\\Temp/ipykernel_16764/1539669511.py:20: SettingWithCopyWarning: \n",
      "A value is trying to be set on a copy of a slice from a DataFrame\n",
      "\n",
      "See the caveats in the documentation: https://pandas.pydata.org/pandas-docs/stable/user_guide/indexing.html#returning-a-view-versus-a-copy\n",
      "  data_covid['영업 제한 시각'][D]=rules[2]\n"
     ]
    }
   ],
   "source": [
    "data_covid=pd.read_csv('./Data/2021_KOREA_Covid.csv', encoding='cp949')\n",
    "\n",
    "data_covid['18시 전 규제 인원수']=np.NaN\n",
    "data_covid['18시 후 규제 인원수']=np.NaN\n",
    "data_covid['영업 제한 시각']=np.NaN\n",
    "\n",
    "covid_rules={20210101: [5,5,21], 20210121: [5,5,21], 20210215: [5,5,22], 20210701: [9,9,24], 20210712: [5,3,24], 20211018: [9,9,24], 20211101: [10,10,27]}\n",
    "# 시간 제한이 사라진 이후는 24시 이후 영업의 의미를 담기 위해 27로 설정.\n",
    "\n",
    "for D in range (len(data_covid)):\n",
    "    date=int(data_covid['날짜'][D])\n",
    "    \n",
    "    try:\n",
    "        rules=covid_rules[date]\n",
    "    except KeyError:\n",
    "        rules=rules\n",
    "    \n",
    "    data_covid['18시 전 규제 인원수'][D]=rules[0]\n",
    "    data_covid['18시 후 규제 인원수'][D]=rules[1]\n",
    "    data_covid['영업 제한 시각'][D]=rules[2]\n",
    "    \n",
    "data_covid=data_covid.astype(int)\n",
    "data_covid = data_covid.drop([data_covid.columns[0]], axis=1)\n",
    "print(data_covid)\n",
    "data_covid.to_csv('./Data/2021_KOREA_Covid+.csv', encoding='cp949')"
   ]
  },
  {
   "cell_type": "code",
   "execution_count": 13,
   "id": "d166eb42",
   "metadata": {},
   "outputs": [],
   "source": [
    "Data_bm=pd.read_csv('./Data/배달의 민족_2021년_수익정산_동일날짜합.csv', encoding='cp949')\n",
    "Data_weather=pd.read_csv('./Data/2021_서울_기상정보.csv', encoding='cp949')\n",
    "Data_covid=pd.read_csv('./Data/2021_KOREA_Covid+.csv', encoding='cp949')\n",
    "\n",
    "Data_weather2=Data_weather.iloc[:,[2,3,4,5]]\n",
    "Data_bm2=Data_bm.iloc[:, [1,2]]"
   ]
  },
  {
   "cell_type": "code",
   "execution_count": 34,
   "id": "2be2144b",
   "metadata": {},
   "outputs": [],
   "source": [
    "Data_C_W = pd.concat([Data_covid, Data_weather2],axis=1)\n",
    "Data_C_W=Data_C_W[:-1] # 날씨 데이터는 11/23 데이터가 없기 때문에 맨 마지막 row 삭제"
   ]
  },
  {
   "cell_type": "code",
   "execution_count": 68,
   "id": "6f7acf25",
   "metadata": {},
   "outputs": [
    {
     "name": "stderr",
     "output_type": "stream",
     "text": [
      "C:\\Users\\ADMINI~1\\AppData\\Local\\Temp/ipykernel_12860/754528038.py:10: SettingWithCopyWarning: \n",
      "A value is trying to be set on a copy of a slice from a DataFrame\n",
      "\n",
      "See the caveats in the documentation: https://pandas.pydata.org/pandas-docs/stable/user_guide/indexing.html#returning-a-view-versus-a-copy\n",
      "  Data_C_W['Won'][C1]=Data_bm2['Won'][C2]\n"
     ]
    }
   ],
   "source": [
    "Data_C_W['Won']=0\n",
    "\n",
    "C1=0\n",
    "C2=0\n",
    "      \n",
    "while(True):\n",
    "    try:\n",
    "        if(int(Data_C_W['날짜'][C1])==int(Data_bm2['Date'][C2])):\n",
    "            Data_C_W['Won'][C1]=Data_bm2['Won'][C2]\n",
    "            C1+=1\n",
    "            C2+=1\n",
    "\n",
    "        if(int(Data_C_W['날짜'][C1])>int(Data_bm2['Date'][C2])):\n",
    "            C2+=1\n",
    "\n",
    "        if(int(Data_C_W['날짜'][C1])<int(Data_bm2['Date'][C2])):\n",
    "            C1+=1\n",
    "            \n",
    "    except:\n",
    "        break\n",
    "        \n",
    "Data_C_W_B=Data_C_W\n",
    "Data_C_W_B = Data_C_W_B.drop([Data_C_W_B.columns[0]], axis=1)\n",
    "Data_C_W_B.to_csv('./Data/2021_Data_Combined.csv', encoding='cp949')"
   ]
  },
  {
   "cell_type": "code",
   "execution_count": 4,
   "id": "5d68ba68",
   "metadata": {},
   "outputs": [
    {
     "data": {
      "text/html": [
       "<div>\n",
       "<style scoped>\n",
       "    .dataframe tbody tr th:only-of-type {\n",
       "        vertical-align: middle;\n",
       "    }\n",
       "\n",
       "    .dataframe tbody tr th {\n",
       "        vertical-align: top;\n",
       "    }\n",
       "\n",
       "    .dataframe thead th {\n",
       "        text-align: right;\n",
       "    }\n",
       "</style>\n",
       "<table border=\"1\" class=\"dataframe\">\n",
       "  <thead>\n",
       "    <tr style=\"text-align: right;\">\n",
       "      <th></th>\n",
       "      <th>Unnamed: 0</th>\n",
       "      <th>날짜</th>\n",
       "      <th>확진자수(양성)</th>\n",
       "      <th>검사수</th>\n",
       "      <th>18시 전 규제 인원수</th>\n",
       "      <th>18시 후 규제 인원수</th>\n",
       "      <th>영업 제한 시각</th>\n",
       "      <th>평균기온(°C)</th>\n",
       "      <th>강수여부</th>\n",
       "      <th>일강수량(mm)</th>\n",
       "      <th>평균 풍속(m/s)</th>\n",
       "      <th>Won</th>\n",
       "    </tr>\n",
       "  </thead>\n",
       "  <tbody>\n",
       "    <tr>\n",
       "      <th>0</th>\n",
       "      <td>0</td>\n",
       "      <td>20210101</td>\n",
       "      <td>61753</td>\n",
       "      <td>4269308</td>\n",
       "      <td>5</td>\n",
       "      <td>5</td>\n",
       "      <td>21</td>\n",
       "      <td>-4.2</td>\n",
       "      <td>0.0</td>\n",
       "      <td>0.0</td>\n",
       "      <td>2.0</td>\n",
       "      <td>0</td>\n",
       "    </tr>\n",
       "    <tr>\n",
       "      <th>1</th>\n",
       "      <td>1</td>\n",
       "      <td>20210102</td>\n",
       "      <td>62573</td>\n",
       "      <td>4302790</td>\n",
       "      <td>5</td>\n",
       "      <td>5</td>\n",
       "      <td>21</td>\n",
       "      <td>-5.0</td>\n",
       "      <td>0.0</td>\n",
       "      <td>0.0</td>\n",
       "      <td>2.6</td>\n",
       "      <td>0</td>\n",
       "    </tr>\n",
       "    <tr>\n",
       "      <th>2</th>\n",
       "      <td>2</td>\n",
       "      <td>20210103</td>\n",
       "      <td>63230</td>\n",
       "      <td>4340830</td>\n",
       "      <td>5</td>\n",
       "      <td>5</td>\n",
       "      <td>21</td>\n",
       "      <td>-5.6</td>\n",
       "      <td>0.0</td>\n",
       "      <td>0.0</td>\n",
       "      <td>2.0</td>\n",
       "      <td>0</td>\n",
       "    </tr>\n",
       "    <tr>\n",
       "      <th>3</th>\n",
       "      <td>3</td>\n",
       "      <td>20210104</td>\n",
       "      <td>64250</td>\n",
       "      <td>4376600</td>\n",
       "      <td>5</td>\n",
       "      <td>5</td>\n",
       "      <td>21</td>\n",
       "      <td>-3.5</td>\n",
       "      <td>0.0</td>\n",
       "      <td>0.0</td>\n",
       "      <td>1.7</td>\n",
       "      <td>249789</td>\n",
       "    </tr>\n",
       "    <tr>\n",
       "      <th>4</th>\n",
       "      <td>4</td>\n",
       "      <td>20210105</td>\n",
       "      <td>64964</td>\n",
       "      <td>4439352</td>\n",
       "      <td>5</td>\n",
       "      <td>5</td>\n",
       "      <td>21</td>\n",
       "      <td>-5.5</td>\n",
       "      <td>0.0</td>\n",
       "      <td>0.0</td>\n",
       "      <td>2.9</td>\n",
       "      <td>211252</td>\n",
       "    </tr>\n",
       "    <tr>\n",
       "      <th>...</th>\n",
       "      <td>...</td>\n",
       "      <td>...</td>\n",
       "      <td>...</td>\n",
       "      <td>...</td>\n",
       "      <td>...</td>\n",
       "      <td>...</td>\n",
       "      <td>...</td>\n",
       "      <td>...</td>\n",
       "      <td>...</td>\n",
       "      <td>...</td>\n",
       "      <td>...</td>\n",
       "      <td>...</td>\n",
       "    </tr>\n",
       "    <tr>\n",
       "      <th>321</th>\n",
       "      <td>321</td>\n",
       "      <td>20211118</td>\n",
       "      <td>406065</td>\n",
       "      <td>15845430</td>\n",
       "      <td>10</td>\n",
       "      <td>10</td>\n",
       "      <td>27</td>\n",
       "      <td>11.9</td>\n",
       "      <td>0.0</td>\n",
       "      <td>0.0</td>\n",
       "      <td>2.4</td>\n",
       "      <td>322402</td>\n",
       "    </tr>\n",
       "    <tr>\n",
       "      <th>322</th>\n",
       "      <td>322</td>\n",
       "      <td>20211119</td>\n",
       "      <td>409099</td>\n",
       "      <td>15848464</td>\n",
       "      <td>10</td>\n",
       "      <td>10</td>\n",
       "      <td>27</td>\n",
       "      <td>12.9</td>\n",
       "      <td>0.0</td>\n",
       "      <td>0.0</td>\n",
       "      <td>1.9</td>\n",
       "      <td>55371</td>\n",
       "    </tr>\n",
       "    <tr>\n",
       "      <th>323</th>\n",
       "      <td>323</td>\n",
       "      <td>20211120</td>\n",
       "      <td>412305</td>\n",
       "      <td>15851670</td>\n",
       "      <td>10</td>\n",
       "      <td>10</td>\n",
       "      <td>27</td>\n",
       "      <td>10.4</td>\n",
       "      <td>0.0</td>\n",
       "      <td>0.0</td>\n",
       "      <td>1.6</td>\n",
       "      <td>0</td>\n",
       "    </tr>\n",
       "    <tr>\n",
       "      <th>324</th>\n",
       "      <td>324</td>\n",
       "      <td>20211121</td>\n",
       "      <td>415425</td>\n",
       "      <td>15854790</td>\n",
       "      <td>10</td>\n",
       "      <td>10</td>\n",
       "      <td>27</td>\n",
       "      <td>10.4</td>\n",
       "      <td>1.0</td>\n",
       "      <td>5.9</td>\n",
       "      <td>1.9</td>\n",
       "      <td>0</td>\n",
       "    </tr>\n",
       "    <tr>\n",
       "      <th>325</th>\n",
       "      <td>325</td>\n",
       "      <td>20211122</td>\n",
       "      <td>418252</td>\n",
       "      <td>15857617</td>\n",
       "      <td>10</td>\n",
       "      <td>10</td>\n",
       "      <td>27</td>\n",
       "      <td>2.7</td>\n",
       "      <td>1.0</td>\n",
       "      <td>1.3</td>\n",
       "      <td>4.1</td>\n",
       "      <td>68641</td>\n",
       "    </tr>\n",
       "  </tbody>\n",
       "</table>\n",
       "<p>326 rows × 12 columns</p>\n",
       "</div>"
      ],
      "text/plain": [
       "     Unnamed: 0        날짜  확진자수(양성)       검사수  18시 전 규제 인원수  18시 후 규제 인원수  \\\n",
       "0             0  20210101     61753   4269308             5             5   \n",
       "1             1  20210102     62573   4302790             5             5   \n",
       "2             2  20210103     63230   4340830             5             5   \n",
       "3             3  20210104     64250   4376600             5             5   \n",
       "4             4  20210105     64964   4439352             5             5   \n",
       "..          ...       ...       ...       ...           ...           ...   \n",
       "321         321  20211118    406065  15845430            10            10   \n",
       "322         322  20211119    409099  15848464            10            10   \n",
       "323         323  20211120    412305  15851670            10            10   \n",
       "324         324  20211121    415425  15854790            10            10   \n",
       "325         325  20211122    418252  15857617            10            10   \n",
       "\n",
       "     영업 제한 시각  평균기온(°C)  강수여부  일강수량(mm)  평균 풍속(m/s)     Won  \n",
       "0          21      -4.2   0.0       0.0         2.0       0  \n",
       "1          21      -5.0   0.0       0.0         2.6       0  \n",
       "2          21      -5.6   0.0       0.0         2.0       0  \n",
       "3          21      -3.5   0.0       0.0         1.7  249789  \n",
       "4          21      -5.5   0.0       0.0         2.9  211252  \n",
       "..        ...       ...   ...       ...         ...     ...  \n",
       "321        27      11.9   0.0       0.0         2.4  322402  \n",
       "322        27      12.9   0.0       0.0         1.9   55371  \n",
       "323        27      10.4   0.0       0.0         1.6       0  \n",
       "324        27      10.4   1.0       5.9         1.9       0  \n",
       "325        27       2.7   1.0       1.3         4.1   68641  \n",
       "\n",
       "[326 rows x 12 columns]"
      ]
     },
     "execution_count": 4,
     "metadata": {},
     "output_type": "execute_result"
    }
   ],
   "source": [
    "Data_Combined=pd.read_csv('./Data/2021_Data_Combined.csv', encoding='cp949')\n",
    "Data_Combined"
   ]
  },
  {
   "cell_type": "markdown",
   "id": "3fb042ae",
   "metadata": {},
   "source": [
    "### 4. 데이터 정규화"
   ]
  },
  {
   "cell_type": "markdown",
   "id": "60c87e2c",
   "metadata": {},
   "source": [
    "#### Min-Max Scaling 이용, 4년치 학습 데이터 정규화"
   ]
  },
  {
   "cell_type": "code",
   "execution_count": 9,
   "id": "b72ea907",
   "metadata": {},
   "outputs": [
    {
     "data": {
      "text/html": [
       "<div>\n",
       "<style scoped>\n",
       "    .dataframe tbody tr th:only-of-type {\n",
       "        vertical-align: middle;\n",
       "    }\n",
       "\n",
       "    .dataframe tbody tr th {\n",
       "        vertical-align: top;\n",
       "    }\n",
       "\n",
       "    .dataframe thead th {\n",
       "        text-align: right;\n",
       "    }\n",
       "</style>\n",
       "<table border=\"1\" class=\"dataframe\">\n",
       "  <thead>\n",
       "    <tr style=\"text-align: right;\">\n",
       "      <th></th>\n",
       "      <th>날짜</th>\n",
       "      <th>확진자수(양성)</th>\n",
       "      <th>검사수</th>\n",
       "      <th>18시 전 규제 인원수</th>\n",
       "      <th>18시 후 규제 인원수</th>\n",
       "      <th>영업 제한 시각</th>\n",
       "      <th>평균기온(°C)</th>\n",
       "      <th>강수여부</th>\n",
       "      <th>일강수량(mm)</th>\n",
       "      <th>평균 풍속(m/s)</th>\n",
       "      <th>Won</th>\n",
       "    </tr>\n",
       "  </thead>\n",
       "  <tbody>\n",
       "    <tr>\n",
       "      <th>0</th>\n",
       "      <td>20210101</td>\n",
       "      <td>0.000000</td>\n",
       "      <td>0.000000</td>\n",
       "      <td>0.0</td>\n",
       "      <td>0.285714</td>\n",
       "      <td>0.0</td>\n",
       "      <td>0.229614</td>\n",
       "      <td>0.0</td>\n",
       "      <td>0.000000</td>\n",
       "      <td>0.189189</td>\n",
       "      <td>0.000000</td>\n",
       "    </tr>\n",
       "    <tr>\n",
       "      <th>1</th>\n",
       "      <td>20210102</td>\n",
       "      <td>0.002300</td>\n",
       "      <td>0.002889</td>\n",
       "      <td>0.0</td>\n",
       "      <td>0.285714</td>\n",
       "      <td>0.0</td>\n",
       "      <td>0.212446</td>\n",
       "      <td>0.0</td>\n",
       "      <td>0.000000</td>\n",
       "      <td>0.351351</td>\n",
       "      <td>0.000000</td>\n",
       "    </tr>\n",
       "    <tr>\n",
       "      <th>2</th>\n",
       "      <td>20210103</td>\n",
       "      <td>0.004143</td>\n",
       "      <td>0.006172</td>\n",
       "      <td>0.0</td>\n",
       "      <td>0.285714</td>\n",
       "      <td>0.0</td>\n",
       "      <td>0.199571</td>\n",
       "      <td>0.0</td>\n",
       "      <td>0.000000</td>\n",
       "      <td>0.189189</td>\n",
       "      <td>0.000000</td>\n",
       "    </tr>\n",
       "    <tr>\n",
       "      <th>3</th>\n",
       "      <td>20210104</td>\n",
       "      <td>0.007004</td>\n",
       "      <td>0.009259</td>\n",
       "      <td>0.0</td>\n",
       "      <td>0.285714</td>\n",
       "      <td>0.0</td>\n",
       "      <td>0.244635</td>\n",
       "      <td>0.0</td>\n",
       "      <td>0.000000</td>\n",
       "      <td>0.108108</td>\n",
       "      <td>0.190575</td>\n",
       "    </tr>\n",
       "    <tr>\n",
       "      <th>4</th>\n",
       "      <td>20210105</td>\n",
       "      <td>0.009007</td>\n",
       "      <td>0.014674</td>\n",
       "      <td>0.0</td>\n",
       "      <td>0.285714</td>\n",
       "      <td>0.0</td>\n",
       "      <td>0.201717</td>\n",
       "      <td>0.0</td>\n",
       "      <td>0.000000</td>\n",
       "      <td>0.432432</td>\n",
       "      <td>0.161173</td>\n",
       "    </tr>\n",
       "    <tr>\n",
       "      <th>...</th>\n",
       "      <td>...</td>\n",
       "      <td>...</td>\n",
       "      <td>...</td>\n",
       "      <td>...</td>\n",
       "      <td>...</td>\n",
       "      <td>...</td>\n",
       "      <td>...</td>\n",
       "      <td>...</td>\n",
       "      <td>...</td>\n",
       "      <td>...</td>\n",
       "      <td>...</td>\n",
       "    </tr>\n",
       "    <tr>\n",
       "      <th>321</th>\n",
       "      <td>20211118</td>\n",
       "      <td>0.965815</td>\n",
       "      <td>0.998948</td>\n",
       "      <td>1.0</td>\n",
       "      <td>1.000000</td>\n",
       "      <td>1.0</td>\n",
       "      <td>0.575107</td>\n",
       "      <td>0.0</td>\n",
       "      <td>0.000000</td>\n",
       "      <td>0.297297</td>\n",
       "      <td>0.245974</td>\n",
       "    </tr>\n",
       "    <tr>\n",
       "      <th>322</th>\n",
       "      <td>20211119</td>\n",
       "      <td>0.974325</td>\n",
       "      <td>0.999210</td>\n",
       "      <td>1.0</td>\n",
       "      <td>1.000000</td>\n",
       "      <td>1.0</td>\n",
       "      <td>0.596567</td>\n",
       "      <td>0.0</td>\n",
       "      <td>0.000000</td>\n",
       "      <td>0.162162</td>\n",
       "      <td>0.042245</td>\n",
       "    </tr>\n",
       "    <tr>\n",
       "      <th>323</th>\n",
       "      <td>20211120</td>\n",
       "      <td>0.983318</td>\n",
       "      <td>0.999487</td>\n",
       "      <td>1.0</td>\n",
       "      <td>1.000000</td>\n",
       "      <td>1.0</td>\n",
       "      <td>0.542918</td>\n",
       "      <td>0.0</td>\n",
       "      <td>0.000000</td>\n",
       "      <td>0.081081</td>\n",
       "      <td>0.000000</td>\n",
       "    </tr>\n",
       "    <tr>\n",
       "      <th>324</th>\n",
       "      <td>20211121</td>\n",
       "      <td>0.992070</td>\n",
       "      <td>0.999756</td>\n",
       "      <td>1.0</td>\n",
       "      <td>1.000000</td>\n",
       "      <td>1.0</td>\n",
       "      <td>0.542918</td>\n",
       "      <td>1.0</td>\n",
       "      <td>0.076227</td>\n",
       "      <td>0.162162</td>\n",
       "      <td>0.000000</td>\n",
       "    </tr>\n",
       "    <tr>\n",
       "      <th>325</th>\n",
       "      <td>20211122</td>\n",
       "      <td>1.000000</td>\n",
       "      <td>1.000000</td>\n",
       "      <td>1.0</td>\n",
       "      <td>1.000000</td>\n",
       "      <td>1.0</td>\n",
       "      <td>0.377682</td>\n",
       "      <td>1.0</td>\n",
       "      <td>0.016796</td>\n",
       "      <td>0.756757</td>\n",
       "      <td>0.052369</td>\n",
       "    </tr>\n",
       "  </tbody>\n",
       "</table>\n",
       "<p>326 rows × 11 columns</p>\n",
       "</div>"
      ],
      "text/plain": [
       "           날짜  확진자수(양성)       검사수  18시 전 규제 인원수  18시 후 규제 인원수  영업 제한 시각  \\\n",
       "0    20210101  0.000000  0.000000           0.0      0.285714       0.0   \n",
       "1    20210102  0.002300  0.002889           0.0      0.285714       0.0   \n",
       "2    20210103  0.004143  0.006172           0.0      0.285714       0.0   \n",
       "3    20210104  0.007004  0.009259           0.0      0.285714       0.0   \n",
       "4    20210105  0.009007  0.014674           0.0      0.285714       0.0   \n",
       "..        ...       ...       ...           ...           ...       ...   \n",
       "321  20211118  0.965815  0.998948           1.0      1.000000       1.0   \n",
       "322  20211119  0.974325  0.999210           1.0      1.000000       1.0   \n",
       "323  20211120  0.983318  0.999487           1.0      1.000000       1.0   \n",
       "324  20211121  0.992070  0.999756           1.0      1.000000       1.0   \n",
       "325  20211122  1.000000  1.000000           1.0      1.000000       1.0   \n",
       "\n",
       "     평균기온(°C)  강수여부  일강수량(mm)  평균 풍속(m/s)       Won  \n",
       "0    0.229614   0.0  0.000000    0.189189  0.000000  \n",
       "1    0.212446   0.0  0.000000    0.351351  0.000000  \n",
       "2    0.199571   0.0  0.000000    0.189189  0.000000  \n",
       "3    0.244635   0.0  0.000000    0.108108  0.190575  \n",
       "4    0.201717   0.0  0.000000    0.432432  0.161173  \n",
       "..        ...   ...       ...         ...       ...  \n",
       "321  0.575107   0.0  0.000000    0.297297  0.245974  \n",
       "322  0.596567   0.0  0.000000    0.162162  0.042245  \n",
       "323  0.542918   0.0  0.000000    0.081081  0.000000  \n",
       "324  0.542918   1.0  0.076227    0.162162  0.000000  \n",
       "325  0.377682   1.0  0.016796    0.756757  0.052369  \n",
       "\n",
       "[326 rows x 11 columns]"
      ]
     },
     "execution_count": 9,
     "metadata": {},
     "output_type": "execute_result"
    }
   ],
   "source": [
    "from sklearn.preprocessing import MinMaxScaler\n",
    "\n",
    "# 정규화 과정을 거쳐 데이터 범위를 원하는 범위로 제한. 그래프는 동일하나 손실 정도를 확인하기에 더 좋음.\n",
    "# 배치 정규화는 기울기 소멸 문제를 해결하기는 좋으나, RNN의 경우 계층별로 미니 정규화 적용이 필요해 모델이 복잡해지고 효율이 저하됨.\n",
    "Data_Combined.sort_index(ascending=False).reset_index(drop=True)\n",
    "\n",
    "scaler = MinMaxScaler()\n",
    "scale_cols = ['확진자수(양성)', '검사수', '18시 전 규제 인원수', '18시 후 규제 인원수', '영업 제한 시각', '평균기온(°C)', '강수여부', '일강수량(mm)', '평균 풍속(m/s)', 'Won']\n",
    "Data_scaled = scaler.fit_transform(Data_Combined[scale_cols])\n",
    "Data_scaled = pd.DataFrame(Data_scaled)\n",
    "Data_scaled.columns = scale_cols\n",
    "\n",
    "Data_scaled.insert(0, '날짜', Data_Combined['날짜'])\n",
    "Data_scaled"
   ]
  },
  {
   "cell_type": "markdown",
   "id": "88477722",
   "metadata": {},
   "source": [
    "### 5. 데이터 연관성 분석"
   ]
  },
  {
   "cell_type": "code",
   "execution_count": 10,
   "id": "81e71bfa",
   "metadata": {},
   "outputs": [
    {
     "data": {
      "text/plain": [
       "Index(['날짜', '확진자수(양성)', '검사수', '18시 전 규제 인원수', '18시 후 규제 인원수', '영업 제한 시각',\n",
       "       '평균기온(°C)', '강수여부', '일강수량(mm)', '평균 풍속(m/s)', 'Won'],\n",
       "      dtype='object')"
      ]
     },
     "execution_count": 10,
     "metadata": {},
     "output_type": "execute_result"
    }
   ],
   "source": [
    "Data_scaled.columns"
   ]
  },
  {
   "cell_type": "code",
   "execution_count": 11,
   "id": "38e5c5fb",
   "metadata": {},
   "outputs": [
    {
     "name": "stdout",
     "output_type": "stream",
     "text": [
      "< 확진자수(양성)-Won >\n",
      "P-value ==>> 0.093\n",
      "\n",
      "< 검사수-Won >\n",
      "P-value ==>> 0.029\n",
      "\n",
      "< 18시 전 규제 인원수-Won >\n",
      "P-value ==>> 0.284\n",
      "\n",
      "< 18시 후 규제 인원수-Won >\n",
      "P-value ==>> 0.678\n",
      "\n",
      "< 영업 제한 시각-Won >\n",
      "P-value ==>> 0.073\n",
      "\n",
      "< 평균기온(°C)-Won >\n",
      "P-value ==>> 0.006\n",
      "\n",
      "< 강수여부-Won >\n",
      "P-value ==>> 0.061\n",
      "\n",
      "< 일강수량(mm)-Won >\n",
      "P-value ==>> 0.027\n",
      "\n",
      "< 평균 풍속(m/s)-Won >\n",
      "P-value ==>> 0.783\n",
      "\n"
     ]
    }
   ],
   "source": [
    "import scipy.stats as stats\n",
    "\n",
    "# 피어슨 stat을 이용하면 피어슨 상관계수와 p-value값이 출력되는데 상관계수는 양 or 음의 비례관계 정도를, p-value는 상관 정도를 보여준다. (0에 가까울수록 영향이 크다.)\n",
    "def P_value(dataset, c1, c2):\n",
    "    Correlation=stats.pearsonr(dataset[c1], dataset[c2])\n",
    "    print('< '+c1+'-'+c2+' >')\n",
    "    print('P-value ==>> %.3f\\n' %Correlation[1])\n",
    "\n",
    "for p in range(1, len(Data_scaled.columns)-1):\n",
    "    P_value(Data_scaled, Data_scaled.columns[p], 'Won')"
   ]
  },
  {
   "cell_type": "code",
   "execution_count": 12,
   "id": "4ce0ee9a",
   "metadata": {},
   "outputs": [],
   "source": [
    "Data_P = Data_scaled.drop(\n",
    "    [Data_scaled.columns[1], Data_scaled.columns[3], Data_scaled.columns[4], Data_scaled.columns[5], Data_scaled.columns[7], Data_scaled.columns[9]], axis=1)"
   ]
  },
  {
   "cell_type": "code",
   "execution_count": 13,
   "id": "facb50d7",
   "metadata": {},
   "outputs": [
    {
     "data": {
      "text/html": [
       "<div>\n",
       "<style scoped>\n",
       "    .dataframe tbody tr th:only-of-type {\n",
       "        vertical-align: middle;\n",
       "    }\n",
       "\n",
       "    .dataframe tbody tr th {\n",
       "        vertical-align: top;\n",
       "    }\n",
       "\n",
       "    .dataframe thead th {\n",
       "        text-align: right;\n",
       "    }\n",
       "</style>\n",
       "<table border=\"1\" class=\"dataframe\">\n",
       "  <thead>\n",
       "    <tr style=\"text-align: right;\">\n",
       "      <th></th>\n",
       "      <th>날짜</th>\n",
       "      <th>검사수</th>\n",
       "      <th>평균기온(°C)</th>\n",
       "      <th>일강수량(mm)</th>\n",
       "      <th>Won</th>\n",
       "    </tr>\n",
       "  </thead>\n",
       "  <tbody>\n",
       "    <tr>\n",
       "      <th>0</th>\n",
       "      <td>20210101</td>\n",
       "      <td>0.000000</td>\n",
       "      <td>0.229614</td>\n",
       "      <td>0.000000</td>\n",
       "      <td>0.000000</td>\n",
       "    </tr>\n",
       "    <tr>\n",
       "      <th>1</th>\n",
       "      <td>20210102</td>\n",
       "      <td>0.002889</td>\n",
       "      <td>0.212446</td>\n",
       "      <td>0.000000</td>\n",
       "      <td>0.000000</td>\n",
       "    </tr>\n",
       "    <tr>\n",
       "      <th>2</th>\n",
       "      <td>20210103</td>\n",
       "      <td>0.006172</td>\n",
       "      <td>0.199571</td>\n",
       "      <td>0.000000</td>\n",
       "      <td>0.000000</td>\n",
       "    </tr>\n",
       "    <tr>\n",
       "      <th>3</th>\n",
       "      <td>20210104</td>\n",
       "      <td>0.009259</td>\n",
       "      <td>0.244635</td>\n",
       "      <td>0.000000</td>\n",
       "      <td>0.190575</td>\n",
       "    </tr>\n",
       "    <tr>\n",
       "      <th>4</th>\n",
       "      <td>20210105</td>\n",
       "      <td>0.014674</td>\n",
       "      <td>0.201717</td>\n",
       "      <td>0.000000</td>\n",
       "      <td>0.161173</td>\n",
       "    </tr>\n",
       "    <tr>\n",
       "      <th>...</th>\n",
       "      <td>...</td>\n",
       "      <td>...</td>\n",
       "      <td>...</td>\n",
       "      <td>...</td>\n",
       "      <td>...</td>\n",
       "    </tr>\n",
       "    <tr>\n",
       "      <th>321</th>\n",
       "      <td>20211118</td>\n",
       "      <td>0.998948</td>\n",
       "      <td>0.575107</td>\n",
       "      <td>0.000000</td>\n",
       "      <td>0.245974</td>\n",
       "    </tr>\n",
       "    <tr>\n",
       "      <th>322</th>\n",
       "      <td>20211119</td>\n",
       "      <td>0.999210</td>\n",
       "      <td>0.596567</td>\n",
       "      <td>0.000000</td>\n",
       "      <td>0.042245</td>\n",
       "    </tr>\n",
       "    <tr>\n",
       "      <th>323</th>\n",
       "      <td>20211120</td>\n",
       "      <td>0.999487</td>\n",
       "      <td>0.542918</td>\n",
       "      <td>0.000000</td>\n",
       "      <td>0.000000</td>\n",
       "    </tr>\n",
       "    <tr>\n",
       "      <th>324</th>\n",
       "      <td>20211121</td>\n",
       "      <td>0.999756</td>\n",
       "      <td>0.542918</td>\n",
       "      <td>0.076227</td>\n",
       "      <td>0.000000</td>\n",
       "    </tr>\n",
       "    <tr>\n",
       "      <th>325</th>\n",
       "      <td>20211122</td>\n",
       "      <td>1.000000</td>\n",
       "      <td>0.377682</td>\n",
       "      <td>0.016796</td>\n",
       "      <td>0.052369</td>\n",
       "    </tr>\n",
       "  </tbody>\n",
       "</table>\n",
       "<p>326 rows × 5 columns</p>\n",
       "</div>"
      ],
      "text/plain": [
       "           날짜       검사수  평균기온(°C)  일강수량(mm)       Won\n",
       "0    20210101  0.000000  0.229614  0.000000  0.000000\n",
       "1    20210102  0.002889  0.212446  0.000000  0.000000\n",
       "2    20210103  0.006172  0.199571  0.000000  0.000000\n",
       "3    20210104  0.009259  0.244635  0.000000  0.190575\n",
       "4    20210105  0.014674  0.201717  0.000000  0.161173\n",
       "..        ...       ...       ...       ...       ...\n",
       "321  20211118  0.998948  0.575107  0.000000  0.245974\n",
       "322  20211119  0.999210  0.596567  0.000000  0.042245\n",
       "323  20211120  0.999487  0.542918  0.000000  0.000000\n",
       "324  20211121  0.999756  0.542918  0.076227  0.000000\n",
       "325  20211122  1.000000  0.377682  0.016796  0.052369\n",
       "\n",
       "[326 rows x 5 columns]"
      ]
     },
     "execution_count": 13,
     "metadata": {},
     "output_type": "execute_result"
    }
   ],
   "source": [
    "Data_P"
   ]
  },
  {
   "cell_type": "markdown",
   "id": "8395aaba",
   "metadata": {},
   "source": [
    "### 7. 데이터셋 편집"
   ]
  },
  {
   "cell_type": "code",
   "execution_count": 139,
   "id": "ee1957fe",
   "metadata": {},
   "outputs": [],
   "source": [
    "TEST_SIZE = 20 # 1년치를 테스트셋으로 사용\n",
    "WINDOW_SIZE = 1 # 얼마 동안의 과거 기반의 데이터에 기반하여 다음날의 값을 예측할 것인지 설정. \n",
    "\n",
    "train = Data_P[:-TEST_SIZE]\n",
    "test= Data_P[-TEST_SIZE:]"
   ]
  },
  {
   "cell_type": "code",
   "execution_count": 140,
   "id": "156c49e5",
   "metadata": {},
   "outputs": [],
   "source": [
    "test = test.reset_index(drop=True) # 인덱스 초기화"
   ]
  },
  {
   "cell_type": "code",
   "execution_count": 141,
   "id": "68b2123f",
   "metadata": {},
   "outputs": [],
   "source": [
    "from sklearn.model_selection import train_test_split\n",
    "\n",
    "feature_cols = ['검사수', '평균기온(°C)', '일강수량(mm)', 'Won']\n",
    "label_cols = ['Won']\n",
    "\n",
    "train_feature = train[feature_cols]\n",
    "train_label = train[label_cols]\n",
    "\n",
    "x_train, x_valid, y_train, y_valid = train_test_split(train_feature, train_label, test_size=0.2, random_state=0, shuffle=False)"
   ]
  },
  {
   "cell_type": "code",
   "execution_count": 142,
   "id": "5f1c1da0",
   "metadata": {},
   "outputs": [],
   "source": [
    "def windowed_dataset(series, window_size, batch_size, shuffle):\n",
    "    series = tf.expand_dims(series, axis=-1)\n",
    "    ds = tf.data.Dataset.from_tensor_slices(series)\n",
    "    ds = ds.window(window_size + 1, shift=1, drop_remainder=True)\n",
    "    ds = ds.flat_map(lambda w: w.batch(window_size + 1))\n",
    "    if shuffle:\n",
    "        ds = ds.shuffle(1000)\n",
    "    ds = ds.map(lambda w: (w[:-1], w[-1]))\n",
    "    return ds.batch(batch_size).prefetch(1)"
   ]
  },
  {
   "cell_type": "code",
   "execution_count": 143,
   "id": "801a3128",
   "metadata": {},
   "outputs": [],
   "source": [
    "WINDOW_SIZE=1\n",
    "BATCH_SIZE=128"
   ]
  },
  {
   "cell_type": "code",
   "execution_count": 144,
   "id": "f5741c7c",
   "metadata": {},
   "outputs": [],
   "source": [
    "train_data = windowed_dataset(y_train, WINDOW_SIZE, BATCH_SIZE, False) # 학습도 셔플 안해야 맞는게 아닌가??\n",
    "valid_data = windowed_dataset(y_valid, WINDOW_SIZE, BATCH_SIZE, False)"
   ]
  },
  {
   "cell_type": "code",
   "execution_count": 145,
   "id": "00efa566",
   "metadata": {},
   "outputs": [
    {
     "name": "stdout",
     "output_type": "stream",
     "text": [
      "데이터셋(X) 구성(batch_size, window_size, feature갯수): (128, 1, 1, 1)\n",
      "데이터셋(Y) 구성(batch_size, window_size, feature갯수): (128, 1, 1)\n"
     ]
    }
   ],
   "source": [
    "for data in train_data.take(1):\n",
    "    print(f'데이터셋(X) 구성(batch_size, window_size, feature갯수): {data[0].shape}')\n",
    "    print(f'데이터셋(Y) 구성(batch_size, window_size, feature갯수): {data[1].shape}')"
   ]
  },
  {
   "cell_type": "markdown",
   "id": "0249c42f",
   "metadata": {},
   "source": [
    "### 8. 딥러닝 모델"
   ]
  },
  {
   "cell_type": "code",
   "execution_count": 146,
   "id": "04552117",
   "metadata": {},
   "outputs": [
    {
     "name": "stdout",
     "output_type": "stream",
     "text": [
      "WARNING:tensorflow:Layer lstm_49 will not use cuDNN kernels since it doesn't meet the criteria. It will use a generic GPU kernel as fallback when running on GPU.\n",
      "Model: \"sequential_9\"\n",
      "_________________________________________________________________\n",
      " Layer (type)                Output Shape              Param #   \n",
      "=================================================================\n",
      " conv1d_9 (Conv1D)           (None, 1, 32)             64        \n",
      "                                                                 \n",
      " time_distributed_5 (TimeDis  (None, 1, 64)            2112      \n",
      " tributed)                                                       \n",
      "                                                                 \n",
      " lstm_49 (LSTM)              (None, 32)                12416     \n",
      "                                                                 \n",
      " dense_15 (Dense)            (None, 1)                 33        \n",
      "                                                                 \n",
      "=================================================================\n",
      "Total params: 14,625\n",
      "Trainable params: 14,625\n",
      "Non-trainable params: 0\n",
      "_________________________________________________________________\n"
     ]
    }
   ],
   "source": [
    "from tensorflow.keras.models import Sequential\n",
    "from tensorflow.keras.layers import Dense, Dropout, Flatten, Conv1D, MaxPooling1D\n",
    "from tensorflow.keras.callbacks import EarlyStopping, ModelCheckpoint\n",
    "from tensorflow.keras.layers import LSTM\n",
    "from tensorflow.keras.layers import Bidirectional\n",
    "from keras.layers.wrappers import TimeDistributed\n",
    "from tensorflow.keras.utils import plot_model\n",
    "import keras\n",
    "    \n",
    "model = Sequential([\n",
    "    Conv1D(filters=32, kernel_size=1, padding=\"causal\",activation=\"relu\", input_shape=[WINDOW_SIZE, 1]),\n",
    "    TimeDistributed(Dense(64)),\n",
    "    #LSTM(256, activation='relu',return_sequences=True),\n",
    "    #Bidirectional(LSTM(128, activation='ReLU', return_sequences=True), merge_mode='concat'),\n",
    "    #LSTM(128, activation='relu',return_sequences=True),\n",
    "    #Bidirectional(LSTM(64, activation='ReLU', return_sequences=True), merge_mode='concat'),\n",
    "    #LSTM(128, activation='ReLU', return_sequences = True),\n",
    "    Bidirectional(LSTM(32, activation='ReLU', return_sequences=True), merge_mode='concat'),\n",
    "    LSTM(32, activation='ReLU', return_sequences = False),\n",
    "    Dense(1, activation='sigmoid')\n",
    "                    ])\n",
    "\n",
    "model.summary()\n",
    "model.compile(loss='mean_squared_error', optimizer='Nadam')"
   ]
  },
  {
   "cell_type": "markdown",
   "id": "cd6964ab",
   "metadata": {},
   "source": [
    "#### Plot model 저장"
   ]
  },
  {
   "cell_type": "code",
   "execution_count": 147,
   "id": "82e93e66",
   "metadata": {},
   "outputs": [
    {
     "data": {
      "image/png": "[encoded data removed]",
      "text/plain": [
       "<IPython.core.display.Image object>"
      ]
     },
     "execution_count": 147,
     "metadata": {},
     "output_type": "execute_result"
    }
   ],
   "source": [
    "from keras.utils.vis_utils import plot_model\n",
    "import pydot\n",
    "import pydotplus\n",
    "import graphviz\n",
    "\n",
    "plot_model(model, to_file='./Result/CNN+LSTM/model.png')\n",
    "plot_model(model, to_file='./Result/CNN+LSTM/model_shapes.png', show_shapes=True)"
   ]
  },
  {
   "cell_type": "markdown",
   "id": "e4aa6030",
   "metadata": {},
   "source": [
    "#### 학습"
   ]
  },
  {
   "cell_type": "code",
   "execution_count": 148,
   "id": "d18415fc",
   "metadata": {},
   "outputs": [
    {
     "name": "stdout",
     "output_type": "stream",
     "text": [
      "Epoch 1/100\n",
      "      1/Unknown - 1s 1s/step - loss: 0.1725\n",
      "Epoch 00001: val_loss improved from inf to 0.18534, saving model to model\\tmp_checkpoint_Covid.h5\n",
      "2/2 [==============================] - 1s 283ms/step - loss: 0.1800 - val_loss: 0.1853\n",
      "Epoch 2/100\n",
      "1/2 [==============>...............] - ETA: 0s - loss: 0.1710\n",
      "Epoch 00002: val_loss improved from 0.18534 to 0.18416, saving model to model\\tmp_checkpoint_Covid.h5\n",
      "2/2 [==============================] - 0s 75ms/step - loss: 0.1787 - val_loss: 0.1842\n",
      "Epoch 3/100\n",
      "1/2 [==============>...............] - ETA: 0s - loss: 0.1699\n",
      "Epoch 00003: val_loss improved from 0.18416 to 0.18288, saving model to model\\tmp_checkpoint_Covid.h5\n",
      "2/2 [==============================] - 0s 75ms/step - loss: 0.1775 - val_loss: 0.1829\n",
      "Epoch 4/100\n",
      "1/2 [==============>...............] - ETA: 0s - loss: 0.1686\n",
      "Epoch 00004: val_loss improved from 0.18288 to 0.18146, saving model to model\\tmp_checkpoint_Covid.h5\n",
      "2/2 [==============================] - 0s 78ms/step - loss: 0.1762 - val_loss: 0.1815\n",
      "Epoch 5/100\n",
      "1/2 [==============>...............] - ETA: 0s - loss: 0.1672\n",
      "Epoch 00005: val_loss improved from 0.18146 to 0.17986, saving model to model\\tmp_checkpoint_Covid.h5\n",
      "2/2 [==============================] - 0s 76ms/step - loss: 0.1747 - val_loss: 0.1799\n",
      "Epoch 6/100\n",
      "1/2 [==============>...............] - ETA: 0s - loss: 0.1656\n",
      "Epoch 00006: val_loss improved from 0.17986 to 0.17805, saving model to model\\tmp_checkpoint_Covid.h5\n",
      "2/2 [==============================] - 0s 67ms/step - loss: 0.1731 - val_loss: 0.1781\n",
      "Epoch 7/100\n",
      "1/2 [==============>...............] - ETA: 0s - loss: 0.1639\n",
      "Epoch 00007: val_loss improved from 0.17805 to 0.17598, saving model to model\\tmp_checkpoint_Covid.h5\n",
      "2/2 [==============================] - 0s 76ms/step - loss: 0.1713 - val_loss: 0.1760\n",
      "Epoch 8/100\n",
      "1/2 [==============>...............] - ETA: 0s - loss: 0.1619\n",
      "Epoch 00008: val_loss improved from 0.17598 to 0.17362, saving model to model\\tmp_checkpoint_Covid.h5\n",
      "2/2 [==============================] - 0s 61ms/step - loss: 0.1692 - val_loss: 0.1736\n",
      "Epoch 9/100\n",
      "1/2 [==============>...............] - ETA: 0s - loss: 0.1596\n",
      "Epoch 00009: val_loss improved from 0.17362 to 0.17091, saving model to model\\tmp_checkpoint_Covid.h5\n",
      "2/2 [==============================] - 0s 74ms/step - loss: 0.1668 - val_loss: 0.1709\n",
      "Epoch 10/100\n",
      "1/2 [==============>...............] - ETA: 0s - loss: 0.1569\n",
      "Epoch 00010: val_loss improved from 0.17091 to 0.16779, saving model to model\\tmp_checkpoint_Covid.h5\n",
      "2/2 [==============================] - 0s 78ms/step - loss: 0.1640 - val_loss: 0.1678\n",
      "Epoch 11/100\n",
      "1/2 [==============>...............] - ETA: 0s - loss: 0.1539\n",
      "Epoch 00011: val_loss improved from 0.16779 to 0.16416, saving model to model\\tmp_checkpoint_Covid.h5\n",
      "2/2 [==============================] - 0s 76ms/step - loss: 0.1609 - val_loss: 0.1642\n",
      "Epoch 12/100\n",
      "1/2 [==============>...............] - ETA: 0s - loss: 0.1504\n",
      "Epoch 00012: val_loss improved from 0.16416 to 0.15992, saving model to model\\tmp_checkpoint_Covid.h5\n",
      "2/2 [==============================] - 0s 77ms/step - loss: 0.1572 - val_loss: 0.1599\n",
      "Epoch 13/100\n",
      "1/2 [==============>...............] - ETA: 0s - loss: 0.1463\n",
      "Epoch 00013: val_loss improved from 0.15992 to 0.15497, saving model to model\\tmp_checkpoint_Covid.h5\n",
      "2/2 [==============================] - 0s 74ms/step - loss: 0.1529 - val_loss: 0.1550\n",
      "Epoch 14/100\n",
      "1/2 [==============>...............] - ETA: 0s - loss: 0.1415\n",
      "Epoch 00014: val_loss improved from 0.15497 to 0.14918, saving model to model\\tmp_checkpoint_Covid.h5\n",
      "2/2 [==============================] - 0s 84ms/step - loss: 0.1478 - val_loss: 0.1492\n",
      "Epoch 15/100\n",
      "1/2 [==============>...............] - ETA: 0s - loss: 0.1359\n",
      "Epoch 00015: val_loss improved from 0.14918 to 0.14240, saving model to model\\tmp_checkpoint_Covid.h5\n",
      "2/2 [==============================] - 0s 71ms/step - loss: 0.1419 - val_loss: 0.1424\n",
      "Epoch 16/100\n",
      "1/2 [==============>...............] - ETA: 0s - loss: 0.1294\n",
      "Epoch 00016: val_loss improved from 0.14240 to 0.13451, saving model to model\\tmp_checkpoint_Covid.h5\n",
      "2/2 [==============================] - 0s 76ms/step - loss: 0.1351 - val_loss: 0.1345\n",
      "Epoch 17/100\n",
      "1/2 [==============>...............] - ETA: 0s - loss: 0.1219\n",
      "Epoch 00017: val_loss improved from 0.13451 to 0.12542, saving model to model\\tmp_checkpoint_Covid.h5\n",
      "2/2 [==============================] - 0s 76ms/step - loss: 0.1271 - val_loss: 0.1254\n",
      "Epoch 18/100\n",
      "1/2 [==============>...............] - ETA: 0s - loss: 0.1134\n",
      "Epoch 00018: val_loss improved from 0.12542 to 0.11511, saving model to model\\tmp_checkpoint_Covid.h5\n",
      "2/2 [==============================] - 0s 81ms/step - loss: 0.1180 - val_loss: 0.1151\n",
      "Epoch 19/100\n",
      "1/2 [==============>...............] - ETA: 0s - loss: 0.1039\n",
      "Epoch 00019: val_loss improved from 0.11511 to 0.10373, saving model to model\\tmp_checkpoint_Covid.h5\n",
      "2/2 [==============================] - 0s 76ms/step - loss: 0.1077 - val_loss: 0.1037\n",
      "Epoch 20/100\n",
      "1/2 [==============>...............] - ETA: 0s - loss: 0.0935\n",
      "Epoch 00020: val_loss improved from 0.10373 to 0.09159, saving model to model\\tmp_checkpoint_Covid.h5\n",
      "2/2 [==============================] - 0s 76ms/step - loss: 0.0965 - val_loss: 0.0916\n",
      "Epoch 21/100\n",
      "1/2 [==============>...............] - ETA: 0s - loss: 0.0826\n",
      "Epoch 00021: val_loss improved from 0.09159 to 0.07918, saving model to model\\tmp_checkpoint_Covid.h5\n",
      "2/2 [==============================] - 0s 75ms/step - loss: 0.0847 - val_loss: 0.0792\n",
      "Epoch 22/100\n",
      "1/2 [==============>...............] - ETA: 0s - loss: 0.0717\n",
      "Epoch 00022: val_loss improved from 0.07918 to 0.06711, saving model to model\\tmp_checkpoint_Covid.h5\n",
      "2/2 [==============================] - 0s 84ms/step - loss: 0.0728 - val_loss: 0.0671\n",
      "Epoch 23/100\n",
      "1/2 [==============>...............] - ETA: 0s - loss: 0.0614\n",
      "Epoch 00023: val_loss improved from 0.06711 to 0.05601, saving model to model\\tmp_checkpoint_Covid.h5\n",
      "2/2 [==============================] - 0s 77ms/step - loss: 0.0614 - val_loss: 0.0560\n",
      "Epoch 24/100\n",
      "1/2 [==============>...............] - ETA: 0s - loss: 0.0522\n",
      "Epoch 00024: val_loss improved from 0.05601 to 0.04635, saving model to model\\tmp_checkpoint_Covid.h5\n",
      "2/2 [==============================] - 0s 69ms/step - loss: 0.0511 - val_loss: 0.0464\n",
      "Epoch 25/100\n",
      "1/2 [==============>...............] - ETA: 0s - loss: 0.0445\n",
      "Epoch 00025: val_loss improved from 0.04635 to 0.03844, saving model to model\\tmp_checkpoint_Covid.h5\n",
      "2/2 [==============================] - 0s 76ms/step - loss: 0.0424 - val_loss: 0.0384\n",
      "Epoch 26/100\n",
      "1/2 [==============>...............] - ETA: 0s - loss: 0.0387\n",
      "Epoch 00026: val_loss improved from 0.03844 to 0.03228, saving model to model\\tmp_checkpoint_Covid.h5\n",
      "2/2 [==============================] - 0s 79ms/step - loss: 0.0356 - val_loss: 0.0323\n",
      "Epoch 27/100\n",
      "1/2 [==============>...............] - ETA: 0s - loss: 0.0344\n",
      "Epoch 00027: val_loss improved from 0.03228 to 0.02772, saving model to model\\tmp_checkpoint_Covid.h5\n",
      "2/2 [==============================] - 0s 75ms/step - loss: 0.0305 - val_loss: 0.0277\n",
      "Epoch 28/100\n",
      "1/2 [==============>...............] - ETA: 0s - loss: 0.0316\n",
      "Epoch 00028: val_loss improved from 0.02772 to 0.02449, saving model to model\\tmp_checkpoint_Covid.h5\n",
      "2/2 [==============================] - 0s 77ms/step - loss: 0.0269 - val_loss: 0.0245\n",
      "Epoch 29/100\n",
      "1/2 [==============>...............] - ETA: 0s - loss: 0.0299\n",
      "Epoch 00029: val_loss improved from 0.02449 to 0.02228, saving model to model\\tmp_checkpoint_Covid.h5\n",
      "2/2 [==============================] - 0s 75ms/step - loss: 0.0244 - val_loss: 0.0223\n",
      "Epoch 30/100\n",
      "1/2 [==============>...............] - ETA: 0s - loss: 0.0289\n",
      "Epoch 00030: val_loss improved from 0.02228 to 0.02080, saving model to model\\tmp_checkpoint_Covid.h5\n",
      "2/2 [==============================] - 0s 75ms/step - loss: 0.0229 - val_loss: 0.0208\n",
      "Epoch 31/100\n",
      "1/2 [==============>...............] - ETA: 0s - loss: 0.0284\n",
      "Epoch 00031: val_loss improved from 0.02080 to 0.01983, saving model to model\\tmp_checkpoint_Covid.h5\n",
      "2/2 [==============================] - 0s 75ms/step - loss: 0.0219 - val_loss: 0.0198\n",
      "Epoch 32/100\n"
     ]
    },
    {
     "name": "stdout",
     "output_type": "stream",
     "text": [
      "1/2 [==============>...............] - ETA: 0s - loss: 0.0282\n",
      "Epoch 00032: val_loss improved from 0.01983 to 0.01920, saving model to model\\tmp_checkpoint_Covid.h5\n",
      "2/2 [==============================] - 0s 77ms/step - loss: 0.0214 - val_loss: 0.0192\n",
      "Epoch 33/100\n",
      "1/2 [==============>...............] - ETA: 0s - loss: 0.0282\n",
      "Epoch 00033: val_loss improved from 0.01920 to 0.01881, saving model to model\\tmp_checkpoint_Covid.h5\n",
      "2/2 [==============================] - 0s 81ms/step - loss: 0.0210 - val_loss: 0.0188\n",
      "Epoch 34/100\n",
      "1/2 [==============>...............] - ETA: 0s - loss: 0.0283\n",
      "Epoch 00034: val_loss improved from 0.01881 to 0.01855, saving model to model\\tmp_checkpoint_Covid.h5\n",
      "2/2 [==============================] - 0s 72ms/step - loss: 0.0209 - val_loss: 0.0186\n",
      "Epoch 35/100\n",
      "1/2 [==============>...............] - ETA: 0s - loss: 0.0284\n",
      "Epoch 00035: val_loss improved from 0.01855 to 0.01839, saving model to model\\tmp_checkpoint_Covid.h5\n",
      "2/2 [==============================] - 0s 68ms/step - loss: 0.0208 - val_loss: 0.0184\n",
      "Epoch 36/100\n",
      "1/2 [==============>...............] - ETA: 0s - loss: 0.0285\n",
      "Epoch 00036: val_loss improved from 0.01839 to 0.01829, saving model to model\\tmp_checkpoint_Covid.h5\n",
      "2/2 [==============================] - 0s 70ms/step - loss: 0.0207 - val_loss: 0.0183\n",
      "Epoch 37/100\n",
      "1/2 [==============>...............] - ETA: 0s - loss: 0.0287\n",
      "Epoch 00037: val_loss improved from 0.01829 to 0.01822, saving model to model\\tmp_checkpoint_Covid.h5\n",
      "2/2 [==============================] - 0s 67ms/step - loss: 0.0207 - val_loss: 0.0182\n",
      "Epoch 38/100\n",
      "1/2 [==============>...............] - ETA: 0s - loss: 0.0287\n",
      "Epoch 00038: val_loss improved from 0.01822 to 0.01818, saving model to model\\tmp_checkpoint_Covid.h5\n",
      "2/2 [==============================] - 0s 69ms/step - loss: 0.0207 - val_loss: 0.0182\n",
      "Epoch 39/100\n",
      "1/2 [==============>...............] - ETA: 0s - loss: 0.0288\n",
      "Epoch 00039: val_loss improved from 0.01818 to 0.01815, saving model to model\\tmp_checkpoint_Covid.h5\n",
      "2/2 [==============================] - 0s 67ms/step - loss: 0.0207 - val_loss: 0.0182\n",
      "Epoch 40/100\n",
      "1/2 [==============>...............] - ETA: 0s - loss: 0.0289\n",
      "Epoch 00040: val_loss improved from 0.01815 to 0.01813, saving model to model\\tmp_checkpoint_Covid.h5\n",
      "2/2 [==============================] - 0s 75ms/step - loss: 0.0207 - val_loss: 0.0181\n",
      "Epoch 41/100\n",
      "1/2 [==============>...............] - ETA: 0s - loss: 0.0289\n",
      "Epoch 00041: val_loss improved from 0.01813 to 0.01812, saving model to model\\tmp_checkpoint_Covid.h5\n",
      "2/2 [==============================] - 0s 77ms/step - loss: 0.0207 - val_loss: 0.0181\n",
      "Epoch 42/100\n",
      "1/2 [==============>...............] - ETA: 0s - loss: 0.0289\n",
      "Epoch 00042: val_loss improved from 0.01812 to 0.01811, saving model to model\\tmp_checkpoint_Covid.h5\n",
      "2/2 [==============================] - 0s 65ms/step - loss: 0.0207 - val_loss: 0.0181\n",
      "Epoch 43/100\n",
      "1/2 [==============>...............] - ETA: 0s - loss: 0.0289\n",
      "Epoch 00043: val_loss improved from 0.01811 to 0.01810, saving model to model\\tmp_checkpoint_Covid.h5\n",
      "2/2 [==============================] - 0s 67ms/step - loss: 0.0207 - val_loss: 0.0181\n",
      "Epoch 44/100\n",
      "1/2 [==============>...............] - ETA: 0s - loss: 0.0289\n",
      "Epoch 00044: val_loss improved from 0.01810 to 0.01809, saving model to model\\tmp_checkpoint_Covid.h5\n",
      "2/2 [==============================] - 0s 73ms/step - loss: 0.0207 - val_loss: 0.0181\n",
      "Epoch 45/100\n",
      "1/2 [==============>...............] - ETA: 0s - loss: 0.0289\n",
      "Epoch 00045: val_loss improved from 0.01809 to 0.01808, saving model to model\\tmp_checkpoint_Covid.h5\n",
      "2/2 [==============================] - 0s 74ms/step - loss: 0.0207 - val_loss: 0.0181\n",
      "Epoch 46/100\n",
      "1/2 [==============>...............] - ETA: 0s - loss: 0.0288\n",
      "Epoch 00046: val_loss improved from 0.01808 to 0.01807, saving model to model\\tmp_checkpoint_Covid.h5\n",
      "2/2 [==============================] - 0s 71ms/step - loss: 0.0207 - val_loss: 0.0181\n",
      "Epoch 47/100\n",
      "1/2 [==============>...............] - ETA: 0s - loss: 0.0288\n",
      "Epoch 00047: val_loss improved from 0.01807 to 0.01807, saving model to model\\tmp_checkpoint_Covid.h5\n",
      "2/2 [==============================] - 0s 75ms/step - loss: 0.0206 - val_loss: 0.0181\n",
      "Epoch 48/100\n",
      "1/2 [==============>...............] - ETA: 0s - loss: 0.0288\n",
      "Epoch 00048: val_loss improved from 0.01807 to 0.01806, saving model to model\\tmp_checkpoint_Covid.h5\n",
      "2/2 [==============================] - 0s 76ms/step - loss: 0.0206 - val_loss: 0.0181\n",
      "Epoch 49/100\n",
      "1/2 [==============>...............] - ETA: 0s - loss: 0.0287\n",
      "Epoch 00049: val_loss improved from 0.01806 to 0.01806, saving model to model\\tmp_checkpoint_Covid.h5\n",
      "2/2 [==============================] - 0s 75ms/step - loss: 0.0206 - val_loss: 0.0181\n",
      "Epoch 50/100\n",
      "1/2 [==============>...............] - ETA: 0s - loss: 0.0287\n",
      "Epoch 00050: val_loss improved from 0.01806 to 0.01805, saving model to model\\tmp_checkpoint_Covid.h5\n",
      "2/2 [==============================] - 0s 74ms/step - loss: 0.0206 - val_loss: 0.0181\n",
      "Epoch 51/100\n",
      "1/2 [==============>...............] - ETA: 0s - loss: 0.0286\n",
      "Epoch 00051: val_loss improved from 0.01805 to 0.01805, saving model to model\\tmp_checkpoint_Covid.h5\n",
      "2/2 [==============================] - 0s 70ms/step - loss: 0.0206 - val_loss: 0.0180\n",
      "Epoch 52/100\n",
      "1/2 [==============>...............] - ETA: 0s - loss: 0.0286\n",
      "Epoch 00052: val_loss improved from 0.01805 to 0.01804, saving model to model\\tmp_checkpoint_Covid.h5\n",
      "2/2 [==============================] - 0s 77ms/step - loss: 0.0205 - val_loss: 0.0180\n",
      "Epoch 53/100\n",
      "1/2 [==============>...............] - ETA: 0s - loss: 0.0285\n",
      "Epoch 00053: val_loss improved from 0.01804 to 0.01804, saving model to model\\tmp_checkpoint_Covid.h5\n",
      "2/2 [==============================] - 0s 76ms/step - loss: 0.0205 - val_loss: 0.0180\n",
      "Epoch 54/100\n",
      "1/2 [==============>...............] - ETA: 0s - loss: 0.0285\n",
      "Epoch 00054: val_loss improved from 0.01804 to 0.01804, saving model to model\\tmp_checkpoint_Covid.h5\n",
      "2/2 [==============================] - 0s 70ms/step - loss: 0.0205 - val_loss: 0.0180\n",
      "Epoch 55/100\n",
      "1/2 [==============>...............] - ETA: 0s - loss: 0.0285\n",
      "Epoch 00055: val_loss improved from 0.01804 to 0.01803, saving model to model\\tmp_checkpoint_Covid.h5\n",
      "2/2 [==============================] - 0s 79ms/step - loss: 0.0205 - val_loss: 0.0180\n",
      "Epoch 56/100\n",
      "1/2 [==============>...............] - ETA: 0s - loss: 0.0284\n",
      "Epoch 00056: val_loss improved from 0.01803 to 0.01803, saving model to model\\tmp_checkpoint_Covid.h5\n",
      "2/2 [==============================] - 0s 76ms/step - loss: 0.0205 - val_loss: 0.0180\n",
      "Epoch 57/100\n",
      "1/2 [==============>...............] - ETA: 0s - loss: 0.0284\n",
      "Epoch 00057: val_loss improved from 0.01803 to 0.01802, saving model to model\\tmp_checkpoint_Covid.h5\n",
      "2/2 [==============================] - 0s 73ms/step - loss: 0.0204 - val_loss: 0.0180\n",
      "Epoch 58/100\n",
      "1/2 [==============>...............] - ETA: 0s - loss: 0.0283\n",
      "Epoch 00058: val_loss improved from 0.01802 to 0.01802, saving model to model\\tmp_checkpoint_Covid.h5\n",
      "2/2 [==============================] - 0s 70ms/step - loss: 0.0204 - val_loss: 0.0180\n",
      "Epoch 59/100\n",
      "1/2 [==============>...............] - ETA: 0s - loss: 0.0283\n",
      "Epoch 00059: val_loss improved from 0.01802 to 0.01801, saving model to model\\tmp_checkpoint_Covid.h5\n",
      "2/2 [==============================] - 0s 70ms/step - loss: 0.0204 - val_loss: 0.0180\n",
      "Epoch 60/100\n",
      "1/2 [==============>...............] - ETA: 0s - loss: 0.0283\n",
      "Epoch 00060: val_loss improved from 0.01801 to 0.01800, saving model to model\\tmp_checkpoint_Covid.h5\n",
      "2/2 [==============================] - 0s 72ms/step - loss: 0.0204 - val_loss: 0.0180\n",
      "Epoch 61/100\n",
      "1/2 [==============>...............] - ETA: 0s - loss: 0.0282\n",
      "Epoch 00061: val_loss improved from 0.01800 to 0.01799, saving model to model\\tmp_checkpoint_Covid.h5\n",
      "2/2 [==============================] - 0s 70ms/step - loss: 0.0204 - val_loss: 0.0180\n",
      "Epoch 62/100\n",
      "1/2 [==============>...............] - ETA: 0s - loss: 0.0282\n",
      "Epoch 00062: val_loss improved from 0.01799 to 0.01799, saving model to model\\tmp_checkpoint_Covid.h5\n",
      "2/2 [==============================] - 0s 66ms/step - loss: 0.0204 - val_loss: 0.0180\n",
      "Epoch 63/100\n"
     ]
    },
    {
     "name": "stdout",
     "output_type": "stream",
     "text": [
      "1/2 [==============>...............] - ETA: 0s - loss: 0.0282\n",
      "Epoch 00063: val_loss improved from 0.01799 to 0.01798, saving model to model\\tmp_checkpoint_Covid.h5\n",
      "2/2 [==============================] - 0s 69ms/step - loss: 0.0203 - val_loss: 0.0180\n",
      "Epoch 64/100\n",
      "1/2 [==============>...............] - ETA: 0s - loss: 0.0282\n",
      "Epoch 00064: val_loss improved from 0.01798 to 0.01797, saving model to model\\tmp_checkpoint_Covid.h5\n",
      "2/2 [==============================] - 0s 66ms/step - loss: 0.0203 - val_loss: 0.0180\n",
      "Epoch 65/100\n",
      "1/2 [==============>...............] - ETA: 0s - loss: 0.0281\n",
      "Epoch 00065: val_loss improved from 0.01797 to 0.01796, saving model to model\\tmp_checkpoint_Covid.h5\n",
      "2/2 [==============================] - 0s 72ms/step - loss: 0.0203 - val_loss: 0.0180\n",
      "Epoch 66/100\n",
      "1/2 [==============>...............] - ETA: 0s - loss: 0.0281\n",
      "Epoch 00066: val_loss improved from 0.01796 to 0.01795, saving model to model\\tmp_checkpoint_Covid.h5\n",
      "2/2 [==============================] - 0s 74ms/step - loss: 0.0203 - val_loss: 0.0179\n",
      "Epoch 67/100\n",
      "1/2 [==============>...............] - ETA: 0s - loss: 0.0281\n",
      "Epoch 00067: val_loss improved from 0.01795 to 0.01794, saving model to model\\tmp_checkpoint_Covid.h5\n",
      "2/2 [==============================] - 0s 69ms/step - loss: 0.0203 - val_loss: 0.0179\n",
      "Epoch 68/100\n",
      "1/2 [==============>...............] - ETA: 0s - loss: 0.0281\n",
      "Epoch 00068: val_loss improved from 0.01794 to 0.01792, saving model to model\\tmp_checkpoint_Covid.h5\n",
      "2/2 [==============================] - 0s 70ms/step - loss: 0.0203 - val_loss: 0.0179\n",
      "Epoch 69/100\n",
      "1/2 [==============>...............] - ETA: 0s - loss: 0.0280\n",
      "Epoch 00069: val_loss improved from 0.01792 to 0.01792, saving model to model\\tmp_checkpoint_Covid.h5\n",
      "2/2 [==============================] - 0s 72ms/step - loss: 0.0202 - val_loss: 0.0179\n",
      "Epoch 70/100\n",
      "1/2 [==============>...............] - ETA: 0s - loss: 0.0280\n",
      "Epoch 00070: val_loss improved from 0.01792 to 0.01790, saving model to model\\tmp_checkpoint_Covid.h5\n",
      "2/2 [==============================] - 0s 70ms/step - loss: 0.0202 - val_loss: 0.0179\n",
      "Epoch 71/100\n",
      "1/2 [==============>...............] - ETA: 0s - loss: 0.0280\n",
      "Epoch 00071: val_loss improved from 0.01790 to 0.01789, saving model to model\\tmp_checkpoint_Covid.h5\n",
      "2/2 [==============================] - 0s 70ms/step - loss: 0.0202 - val_loss: 0.0179\n",
      "Epoch 72/100\n",
      "1/2 [==============>...............] - ETA: 0s - loss: 0.0280\n",
      "Epoch 00072: val_loss improved from 0.01789 to 0.01788, saving model to model\\tmp_checkpoint_Covid.h5\n",
      "2/2 [==============================] - 0s 72ms/step - loss: 0.0202 - val_loss: 0.0179\n",
      "Epoch 73/100\n",
      "1/2 [==============>...............] - ETA: 0s - loss: 0.0280\n",
      "Epoch 00073: val_loss improved from 0.01788 to 0.01787, saving model to model\\tmp_checkpoint_Covid.h5\n",
      "2/2 [==============================] - 0s 73ms/step - loss: 0.0202 - val_loss: 0.0179\n",
      "Epoch 74/100\n",
      "1/2 [==============>...............] - ETA: 0s - loss: 0.0279\n",
      "Epoch 00074: val_loss improved from 0.01787 to 0.01786, saving model to model\\tmp_checkpoint_Covid.h5\n",
      "2/2 [==============================] - 0s 82ms/step - loss: 0.0202 - val_loss: 0.0179\n",
      "Epoch 75/100\n",
      "1/2 [==============>...............] - ETA: 0s - loss: 0.0279\n",
      "Epoch 00075: val_loss improved from 0.01786 to 0.01785, saving model to model\\tmp_checkpoint_Covid.h5\n",
      "2/2 [==============================] - 0s 73ms/step - loss: 0.0201 - val_loss: 0.0178\n",
      "Epoch 76/100\n",
      "1/2 [==============>...............] - ETA: 0s - loss: 0.0279\n",
      "Epoch 00076: val_loss improved from 0.01785 to 0.01784, saving model to model\\tmp_checkpoint_Covid.h5\n",
      "2/2 [==============================] - 0s 78ms/step - loss: 0.0201 - val_loss: 0.0178\n",
      "Epoch 77/100\n",
      "1/2 [==============>...............] - ETA: 0s - loss: 0.0279\n",
      "Epoch 00077: val_loss improved from 0.01784 to 0.01782, saving model to model\\tmp_checkpoint_Covid.h5\n",
      "2/2 [==============================] - 0s 74ms/step - loss: 0.0201 - val_loss: 0.0178\n",
      "Epoch 78/100\n",
      "1/2 [==============>...............] - ETA: 0s - loss: 0.0278\n",
      "Epoch 00078: val_loss improved from 0.01782 to 0.01782, saving model to model\\tmp_checkpoint_Covid.h5\n",
      "2/2 [==============================] - 0s 73ms/step - loss: 0.0201 - val_loss: 0.0178\n",
      "Epoch 79/100\n",
      "1/2 [==============>...............] - ETA: 0s - loss: 0.0278\n",
      "Epoch 00079: val_loss improved from 0.01782 to 0.01780, saving model to model\\tmp_checkpoint_Covid.h5\n",
      "2/2 [==============================] - 0s 78ms/step - loss: 0.0201 - val_loss: 0.0178\n",
      "Epoch 80/100\n",
      "1/2 [==============>...............] - ETA: 0s - loss: 0.0278\n",
      "Epoch 00080: val_loss improved from 0.01780 to 0.01779, saving model to model\\tmp_checkpoint_Covid.h5\n",
      "2/2 [==============================] - 0s 75ms/step - loss: 0.0201 - val_loss: 0.0178\n",
      "Epoch 81/100\n",
      "1/2 [==============>...............] - ETA: 0s - loss: 0.0278\n",
      "Epoch 00081: val_loss improved from 0.01779 to 0.01778, saving model to model\\tmp_checkpoint_Covid.h5\n",
      "2/2 [==============================] - 0s 82ms/step - loss: 0.0200 - val_loss: 0.0178\n",
      "Epoch 82/100\n",
      "1/2 [==============>...............] - ETA: 0s - loss: 0.0278\n",
      "Epoch 00082: val_loss improved from 0.01778 to 0.01777, saving model to model\\tmp_checkpoint_Covid.h5\n",
      "2/2 [==============================] - 0s 69ms/step - loss: 0.0200 - val_loss: 0.0178\n",
      "Epoch 83/100\n",
      "1/2 [==============>...............] - ETA: 0s - loss: 0.0277\n",
      "Epoch 00083: val_loss improved from 0.01777 to 0.01776, saving model to model\\tmp_checkpoint_Covid.h5\n",
      "2/2 [==============================] - 0s 71ms/step - loss: 0.0200 - val_loss: 0.0178\n",
      "Epoch 84/100\n",
      "1/2 [==============>...............] - ETA: 0s - loss: 0.0277\n",
      "Epoch 00084: val_loss improved from 0.01776 to 0.01775, saving model to model\\tmp_checkpoint_Covid.h5\n",
      "2/2 [==============================] - 0s 72ms/step - loss: 0.0200 - val_loss: 0.0177\n",
      "Epoch 85/100\n",
      "1/2 [==============>...............] - ETA: 0s - loss: 0.0277\n",
      "Epoch 00085: val_loss improved from 0.01775 to 0.01773, saving model to model\\tmp_checkpoint_Covid.h5\n",
      "2/2 [==============================] - 0s 70ms/step - loss: 0.0200 - val_loss: 0.0177\n",
      "Epoch 86/100\n",
      "1/2 [==============>...............] - ETA: 0s - loss: 0.0277\n",
      "Epoch 00086: val_loss improved from 0.01773 to 0.01772, saving model to model\\tmp_checkpoint_Covid.h5\n",
      "2/2 [==============================] - 0s 73ms/step - loss: 0.0200 - val_loss: 0.0177\n",
      "Epoch 87/100\n",
      "1/2 [==============>...............] - ETA: 0s - loss: 0.0276\n",
      "Epoch 00087: val_loss improved from 0.01772 to 0.01771, saving model to model\\tmp_checkpoint_Covid.h5\n",
      "2/2 [==============================] - 0s 71ms/step - loss: 0.0199 - val_loss: 0.0177\n",
      "Epoch 88/100\n",
      "1/2 [==============>...............] - ETA: 0s - loss: 0.0276\n",
      "Epoch 00088: val_loss improved from 0.01771 to 0.01770, saving model to model\\tmp_checkpoint_Covid.h5\n",
      "2/2 [==============================] - 0s 73ms/step - loss: 0.0199 - val_loss: 0.0177\n",
      "Epoch 89/100\n",
      "1/2 [==============>...............] - ETA: 0s - loss: 0.0276\n",
      "Epoch 00089: val_loss improved from 0.01770 to 0.01769, saving model to model\\tmp_checkpoint_Covid.h5\n",
      "2/2 [==============================] - 0s 72ms/step - loss: 0.0199 - val_loss: 0.0177\n",
      "Epoch 90/100\n",
      "1/2 [==============>...............] - ETA: 0s - loss: 0.0276\n",
      "Epoch 00090: val_loss improved from 0.01769 to 0.01768, saving model to model\\tmp_checkpoint_Covid.h5\n",
      "2/2 [==============================] - 0s 71ms/step - loss: 0.0199 - val_loss: 0.0177\n",
      "Epoch 91/100\n",
      "1/2 [==============>...............] - ETA: 0s - loss: 0.0276\n",
      "Epoch 00091: val_loss improved from 0.01768 to 0.01767, saving model to model\\tmp_checkpoint_Covid.h5\n",
      "2/2 [==============================] - 0s 73ms/step - loss: 0.0199 - val_loss: 0.0177\n",
      "Epoch 92/100\n",
      "1/2 [==============>...............] - ETA: 0s - loss: 0.0275\n",
      "Epoch 00092: val_loss improved from 0.01767 to 0.01766, saving model to model\\tmp_checkpoint_Covid.h5\n",
      "2/2 [==============================] - 0s 74ms/step - loss: 0.0199 - val_loss: 0.0177\n",
      "Epoch 93/100\n",
      "1/2 [==============>...............] - ETA: 0s - loss: 0.0275\n",
      "Epoch 00093: val_loss improved from 0.01766 to 0.01764, saving model to model\\tmp_checkpoint_Covid.h5\n",
      "2/2 [==============================] - 0s 72ms/step - loss: 0.0199 - val_loss: 0.0176\n",
      "Epoch 94/100\n"
     ]
    },
    {
     "name": "stdout",
     "output_type": "stream",
     "text": [
      "1/2 [==============>...............] - ETA: 0s - loss: 0.0275\n",
      "Epoch 00094: val_loss improved from 0.01764 to 0.01763, saving model to model\\tmp_checkpoint_Covid.h5\n",
      "2/2 [==============================] - 0s 74ms/step - loss: 0.0198 - val_loss: 0.0176\n",
      "Epoch 95/100\n",
      "1/2 [==============>...............] - ETA: 0s - loss: 0.0275\n",
      "Epoch 00095: val_loss improved from 0.01763 to 0.01762, saving model to model\\tmp_checkpoint_Covid.h5\n",
      "2/2 [==============================] - 0s 76ms/step - loss: 0.0198 - val_loss: 0.0176\n",
      "Epoch 96/100\n",
      "1/2 [==============>...............] - ETA: 0s - loss: 0.0275\n",
      "Epoch 00096: val_loss improved from 0.01762 to 0.01761, saving model to model\\tmp_checkpoint_Covid.h5\n",
      "2/2 [==============================] - 0s 71ms/step - loss: 0.0198 - val_loss: 0.0176\n",
      "Epoch 97/100\n",
      "1/2 [==============>...............] - ETA: 0s - loss: 0.0274\n",
      "Epoch 00097: val_loss improved from 0.01761 to 0.01760, saving model to model\\tmp_checkpoint_Covid.h5\n",
      "2/2 [==============================] - 0s 72ms/step - loss: 0.0198 - val_loss: 0.0176\n",
      "Epoch 98/100\n",
      "1/2 [==============>...............] - ETA: 0s - loss: 0.0274\n",
      "Epoch 00098: val_loss improved from 0.01760 to 0.01759, saving model to model\\tmp_checkpoint_Covid.h5\n",
      "2/2 [==============================] - 0s 65ms/step - loss: 0.0198 - val_loss: 0.0176\n",
      "Epoch 99/100\n",
      "1/2 [==============>...............] - ETA: 0s - loss: 0.0274\n",
      "Epoch 00099: val_loss improved from 0.01759 to 0.01758, saving model to model\\tmp_checkpoint_Covid.h5\n",
      "2/2 [==============================] - 0s 81ms/step - loss: 0.0198 - val_loss: 0.0176\n",
      "Epoch 100/100\n",
      "1/2 [==============>...............] - ETA: 0s - loss: 0.0274\n",
      "Epoch 00100: val_loss improved from 0.01758 to 0.01757, saving model to model\\tmp_checkpoint_Covid.h5\n",
      "2/2 [==============================] - 0s 83ms/step - loss: 0.0197 - val_loss: 0.0176\n"
     ]
    }
   ],
   "source": [
    "early_stop = EarlyStopping(monitor='val_loss', patience=10)\n",
    "\n",
    "with tf.device('/GPU:0'):\n",
    "    model_path = 'model'\n",
    "    filename = os.path.join(model_path, 'tmp_checkpoint_Covid.h5')\n",
    "    checkpoint = ModelCheckpoint(filename, monitor='val_loss', verbose=1, save_best_only=True, mode='auto')\n",
    "    history = model.fit(train_data, epochs=100, batch_size=32,validation_data=(valid_data), callbacks=[early_stop, checkpoint])"
   ]
  },
  {
   "cell_type": "code",
   "execution_count": 149,
   "id": "269d7721",
   "metadata": {},
   "outputs": [
    {
     "data": {
      "text/plain": [
       "(20, 1)"
      ]
     },
     "execution_count": 149,
     "metadata": {},
     "output_type": "execute_result"
    }
   ],
   "source": [
    "model.load_weights(filename)\n",
    "pred = model.predict(test['Won'])\n",
    "\n",
    "pred.shape"
   ]
  },
  {
   "cell_type": "markdown",
   "id": "3f70a61f",
   "metadata": {},
   "source": [
    "### 9. 결과 표시"
   ]
  },
  {
   "cell_type": "code",
   "execution_count": 150,
   "id": "33bddf7a",
   "metadata": {},
   "outputs": [
    {
     "name": "stdout",
     "output_type": "stream",
     "text": [
      "해당 폴더가 이미 존재합니다.\n"
     ]
    }
   ],
   "source": [
    "try:\n",
    "    os.mkdir('./Result')\n",
    "    print('폴더 생성 완료.')\n",
    "    \n",
    "except FileExistsError:\n",
    "    print('해당 폴더가 이미 존재합니다.')"
   ]
  },
  {
   "cell_type": "code",
   "execution_count": 151,
   "id": "90879fb0",
   "metadata": {},
   "outputs": [
    {
     "name": "stdout",
     "output_type": "stream",
     "text": [
      "해당 폴더가 이미 존재합니다.\n"
     ]
    }
   ],
   "source": [
    "try:\n",
    "    os.mkdir('./Result/CNN+LSTM')\n",
    "    os.mkdir('./Result/CNN+LSTM/Graph')\n",
    "    os.mkdir('./Result/CNN+LSTM/Data')\n",
    "    print('폴더 생성 완료.')\n",
    "    \n",
    "except FileExistsError:\n",
    "    print('해당 폴더가 이미 존재합니다.')"
   ]
  },
  {
   "cell_type": "code",
   "execution_count": 152,
   "id": "e96d8ad2",
   "metadata": {},
   "outputs": [
    {
     "data": {
      "text/plain": [
       "<function matplotlib.pyplot.show(close=None, block=None)>"
      ]
     },
     "execution_count": 152,
     "metadata": {},
     "output_type": "execute_result"
    },
    {
     "data": {
      "image/png": "[encoded data removed]",
      "text/plain": [
       "<Figure size 432x288 with 1 Axes>"
      ]
     },
     "metadata": {
      "needs_background": "light"
     },
     "output_type": "display_data"
    }
   ],
   "source": [
    "plt.title('Model Validation Loss', size='15')\n",
    "plt.xlabel('Epoch')\n",
    "plt.ylabel('Val_loss')\n",
    "plt.grid(True)\n",
    "plt.plot(history.history['val_loss'])\n",
    "plt.savefig('./Result/CNN+LSTM/Graph/Model_Valdation_Loss.png')\n",
    "plt.show"
   ]
  },
  {
   "cell_type": "markdown",
   "id": "d56b11c1",
   "metadata": {},
   "source": [
    "#### 성능 측정 지표"
   ]
  },
  {
   "cell_type": "code",
   "execution_count": 153,
   "id": "f21915c7",
   "metadata": {},
   "outputs": [
    {
     "name": "stdout",
     "output_type": "stream",
     "text": [
      "r2 >> -0.5982\n",
      "MAE >> 0.0986\n",
      "MSE >> 0.0168\n",
      "RMSE >> 0.1296\n"
     ]
    }
   ],
   "source": [
    "from sklearn.metrics import r2_score as r2\n",
    "from sklearn.metrics import mean_absolute_error as MAE\n",
    "from sklearn.metrics import mean_squared_error as MSE\n",
    "from sklearn.metrics import mean_squared_log_error as MSLE\n",
    "\n",
    "print('r2 >> %.4f' %r2(test['Won'], pred)) # 1에 가까워야 좋음\n",
    "print('MAE >> %.4f' %MAE(test['Won'], pred)) # 0에 가까워야 좋음\n",
    "print('MSE >> %.4f' %MSE(test['Won'], pred)) # 0에 가까워야 좋음\n",
    "print('RMSE >> %.4f' %np.sqrt(MSE(test['Won'], pred))) # 0에 가까워야 좋음\n",
    "#print('RMSLE >> %.4f' %np.sqrt(MSLE(test['Won'], pred))) # 0에 가까워야 좋음"
   ]
  },
  {
   "cell_type": "code",
   "execution_count": 154,
   "id": "afe21115",
   "metadata": {},
   "outputs": [
    {
     "name": "stdout",
     "output_type": "stream",
     "text": [
      "RMSE 측정 정확도 ==>> 87.040 %\n"
     ]
    }
   ],
   "source": [
    "RMSE = np.sqrt(MSE(test['Won'], pred))\n",
    "RMSE_pct = round(1-RMSE, 5)*100\n",
    "print('RMSE 측정 정확도 ==>> %.3f %%' %RMSE_pct)"
   ]
  },
  {
   "cell_type": "code",
   "execution_count": 155,
   "id": "d1d373a3",
   "metadata": {},
   "outputs": [
    {
     "name": "stdout",
     "output_type": "stream",
     "text": [
      "20 20\n"
     ]
    }
   ],
   "source": [
    "print(len(test), len(pred))"
   ]
  },
  {
   "cell_type": "code",
   "execution_count": 156,
   "id": "09554c4d",
   "metadata": {},
   "outputs": [
    {
     "data": {
      "image/png": "[encoded data removed]",
      "text/plain": [
       "<Figure size 432x288 with 1 Axes>"
      ]
     },
     "metadata": {
      "needs_background": "light"
     },
     "output_type": "display_data"
    }
   ],
   "source": [
    "plt.plot(test['Won'])\n",
    "plt.plot(pred)\n",
    "plt.show()"
   ]
  },
  {
   "cell_type": "code",
   "execution_count": null,
   "id": "dea28f7c",
   "metadata": {},
   "outputs": [],
   "source": []
  }
 ],
 "metadata": {
  "kernelspec": {
   "display_name": "Python 3 (ipykernel)",
   "language": "python",
   "name": "python3"
  },
  "language_info": {
   "codemirror_mode": {
    "name": "ipython",
    "version": 3
   },
   "file_extension": ".py",
   "mimetype": "text/x-python",
   "name": "python",
   "nbconvert_exporter": "python",
   "pygments_lexer": "ipython3",
   "version": "3.9.7"
  }
 },
 "nbformat": 4,
 "nbformat_minor": 5
}
