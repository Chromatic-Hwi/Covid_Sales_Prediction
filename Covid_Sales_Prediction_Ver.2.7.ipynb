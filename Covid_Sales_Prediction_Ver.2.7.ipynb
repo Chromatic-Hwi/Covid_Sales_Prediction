{
 "cells": [
  {
   "cell_type": "markdown",
   "id": "49534bc4",
   "metadata": {},
   "source": [
    "# Covid Sales Forecasting"
   ]
  },
  {
   "cell_type": "markdown",
   "id": "ea4a87c8",
   "metadata": {},
   "source": [
    "### 목차"
   ]
  },
  {
   "cell_type": "markdown",
   "id": "5039631b",
   "metadata": {},
   "source": [
    "#### 1. 모듈 및 데이터 임포트\n",
    "#####  <GPU 확인>\n",
    "#####  <데이터 임포트>\n",
    "<br/>\n",
    "\n",
    "#### 2. 데이터 전처리\n",
    "#####  2.1. MinMaxScaling\n",
    "#####  2.2. 데이터 연관성 분석\n",
    "#####  2.3. 이상치 처리\n",
    "#####  2.4. 데이터셋 분할\n",
    "#####  <결과기록용 데이터셋 저장>\n",
    "#####  <테스트셋 csv 저장>\n",
    "<br/>\n",
    "\n",
    "#### 3. 딥러닝\n",
    "#####  3.1. 네트워크 모델\n",
    "#####  <Plot model 저장>\n",
    "#####  3.2. 학습\n",
    "<br/>\n",
    "\n",
    "#### 4. 결과 표시\n",
    "#####  4.1. 손실 함수 그래프\n",
    "#####  <채점용 csv 저장>\n",
    "#####  4.2. 측정 성능 출력\n",
    "#####  4.3. 예측 그래프"
   ]
  },
  {
   "cell_type": "markdown",
   "id": "79f886a9",
   "metadata": {},
   "source": [
    "##### <화면 가로 확장>"
   ]
  },
  {
   "cell_type": "code",
   "execution_count": 1,
   "id": "01779336",
   "metadata": {},
   "outputs": [
    {
     "data": {
      "text/html": [
       "<style>.container { width:80% !important; }</style>"
      ],
      "text/plain": [
       "<IPython.core.display.HTML object>"
      ]
     },
     "metadata": {},
     "output_type": "display_data"
    }
   ],
   "source": [
    "# 화면 가로 확장 코드 (기본 width 50%)\n",
    "from IPython.core.display import display, HTML\n",
    "display(HTML(\"<style>.container { width:80% !important; }</style>\"))"
   ]
  },
  {
   "cell_type": "markdown",
   "id": "5914b761",
   "metadata": {},
   "source": [
    "### 1. 모듈 임포트"
   ]
  },
  {
   "cell_type": "code",
   "execution_count": 2,
   "id": "4fef1b48",
   "metadata": {},
   "outputs": [],
   "source": [
    "import numpy as np \n",
    "import pandas as pd \n",
    "import matplotlib.pyplot as plt\n",
    "from mpl_toolkits.mplot3d import Axes3D\n",
    "import seaborn as sns\n",
    "import tensorflow as tf\n",
    "import csv\n",
    "import os\n",
    "import datetime\n",
    "import h5py"
   ]
  },
  {
   "cell_type": "markdown",
   "id": "f7f69a8e",
   "metadata": {},
   "source": [
    "##### <GPU 확인>"
   ]
  },
  {
   "cell_type": "code",
   "execution_count": 3,
   "id": "b6295985",
   "metadata": {},
   "outputs": [
    {
     "data": {
      "text/plain": [
       "''"
      ]
     },
     "execution_count": 3,
     "metadata": {},
     "output_type": "execute_result"
    }
   ],
   "source": [
    "tf.test.gpu_device_name()"
   ]
  },
  {
   "cell_type": "markdown",
   "id": "9c1e9665",
   "metadata": {},
   "source": [
    "#### 최종 데이터 Import"
   ]
  },
  {
   "cell_type": "code",
   "execution_count": 4,
   "id": "5d68ba68",
   "metadata": {},
   "outputs": [
    {
     "data": {
      "text/html": [
       "<div>\n",
       "<style scoped>\n",
       "    .dataframe tbody tr th:only-of-type {\n",
       "        vertical-align: middle;\n",
       "    }\n",
       "\n",
       "    .dataframe tbody tr th {\n",
       "        vertical-align: top;\n",
       "    }\n",
       "\n",
       "    .dataframe thead th {\n",
       "        text-align: right;\n",
       "    }\n",
       "</style>\n",
       "<table border=\"1\" class=\"dataframe\">\n",
       "  <thead>\n",
       "    <tr style=\"text-align: right;\">\n",
       "      <th></th>\n",
       "      <th>Unnamed: 0</th>\n",
       "      <th>날짜</th>\n",
       "      <th>확진자수(양성)</th>\n",
       "      <th>검사수</th>\n",
       "      <th>확진자 증가량</th>\n",
       "      <th>검사수 증가량</th>\n",
       "      <th>18시 전 규제 인원수</th>\n",
       "      <th>18시 후 규제 인원수</th>\n",
       "      <th>영업 제한 시각</th>\n",
       "      <th>평균기온(°C)</th>\n",
       "      <th>강수여부</th>\n",
       "      <th>일강수량(mm)</th>\n",
       "      <th>평균 풍속(m/s)</th>\n",
       "      <th>Won</th>\n",
       "    </tr>\n",
       "  </thead>\n",
       "  <tbody>\n",
       "    <tr>\n",
       "      <th>0</th>\n",
       "      <td>0</td>\n",
       "      <td>20210101</td>\n",
       "      <td>61753</td>\n",
       "      <td>4269308</td>\n",
       "      <td>1027</td>\n",
       "      <td>55436</td>\n",
       "      <td>5</td>\n",
       "      <td>5</td>\n",
       "      <td>21</td>\n",
       "      <td>-4.2</td>\n",
       "      <td>0.0</td>\n",
       "      <td>0.0</td>\n",
       "      <td>2.0</td>\n",
       "      <td>0</td>\n",
       "    </tr>\n",
       "    <tr>\n",
       "      <th>1</th>\n",
       "      <td>1</td>\n",
       "      <td>20210102</td>\n",
       "      <td>62573</td>\n",
       "      <td>4302790</td>\n",
       "      <td>820</td>\n",
       "      <td>33482</td>\n",
       "      <td>5</td>\n",
       "      <td>5</td>\n",
       "      <td>21</td>\n",
       "      <td>-5.0</td>\n",
       "      <td>0.0</td>\n",
       "      <td>0.0</td>\n",
       "      <td>2.6</td>\n",
       "      <td>0</td>\n",
       "    </tr>\n",
       "    <tr>\n",
       "      <th>2</th>\n",
       "      <td>2</td>\n",
       "      <td>20210103</td>\n",
       "      <td>63230</td>\n",
       "      <td>4340830</td>\n",
       "      <td>657</td>\n",
       "      <td>38040</td>\n",
       "      <td>5</td>\n",
       "      <td>5</td>\n",
       "      <td>21</td>\n",
       "      <td>-5.6</td>\n",
       "      <td>0.0</td>\n",
       "      <td>0.0</td>\n",
       "      <td>2.0</td>\n",
       "      <td>0</td>\n",
       "    </tr>\n",
       "    <tr>\n",
       "      <th>3</th>\n",
       "      <td>3</td>\n",
       "      <td>20210104</td>\n",
       "      <td>64250</td>\n",
       "      <td>4376600</td>\n",
       "      <td>1020</td>\n",
       "      <td>35770</td>\n",
       "      <td>5</td>\n",
       "      <td>5</td>\n",
       "      <td>21</td>\n",
       "      <td>-3.5</td>\n",
       "      <td>0.0</td>\n",
       "      <td>0.0</td>\n",
       "      <td>1.7</td>\n",
       "      <td>249789</td>\n",
       "    </tr>\n",
       "    <tr>\n",
       "      <th>4</th>\n",
       "      <td>4</td>\n",
       "      <td>20210105</td>\n",
       "      <td>64964</td>\n",
       "      <td>4439352</td>\n",
       "      <td>714</td>\n",
       "      <td>62752</td>\n",
       "      <td>5</td>\n",
       "      <td>5</td>\n",
       "      <td>21</td>\n",
       "      <td>-5.5</td>\n",
       "      <td>0.0</td>\n",
       "      <td>0.0</td>\n",
       "      <td>2.9</td>\n",
       "      <td>211252</td>\n",
       "    </tr>\n",
       "    <tr>\n",
       "      <th>...</th>\n",
       "      <td>...</td>\n",
       "      <td>...</td>\n",
       "      <td>...</td>\n",
       "      <td>...</td>\n",
       "      <td>...</td>\n",
       "      <td>...</td>\n",
       "      <td>...</td>\n",
       "      <td>...</td>\n",
       "      <td>...</td>\n",
       "      <td>...</td>\n",
       "      <td>...</td>\n",
       "      <td>...</td>\n",
       "      <td>...</td>\n",
       "      <td>...</td>\n",
       "    </tr>\n",
       "    <tr>\n",
       "      <th>321</th>\n",
       "      <td>321</td>\n",
       "      <td>20211118</td>\n",
       "      <td>406065</td>\n",
       "      <td>15845430</td>\n",
       "      <td>3290</td>\n",
       "      <td>3290</td>\n",
       "      <td>10</td>\n",
       "      <td>10</td>\n",
       "      <td>27</td>\n",
       "      <td>11.9</td>\n",
       "      <td>0.0</td>\n",
       "      <td>0.0</td>\n",
       "      <td>2.4</td>\n",
       "      <td>322402</td>\n",
       "    </tr>\n",
       "    <tr>\n",
       "      <th>322</th>\n",
       "      <td>322</td>\n",
       "      <td>20211119</td>\n",
       "      <td>409099</td>\n",
       "      <td>15848464</td>\n",
       "      <td>3034</td>\n",
       "      <td>3034</td>\n",
       "      <td>10</td>\n",
       "      <td>10</td>\n",
       "      <td>27</td>\n",
       "      <td>12.9</td>\n",
       "      <td>0.0</td>\n",
       "      <td>0.0</td>\n",
       "      <td>1.9</td>\n",
       "      <td>55371</td>\n",
       "    </tr>\n",
       "    <tr>\n",
       "      <th>323</th>\n",
       "      <td>323</td>\n",
       "      <td>20211120</td>\n",
       "      <td>412305</td>\n",
       "      <td>15851670</td>\n",
       "      <td>3206</td>\n",
       "      <td>3206</td>\n",
       "      <td>10</td>\n",
       "      <td>10</td>\n",
       "      <td>27</td>\n",
       "      <td>10.4</td>\n",
       "      <td>0.0</td>\n",
       "      <td>0.0</td>\n",
       "      <td>1.6</td>\n",
       "      <td>0</td>\n",
       "    </tr>\n",
       "    <tr>\n",
       "      <th>324</th>\n",
       "      <td>324</td>\n",
       "      <td>20211121</td>\n",
       "      <td>415425</td>\n",
       "      <td>15854790</td>\n",
       "      <td>3120</td>\n",
       "      <td>3120</td>\n",
       "      <td>10</td>\n",
       "      <td>10</td>\n",
       "      <td>27</td>\n",
       "      <td>10.4</td>\n",
       "      <td>1.0</td>\n",
       "      <td>5.9</td>\n",
       "      <td>1.9</td>\n",
       "      <td>0</td>\n",
       "    </tr>\n",
       "    <tr>\n",
       "      <th>325</th>\n",
       "      <td>325</td>\n",
       "      <td>20211122</td>\n",
       "      <td>418252</td>\n",
       "      <td>15857617</td>\n",
       "      <td>2827</td>\n",
       "      <td>2827</td>\n",
       "      <td>10</td>\n",
       "      <td>10</td>\n",
       "      <td>27</td>\n",
       "      <td>2.7</td>\n",
       "      <td>1.0</td>\n",
       "      <td>1.3</td>\n",
       "      <td>4.1</td>\n",
       "      <td>68641</td>\n",
       "    </tr>\n",
       "  </tbody>\n",
       "</table>\n",
       "<p>326 rows × 14 columns</p>\n",
       "</div>"
      ],
      "text/plain": [
       "     Unnamed: 0        날짜  확진자수(양성)       검사수  확진자 증가량  검사수 증가량  18시 전 규제 인원수  \\\n",
       "0             0  20210101     61753   4269308     1027    55436             5   \n",
       "1             1  20210102     62573   4302790      820    33482             5   \n",
       "2             2  20210103     63230   4340830      657    38040             5   \n",
       "3             3  20210104     64250   4376600     1020    35770             5   \n",
       "4             4  20210105     64964   4439352      714    62752             5   \n",
       "..          ...       ...       ...       ...      ...      ...           ...   \n",
       "321         321  20211118    406065  15845430     3290     3290            10   \n",
       "322         322  20211119    409099  15848464     3034     3034            10   \n",
       "323         323  20211120    412305  15851670     3206     3206            10   \n",
       "324         324  20211121    415425  15854790     3120     3120            10   \n",
       "325         325  20211122    418252  15857617     2827     2827            10   \n",
       "\n",
       "     18시 후 규제 인원수  영업 제한 시각  평균기온(°C)  강수여부  일강수량(mm)  평균 풍속(m/s)     Won  \n",
       "0               5        21      -4.2   0.0       0.0         2.0       0  \n",
       "1               5        21      -5.0   0.0       0.0         2.6       0  \n",
       "2               5        21      -5.6   0.0       0.0         2.0       0  \n",
       "3               5        21      -3.5   0.0       0.0         1.7  249789  \n",
       "4               5        21      -5.5   0.0       0.0         2.9  211252  \n",
       "..            ...       ...       ...   ...       ...         ...     ...  \n",
       "321            10        27      11.9   0.0       0.0         2.4  322402  \n",
       "322            10        27      12.9   0.0       0.0         1.9   55371  \n",
       "323            10        27      10.4   0.0       0.0         1.6       0  \n",
       "324            10        27      10.4   1.0       5.9         1.9       0  \n",
       "325            10        27       2.7   1.0       1.3         4.1   68641  \n",
       "\n",
       "[326 rows x 14 columns]"
      ]
     },
     "execution_count": 4,
     "metadata": {},
     "output_type": "execute_result"
    }
   ],
   "source": [
    "Data_Combined=pd.read_csv('./Data/2021_Data_Combined.csv', encoding='cp949')\n",
    "Data_Combined"
   ]
  },
  {
   "cell_type": "code",
   "execution_count": 5,
   "id": "82d48c93",
   "metadata": {},
   "outputs": [
    {
     "data": {
      "text/plain": [
       "1310714"
      ]
     },
     "execution_count": 5,
     "metadata": {},
     "output_type": "execute_result"
    }
   ],
   "source": [
    "Data_Combined['Won'].max()"
   ]
  },
  {
   "cell_type": "markdown",
   "id": "3fb042ae",
   "metadata": {},
   "source": [
    "### 2. 데이터 전처리"
   ]
  },
  {
   "cell_type": "markdown",
   "id": "60c87e2c",
   "metadata": {},
   "source": [
    "#### 2.1. Min-Max Scaling"
   ]
  },
  {
   "cell_type": "code",
   "execution_count": 6,
   "id": "b72ea907",
   "metadata": {},
   "outputs": [
    {
     "data": {
      "text/html": [
       "<div>\n",
       "<style scoped>\n",
       "    .dataframe tbody tr th:only-of-type {\n",
       "        vertical-align: middle;\n",
       "    }\n",
       "\n",
       "    .dataframe tbody tr th {\n",
       "        vertical-align: top;\n",
       "    }\n",
       "\n",
       "    .dataframe thead th {\n",
       "        text-align: right;\n",
       "    }\n",
       "</style>\n",
       "<table border=\"1\" class=\"dataframe\">\n",
       "  <thead>\n",
       "    <tr style=\"text-align: right;\">\n",
       "      <th></th>\n",
       "      <th>날짜</th>\n",
       "      <th>확진자수(양성)</th>\n",
       "      <th>검사수</th>\n",
       "      <th>확진자 증가량</th>\n",
       "      <th>검사수 증가량</th>\n",
       "      <th>18시 전 규제 인원수</th>\n",
       "      <th>18시 후 규제 인원수</th>\n",
       "      <th>영업 제한 시각</th>\n",
       "      <th>평균기온(°C)</th>\n",
       "      <th>강수여부</th>\n",
       "      <th>일강수량(mm)</th>\n",
       "      <th>평균 풍속(m/s)</th>\n",
       "      <th>Won</th>\n",
       "    </tr>\n",
       "  </thead>\n",
       "  <tbody>\n",
       "    <tr>\n",
       "      <th>0</th>\n",
       "      <td>20210101</td>\n",
       "      <td>0.000000</td>\n",
       "      <td>0.000000</td>\n",
       "      <td>0.246169</td>\n",
       "      <td>0.771646</td>\n",
       "      <td>0.0</td>\n",
       "      <td>0.285714</td>\n",
       "      <td>0.0</td>\n",
       "      <td>0.229614</td>\n",
       "      <td>0.0</td>\n",
       "      <td>0.000000</td>\n",
       "      <td>0.189189</td>\n",
       "      <td>0.000000</td>\n",
       "    </tr>\n",
       "    <tr>\n",
       "      <th>1</th>\n",
       "      <td>20210102</td>\n",
       "      <td>0.002300</td>\n",
       "      <td>0.002889</td>\n",
       "      <td>0.177215</td>\n",
       "      <td>0.457038</td>\n",
       "      <td>0.0</td>\n",
       "      <td>0.285714</td>\n",
       "      <td>0.0</td>\n",
       "      <td>0.212446</td>\n",
       "      <td>0.0</td>\n",
       "      <td>0.000000</td>\n",
       "      <td>0.351351</td>\n",
       "      <td>0.000000</td>\n",
       "    </tr>\n",
       "    <tr>\n",
       "      <th>2</th>\n",
       "      <td>20210103</td>\n",
       "      <td>0.004143</td>\n",
       "      <td>0.006172</td>\n",
       "      <td>0.122918</td>\n",
       "      <td>0.522355</td>\n",
       "      <td>0.0</td>\n",
       "      <td>0.285714</td>\n",
       "      <td>0.0</td>\n",
       "      <td>0.199571</td>\n",
       "      <td>0.0</td>\n",
       "      <td>0.000000</td>\n",
       "      <td>0.189189</td>\n",
       "      <td>0.000000</td>\n",
       "    </tr>\n",
       "    <tr>\n",
       "      <th>3</th>\n",
       "      <td>20210104</td>\n",
       "      <td>0.007004</td>\n",
       "      <td>0.009259</td>\n",
       "      <td>0.243837</td>\n",
       "      <td>0.489825</td>\n",
       "      <td>0.0</td>\n",
       "      <td>0.285714</td>\n",
       "      <td>0.0</td>\n",
       "      <td>0.244635</td>\n",
       "      <td>0.0</td>\n",
       "      <td>0.000000</td>\n",
       "      <td>0.108108</td>\n",
       "      <td>0.190575</td>\n",
       "    </tr>\n",
       "    <tr>\n",
       "      <th>4</th>\n",
       "      <td>20210105</td>\n",
       "      <td>0.009007</td>\n",
       "      <td>0.014674</td>\n",
       "      <td>0.141905</td>\n",
       "      <td>0.876487</td>\n",
       "      <td>0.0</td>\n",
       "      <td>0.285714</td>\n",
       "      <td>0.0</td>\n",
       "      <td>0.201717</td>\n",
       "      <td>0.0</td>\n",
       "      <td>0.000000</td>\n",
       "      <td>0.432432</td>\n",
       "      <td>0.161173</td>\n",
       "    </tr>\n",
       "    <tr>\n",
       "      <th>...</th>\n",
       "      <td>...</td>\n",
       "      <td>...</td>\n",
       "      <td>...</td>\n",
       "      <td>...</td>\n",
       "      <td>...</td>\n",
       "      <td>...</td>\n",
       "      <td>...</td>\n",
       "      <td>...</td>\n",
       "      <td>...</td>\n",
       "      <td>...</td>\n",
       "      <td>...</td>\n",
       "      <td>...</td>\n",
       "      <td>...</td>\n",
       "    </tr>\n",
       "    <tr>\n",
       "      <th>321</th>\n",
       "      <td>20211118</td>\n",
       "      <td>0.965815</td>\n",
       "      <td>0.998948</td>\n",
       "      <td>1.000000</td>\n",
       "      <td>0.024376</td>\n",
       "      <td>1.0</td>\n",
       "      <td>1.000000</td>\n",
       "      <td>1.0</td>\n",
       "      <td>0.575107</td>\n",
       "      <td>0.0</td>\n",
       "      <td>0.000000</td>\n",
       "      <td>0.297297</td>\n",
       "      <td>0.245974</td>\n",
       "    </tr>\n",
       "    <tr>\n",
       "      <th>322</th>\n",
       "      <td>20211119</td>\n",
       "      <td>0.974325</td>\n",
       "      <td>0.999210</td>\n",
       "      <td>0.914724</td>\n",
       "      <td>0.020707</td>\n",
       "      <td>1.0</td>\n",
       "      <td>1.000000</td>\n",
       "      <td>1.0</td>\n",
       "      <td>0.596567</td>\n",
       "      <td>0.0</td>\n",
       "      <td>0.000000</td>\n",
       "      <td>0.162162</td>\n",
       "      <td>0.042245</td>\n",
       "    </tr>\n",
       "    <tr>\n",
       "      <th>323</th>\n",
       "      <td>20211120</td>\n",
       "      <td>0.983318</td>\n",
       "      <td>0.999487</td>\n",
       "      <td>0.972019</td>\n",
       "      <td>0.023172</td>\n",
       "      <td>1.0</td>\n",
       "      <td>1.000000</td>\n",
       "      <td>1.0</td>\n",
       "      <td>0.542918</td>\n",
       "      <td>0.0</td>\n",
       "      <td>0.000000</td>\n",
       "      <td>0.081081</td>\n",
       "      <td>0.000000</td>\n",
       "    </tr>\n",
       "    <tr>\n",
       "      <th>324</th>\n",
       "      <td>20211121</td>\n",
       "      <td>0.992070</td>\n",
       "      <td>0.999756</td>\n",
       "      <td>0.943371</td>\n",
       "      <td>0.021940</td>\n",
       "      <td>1.0</td>\n",
       "      <td>1.000000</td>\n",
       "      <td>1.0</td>\n",
       "      <td>0.542918</td>\n",
       "      <td>1.0</td>\n",
       "      <td>0.076227</td>\n",
       "      <td>0.162162</td>\n",
       "      <td>0.000000</td>\n",
       "    </tr>\n",
       "    <tr>\n",
       "      <th>325</th>\n",
       "      <td>20211122</td>\n",
       "      <td>1.000000</td>\n",
       "      <td>1.000000</td>\n",
       "      <td>0.845769</td>\n",
       "      <td>0.017741</td>\n",
       "      <td>1.0</td>\n",
       "      <td>1.000000</td>\n",
       "      <td>1.0</td>\n",
       "      <td>0.377682</td>\n",
       "      <td>1.0</td>\n",
       "      <td>0.016796</td>\n",
       "      <td>0.756757</td>\n",
       "      <td>0.052369</td>\n",
       "    </tr>\n",
       "  </tbody>\n",
       "</table>\n",
       "<p>326 rows × 13 columns</p>\n",
       "</div>"
      ],
      "text/plain": [
       "           날짜  확진자수(양성)       검사수   확진자 증가량   검사수 증가량  18시 전 규제 인원수  \\\n",
       "0    20210101  0.000000  0.000000  0.246169  0.771646           0.0   \n",
       "1    20210102  0.002300  0.002889  0.177215  0.457038           0.0   \n",
       "2    20210103  0.004143  0.006172  0.122918  0.522355           0.0   \n",
       "3    20210104  0.007004  0.009259  0.243837  0.489825           0.0   \n",
       "4    20210105  0.009007  0.014674  0.141905  0.876487           0.0   \n",
       "..        ...       ...       ...       ...       ...           ...   \n",
       "321  20211118  0.965815  0.998948  1.000000  0.024376           1.0   \n",
       "322  20211119  0.974325  0.999210  0.914724  0.020707           1.0   \n",
       "323  20211120  0.983318  0.999487  0.972019  0.023172           1.0   \n",
       "324  20211121  0.992070  0.999756  0.943371  0.021940           1.0   \n",
       "325  20211122  1.000000  1.000000  0.845769  0.017741           1.0   \n",
       "\n",
       "     18시 후 규제 인원수  영업 제한 시각  평균기온(°C)  강수여부  일강수량(mm)  평균 풍속(m/s)       Won  \n",
       "0        0.285714       0.0  0.229614   0.0  0.000000    0.189189  0.000000  \n",
       "1        0.285714       0.0  0.212446   0.0  0.000000    0.351351  0.000000  \n",
       "2        0.285714       0.0  0.199571   0.0  0.000000    0.189189  0.000000  \n",
       "3        0.285714       0.0  0.244635   0.0  0.000000    0.108108  0.190575  \n",
       "4        0.285714       0.0  0.201717   0.0  0.000000    0.432432  0.161173  \n",
       "..            ...       ...       ...   ...       ...         ...       ...  \n",
       "321      1.000000       1.0  0.575107   0.0  0.000000    0.297297  0.245974  \n",
       "322      1.000000       1.0  0.596567   0.0  0.000000    0.162162  0.042245  \n",
       "323      1.000000       1.0  0.542918   0.0  0.000000    0.081081  0.000000  \n",
       "324      1.000000       1.0  0.542918   1.0  0.076227    0.162162  0.000000  \n",
       "325      1.000000       1.0  0.377682   1.0  0.016796    0.756757  0.052369  \n",
       "\n",
       "[326 rows x 13 columns]"
      ]
     },
     "execution_count": 6,
     "metadata": {},
     "output_type": "execute_result"
    }
   ],
   "source": [
    "from sklearn.preprocessing import MinMaxScaler\n",
    "# 정규화 과정을 거쳐 데이터 범위를 원하는 범위로 제한. 그래프는 동일하나 손실 정도를 확인하기에 더 좋음.\n",
    "# 배치 정규화는 기울기 소멸 문제를 해결하기는 좋으나, RNN의 경우 계층별로 미니 정규화 적용이 필요해 모델이 복잡해지고 효율이 저하됨.\n",
    "Data_Combined.sort_index(ascending=False).reset_index(drop=True)\n",
    "\n",
    "scaler = MinMaxScaler()\n",
    "scale_cols = ['확진자수(양성)', '검사수', '확진자 증가량', '검사수 증가량', '18시 전 규제 인원수', '18시 후 규제 인원수', '영업 제한 시각', '평균기온(°C)', '강수여부', '일강수량(mm)', '평균 풍속(m/s)', 'Won']\n",
    "Data_scaled = scaler.fit_transform(Data_Combined[scale_cols])\n",
    "Data_scaled = pd.DataFrame(Data_scaled)\n",
    "Data_scaled.columns = scale_cols\n",
    "\n",
    "Data_scaled.insert(0, '날짜', Data_Combined['날짜'])\n",
    "Data_scaled"
   ]
  },
  {
   "cell_type": "markdown",
   "id": "88477722",
   "metadata": {},
   "source": [
    "#### 2.2.. 데이터 연관성 분석"
   ]
  },
  {
   "cell_type": "code",
   "execution_count": 7,
   "id": "81e71bfa",
   "metadata": {},
   "outputs": [
    {
     "data": {
      "text/plain": [
       "Index(['날짜', '확진자수(양성)', '검사수', '확진자 증가량', '검사수 증가량', '18시 전 규제 인원수',\n",
       "       '18시 후 규제 인원수', '영업 제한 시각', '평균기온(°C)', '강수여부', '일강수량(mm)',\n",
       "       '평균 풍속(m/s)', 'Won'],\n",
       "      dtype='object')"
      ]
     },
     "execution_count": 7,
     "metadata": {},
     "output_type": "execute_result"
    }
   ],
   "source": [
    "Data_scaled.columns"
   ]
  },
  {
   "cell_type": "code",
   "execution_count": 8,
   "id": "38e5c5fb",
   "metadata": {},
   "outputs": [
    {
     "name": "stdout",
     "output_type": "stream",
     "text": [
      "< 확진자수(양성)-Won >\n",
      "P-value ==>> 0.093\n",
      "\n",
      "< 검사수-Won >\n",
      "P-value ==>> 0.029\n",
      "\n",
      "< 확진자 증가량-Won >\n",
      "P-value ==>> 0.537\n",
      "\n",
      "< 검사수 증가량-Won >\n",
      "P-value ==>> 0.000\n",
      "\n",
      "< 18시 전 규제 인원수-Won >\n",
      "P-value ==>> 0.263\n",
      "\n",
      "< 18시 후 규제 인원수-Won >\n",
      "P-value ==>> 0.660\n",
      "\n",
      "< 영업 제한 시각-Won >\n",
      "P-value ==>> 0.079\n",
      "\n",
      "< 평균기온(°C)-Won >\n",
      "P-value ==>> 0.006\n",
      "\n",
      "< 강수여부-Won >\n",
      "P-value ==>> 0.061\n",
      "\n",
      "< 일강수량(mm)-Won >\n",
      "P-value ==>> 0.027\n",
      "\n",
      "< 평균 풍속(m/s)-Won >\n",
      "P-value ==>> 0.783\n",
      "\n"
     ]
    }
   ],
   "source": [
    "import scipy.stats as stats\n",
    "\n",
    "# 피어슨 stat을 이용하면 피어슨 상관계수와 p-value값이 출력되는데 상관계수는 양 or 음의 비례관계 정도를, p-value는 상관 정도를 보여준다. (0에 가까울수록 영향이 크다.)\n",
    "def P_value(dataset, c1, c2):\n",
    "    Correlation=stats.pearsonr(dataset[c1], dataset[c2])\n",
    "    print('< '+c1+'-'+c2+' >')\n",
    "    print('P-value ==>> %.3f\\n' %Correlation[1])\n",
    "\n",
    "for p in range(1, len(Data_scaled.columns)-1):\n",
    "    P_value(Data_scaled, Data_scaled.columns[p], 'Won')"
   ]
  },
  {
   "cell_type": "code",
   "execution_count": 9,
   "id": "4ce0ee9a",
   "metadata": {},
   "outputs": [],
   "source": [
    "#Data_P = Data_scaled.drop([Data_scaled.columns[1], Data_scaled.columns[3], Data_scaled.columns[4], Data_scaled.columns[5], Data_scaled.columns[7], Data_scaled.columns[9]], axis=1)\n",
    "Data_P = Data_scaled.loc[:, ['날짜', '검사수', '검사수 증가량', '영업 제한 시각', '평균기온(°C)', '일강수량(mm)', 'Won']]"
   ]
  },
  {
   "cell_type": "code",
   "execution_count": 10,
   "id": "facb50d7",
   "metadata": {},
   "outputs": [
    {
     "data": {
      "text/html": [
       "<div>\n",
       "<style scoped>\n",
       "    .dataframe tbody tr th:only-of-type {\n",
       "        vertical-align: middle;\n",
       "    }\n",
       "\n",
       "    .dataframe tbody tr th {\n",
       "        vertical-align: top;\n",
       "    }\n",
       "\n",
       "    .dataframe thead th {\n",
       "        text-align: right;\n",
       "    }\n",
       "</style>\n",
       "<table border=\"1\" class=\"dataframe\">\n",
       "  <thead>\n",
       "    <tr style=\"text-align: right;\">\n",
       "      <th></th>\n",
       "      <th>날짜</th>\n",
       "      <th>검사수</th>\n",
       "      <th>검사수 증가량</th>\n",
       "      <th>영업 제한 시각</th>\n",
       "      <th>평균기온(°C)</th>\n",
       "      <th>일강수량(mm)</th>\n",
       "      <th>Won</th>\n",
       "    </tr>\n",
       "  </thead>\n",
       "  <tbody>\n",
       "    <tr>\n",
       "      <th>0</th>\n",
       "      <td>20210101</td>\n",
       "      <td>0.000000</td>\n",
       "      <td>0.771646</td>\n",
       "      <td>0.0</td>\n",
       "      <td>0.229614</td>\n",
       "      <td>0.000000</td>\n",
       "      <td>0.000000</td>\n",
       "    </tr>\n",
       "    <tr>\n",
       "      <th>1</th>\n",
       "      <td>20210102</td>\n",
       "      <td>0.002889</td>\n",
       "      <td>0.457038</td>\n",
       "      <td>0.0</td>\n",
       "      <td>0.212446</td>\n",
       "      <td>0.000000</td>\n",
       "      <td>0.000000</td>\n",
       "    </tr>\n",
       "    <tr>\n",
       "      <th>2</th>\n",
       "      <td>20210103</td>\n",
       "      <td>0.006172</td>\n",
       "      <td>0.522355</td>\n",
       "      <td>0.0</td>\n",
       "      <td>0.199571</td>\n",
       "      <td>0.000000</td>\n",
       "      <td>0.000000</td>\n",
       "    </tr>\n",
       "    <tr>\n",
       "      <th>3</th>\n",
       "      <td>20210104</td>\n",
       "      <td>0.009259</td>\n",
       "      <td>0.489825</td>\n",
       "      <td>0.0</td>\n",
       "      <td>0.244635</td>\n",
       "      <td>0.000000</td>\n",
       "      <td>0.190575</td>\n",
       "    </tr>\n",
       "    <tr>\n",
       "      <th>4</th>\n",
       "      <td>20210105</td>\n",
       "      <td>0.014674</td>\n",
       "      <td>0.876487</td>\n",
       "      <td>0.0</td>\n",
       "      <td>0.201717</td>\n",
       "      <td>0.000000</td>\n",
       "      <td>0.161173</td>\n",
       "    </tr>\n",
       "    <tr>\n",
       "      <th>...</th>\n",
       "      <td>...</td>\n",
       "      <td>...</td>\n",
       "      <td>...</td>\n",
       "      <td>...</td>\n",
       "      <td>...</td>\n",
       "      <td>...</td>\n",
       "      <td>...</td>\n",
       "    </tr>\n",
       "    <tr>\n",
       "      <th>321</th>\n",
       "      <td>20211118</td>\n",
       "      <td>0.998948</td>\n",
       "      <td>0.024376</td>\n",
       "      <td>1.0</td>\n",
       "      <td>0.575107</td>\n",
       "      <td>0.000000</td>\n",
       "      <td>0.245974</td>\n",
       "    </tr>\n",
       "    <tr>\n",
       "      <th>322</th>\n",
       "      <td>20211119</td>\n",
       "      <td>0.999210</td>\n",
       "      <td>0.020707</td>\n",
       "      <td>1.0</td>\n",
       "      <td>0.596567</td>\n",
       "      <td>0.000000</td>\n",
       "      <td>0.042245</td>\n",
       "    </tr>\n",
       "    <tr>\n",
       "      <th>323</th>\n",
       "      <td>20211120</td>\n",
       "      <td>0.999487</td>\n",
       "      <td>0.023172</td>\n",
       "      <td>1.0</td>\n",
       "      <td>0.542918</td>\n",
       "      <td>0.000000</td>\n",
       "      <td>0.000000</td>\n",
       "    </tr>\n",
       "    <tr>\n",
       "      <th>324</th>\n",
       "      <td>20211121</td>\n",
       "      <td>0.999756</td>\n",
       "      <td>0.021940</td>\n",
       "      <td>1.0</td>\n",
       "      <td>0.542918</td>\n",
       "      <td>0.076227</td>\n",
       "      <td>0.000000</td>\n",
       "    </tr>\n",
       "    <tr>\n",
       "      <th>325</th>\n",
       "      <td>20211122</td>\n",
       "      <td>1.000000</td>\n",
       "      <td>0.017741</td>\n",
       "      <td>1.0</td>\n",
       "      <td>0.377682</td>\n",
       "      <td>0.016796</td>\n",
       "      <td>0.052369</td>\n",
       "    </tr>\n",
       "  </tbody>\n",
       "</table>\n",
       "<p>326 rows × 7 columns</p>\n",
       "</div>"
      ],
      "text/plain": [
       "           날짜       검사수   검사수 증가량  영업 제한 시각  평균기온(°C)  일강수량(mm)       Won\n",
       "0    20210101  0.000000  0.771646       0.0  0.229614  0.000000  0.000000\n",
       "1    20210102  0.002889  0.457038       0.0  0.212446  0.000000  0.000000\n",
       "2    20210103  0.006172  0.522355       0.0  0.199571  0.000000  0.000000\n",
       "3    20210104  0.009259  0.489825       0.0  0.244635  0.000000  0.190575\n",
       "4    20210105  0.014674  0.876487       0.0  0.201717  0.000000  0.161173\n",
       "..        ...       ...       ...       ...       ...       ...       ...\n",
       "321  20211118  0.998948  0.024376       1.0  0.575107  0.000000  0.245974\n",
       "322  20211119  0.999210  0.020707       1.0  0.596567  0.000000  0.042245\n",
       "323  20211120  0.999487  0.023172       1.0  0.542918  0.000000  0.000000\n",
       "324  20211121  0.999756  0.021940       1.0  0.542918  0.076227  0.000000\n",
       "325  20211122  1.000000  0.017741       1.0  0.377682  0.016796  0.052369\n",
       "\n",
       "[326 rows x 7 columns]"
      ]
     },
     "execution_count": 10,
     "metadata": {},
     "output_type": "execute_result"
    }
   ],
   "source": [
    "Data_P"
   ]
  },
  {
   "cell_type": "markdown",
   "id": "043d8fb9",
   "metadata": {},
   "source": [
    "#### 2.3. 이상치 처리"
   ]
  },
  {
   "cell_type": "code",
   "execution_count": 11,
   "id": "82656f2d",
   "metadata": {},
   "outputs": [],
   "source": [
    "def get_outlier(df=None, column=None, weight=None):\n",
    "    quantile_5 = np.percentile(df[column].values, 5)\n",
    "    quantile_25 = np.percentile(df[column].values, 25)\n",
    "    quantile_50 = np.percentile(df[column].values, 50)\n",
    "    quantile_75 = np.percentile(df[column].values, 75)\n",
    "    quantile_95 = np.percentile(df[column].values, 95)\n",
    "    \n",
    "    IQR = quantile_75 - quantile_25\n",
    "    IQR_weight = IQR * weight\n",
    "\n",
    "    lowest_val = quantile_25-IQR_weight\n",
    "    highest_val = quantile_75+IQR_weight\n",
    "    \n",
    "    outlier_index_lowest = df[column][df[column] < quantile_5].index\n",
    "    outlier_index_low = df[column][df[column] < lowest_val].index\n",
    "    outlier_index_high = df[column][df[column] > highest_val].index\n",
    "    outlier_index_highest = df[column][df[column] > quantile_95].index\n",
    "    \n",
    "    return outlier_index_lowest, outlier_index_low, outlier_index_high, outlier_index_highest, quantile_5, quantile_25, quantile_50, quantile_75, quantile_95"
   ]
  },
  {
   "cell_type": "code",
   "execution_count": 12,
   "id": "91eba6bb",
   "metadata": {},
   "outputs": [
    {
     "name": "stdout",
     "output_type": "stream",
     "text": [
      "Lowest Outlier ==>> Int64Index([], dtype='int64')\n",
      "\n",
      "Low Outlier ==>> Int64Index([], dtype='int64')\n",
      "\n",
      "High Outlier ==>> Int64Index([6, 13, 48, 63, 69, 90, 111, 140, 209, 258, 280, 293], dtype='int64')\n",
      "\n",
      "Highest Outlier ==>> Int64Index([6, 13, 48, 63, 69, 76, 90, 111, 140, 209, 258, 269, 272, 280, 287,\n",
      "            293, 307],\n",
      "           dtype='int64')\n",
      "\n",
      "5% Value ==>> 0.0\n",
      "\n",
      "25% Value ==>> 0.0\n",
      "\n",
      "50% Value ==>> 0.060951893395508105\n",
      "\n",
      "75% Value ==>> 0.11486601958932308\n",
      "\n",
      "95% Value ==>> 0.38097422473552583\n"
     ]
    }
   ],
   "source": [
    "print('Lowest Outlier ==>> {}\\n'.format(get_outlier(df=Data_P, column='Won', weight=2.5)[0]))\n",
    "print('Low Outlier ==>> {}\\n'.format(get_outlier(df=Data_P, column='Won', weight=2.5)[1]))\n",
    "print('High Outlier ==>> {}\\n'.format(get_outlier(df=Data_P, column='Won', weight=2.5)[2]))\n",
    "print('Highest Outlier ==>> {}\\n'.format(get_outlier(df=Data_P, column='Won', weight=2.5)[3]))\n",
    "\n",
    "print('5% Value ==>> {}\\n'.format(get_outlier(df=Data_P, column='Won', weight=2.5)[4]))\n",
    "print('25% Value ==>> {}\\n'.format(get_outlier(df=Data_P, column='Won', weight=2.5)[5]))\n",
    "print('50% Value ==>> {}\\n'.format(get_outlier(df=Data_P, column='Won', weight=2.5)[6]))\n",
    "print('75% Value ==>> {}\\n'.format(get_outlier(df=Data_P, column='Won', weight=2.5)[7]))\n",
    "print('95% Value ==>> {}'.format(get_outlier(df=Data_P, column='Won', weight=2.5)[8]))"
   ]
  },
  {
   "cell_type": "code",
   "execution_count": 13,
   "id": "fd009cc7",
   "metadata": {},
   "outputs": [
    {
     "name": "stderr",
     "output_type": "stream",
     "text": [
      "C:\\Users\\Hwi\\AppData\\Local\\Temp/ipykernel_9004/4083870477.py:4: SettingWithCopyWarning: \n",
      "A value is trying to be set on a copy of a slice from a DataFrame\n",
      "\n",
      "See the caveats in the documentation: https://pandas.pydata.org/pandas-docs/stable/user_guide/indexing.html#returning-a-view-versus-a-copy\n",
      "  Data_P['Won'][high_val[l]] = get_outlier(df=Data_P, column='Won', weight=2.5)[7]\n"
     ]
    }
   ],
   "source": [
    "high_val = get_outlier(df=Data_P, column='Won', weight=2.5)[2].values.tolist()\n",
    "\n",
    "for l in range(len(high_val)):\n",
    "    Data_P['Won'][high_val[l]] = get_outlier(df=Data_P, column='Won', weight=2.5)[7]"
   ]
  },
  {
   "cell_type": "code",
   "execution_count": 14,
   "id": "e678ecf9",
   "metadata": {},
   "outputs": [
    {
     "name": "stdout",
     "output_type": "stream",
     "text": [
      "Quantity of Low Outlier ==>> 0\n",
      "\n",
      "Quantity of High Outlier ==>> 0\n",
      "\n"
     ]
    }
   ],
   "source": [
    "print('Quantity of Low Outlier ==>> {}\\n'.format(len(get_outlier(df=Data_P, column='Won', weight=2.5)[1])))\n",
    "print('Quantity of High Outlier ==>> {}\\n'.format(len(get_outlier(df=Data_P, column='Won', weight=2.5)[2])))"
   ]
  },
  {
   "cell_type": "markdown",
   "id": "8395aaba",
   "metadata": {},
   "source": [
    "#### 2.4. 데이터셋 분할"
   ]
  },
  {
   "cell_type": "code",
   "execution_count": 15,
   "id": "91bae70e",
   "metadata": {},
   "outputs": [],
   "source": [
    "TEST_SIZE = 14\n",
    "WINDOW_SIZE = 7 # 얼마 동안의 과거 기반의 데이터에 기반하여 다음날의 값을 예측할 것인지 설정. \n",
    "BATCH_SIZE = 256\n",
    "\n",
    "train = Data_P[:-TEST_SIZE]\n",
    "test= Data_P[-TEST_SIZE:]\n",
    "test = test.reset_index(drop=True) # 인덱스 초기화"
   ]
  },
  {
   "cell_type": "code",
   "execution_count": 16,
   "id": "7609ba6c",
   "metadata": {},
   "outputs": [],
   "source": [
    "from sklearn.model_selection import train_test_split\n",
    "\n",
    "feature_cols = ['검사수', '검사수 증가량', '영업 제한 시각', '평균기온(°C)', '일강수량(mm)', 'Won']\n",
    "label_cols = ['Won']\n",
    "\n",
    "train_feature = train[feature_cols]\n",
    "train_label = train[label_cols]\n",
    "\n",
    "x_train, x_valid, y_train, y_valid = train_test_split(train_feature, train_label, test_size=0.3, shuffle=False)"
   ]
  },
  {
   "cell_type": "code",
   "execution_count": 17,
   "id": "caa443a1",
   "metadata": {},
   "outputs": [],
   "source": [
    "def windowed_dataset(series, window_size, batch_size, shuffle):\n",
    "    series = tf.expand_dims(series, axis=-1)\n",
    "    ds = tf.data.Dataset.from_tensor_slices(series)\n",
    "    ds = ds.window(window_size + 1, shift=1, drop_remainder=True)\n",
    "    ds = ds.flat_map(lambda w: w.batch(window_size + 1))\n",
    "    if shuffle:\n",
    "        ds = ds.shuffle(1000)\n",
    "    ds = ds.map(lambda w: (w[:-1], w[-1]))\n",
    "    return ds.batch(batch_size).prefetch(1)"
   ]
  },
  {
   "cell_type": "code",
   "execution_count": 18,
   "id": "a19e44fb",
   "metadata": {},
   "outputs": [],
   "source": [
    "train_data = windowed_dataset(y_train, WINDOW_SIZE, BATCH_SIZE, False) # 학습도 셔플 안해야 맞는게 아닌가??\n",
    "valid_data = windowed_dataset(y_valid, WINDOW_SIZE, BATCH_SIZE, False)"
   ]
  },
  {
   "cell_type": "code",
   "execution_count": 19,
   "id": "4c642043",
   "metadata": {},
   "outputs": [
    {
     "name": "stdout",
     "output_type": "stream",
     "text": [
      "데이터셋(X) 구성(batch_size, window_size, feature갯수): (211, 7, 1, 1)\n",
      "데이터셋(Y) 구성(batch_size, window_size, feature갯수): (211, 1, 1)\n"
     ]
    }
   ],
   "source": [
    "for data in train_data.take(1):\n",
    "    print(f'데이터셋(X) 구성(batch_size, window_size, feature갯수): {data[0].shape}')\n",
    "    print(f'데이터셋(Y) 구성(batch_size, window_size, feature갯수): {data[1].shape}')"
   ]
  },
  {
   "cell_type": "markdown",
   "id": "e7c8ea36",
   "metadata": {},
   "source": [
    "##### <결과기록용 데이터셋 저장>"
   ]
  },
  {
   "cell_type": "code",
   "execution_count": 20,
   "id": "1c070de0",
   "metadata": {},
   "outputs": [],
   "source": [
    "train\n",
    "train.to_csv('./Result/score/Learning_set.csv', index=False)"
   ]
  },
  {
   "cell_type": "markdown",
   "id": "dbd71483",
   "metadata": {},
   "source": [
    "##### <평가용 csv 저장>"
   ]
  },
  {
   "cell_type": "code",
   "execution_count": 21,
   "id": "2b2721cc",
   "metadata": {},
   "outputs": [],
   "source": [
    "TESTSET = test['Won']\n",
    "TESTSET.to_csv('./Result/score/Test_set.csv', index=False)"
   ]
  },
  {
   "cell_type": "markdown",
   "id": "0249c42f",
   "metadata": {},
   "source": [
    "### 3. 딥러닝"
   ]
  },
  {
   "cell_type": "markdown",
   "id": "47ace4f6",
   "metadata": {},
   "source": [
    "#### 3.1. 네트워크 모델"
   ]
  },
  {
   "cell_type": "code",
   "execution_count": 22,
   "id": "c11aaf45",
   "metadata": {},
   "outputs": [
    {
     "name": "stdout",
     "output_type": "stream",
     "text": [
      "Model: \"sequential\"\n",
      "_________________________________________________________________\n",
      " Layer (type)                Output Shape              Param #   \n",
      "=================================================================\n",
      " dense (Dense)               (None, 7, 16)             32        \n",
      "                                                                 \n",
      " dense_1 (Dense)             (None, 7, 4)              68        \n",
      "                                                                 \n",
      " dense_2 (Dense)             (None, 7, 1)              5         \n",
      "                                                                 \n",
      "=================================================================\n",
      "Total params: 105\n",
      "Trainable params: 105\n",
      "Non-trainable params: 0\n",
      "_________________________________________________________________\n"
     ]
    }
   ],
   "source": [
    "from tensorflow.keras.models import Sequential\n",
    "from tensorflow.keras.layers import Dense, Dropout\n",
    "from tensorflow.keras.callbacks import EarlyStopping, ModelCheckpoint\n",
    "from tensorflow.keras.utils import plot_model\n",
    "import keras\n",
    "\n",
    "#16-0.2-8-1\n",
    "model = Sequential([\n",
    "    Dense(16, activation='ELU', input_shape=[WINDOW_SIZE, 1]),\n",
    "    Dense(4),\n",
    "    Dense(1)\n",
    "                    ])\n",
    "\n",
    "model.summary()\n",
    "\n",
    "model.compile(loss='mean_squared_error', optimizer=\"Nadam\", metrics=['mae'])"
   ]
  },
  {
   "cell_type": "markdown",
   "id": "cd6964ab",
   "metadata": {},
   "source": [
    "##### <Plot model 저장>"
   ]
  },
  {
   "cell_type": "code",
   "execution_count": 23,
   "id": "82e93e66",
   "metadata": {},
   "outputs": [
    {
     "data": {
      "text/plain": [
       "\"\\nfrom keras.utils.vis_utils import plot_model\\nimport pydot\\nimport pydotplus\\nimport graphviz\\n\\nplot_model(model, to_file='./Result/model.png')\\nplot_model(model, to_file='./Result/model_shapes.png', show_shapes=True)\\n\""
      ]
     },
     "execution_count": 23,
     "metadata": {},
     "output_type": "execute_result"
    }
   ],
   "source": [
    "\"\"\"\n",
    "from keras.utils.vis_utils import plot_model\n",
    "import pydot\n",
    "import pydotplus\n",
    "import graphviz\n",
    "\n",
    "plot_model(model, to_file='./Result/model.png')\n",
    "plot_model(model, to_file='./Result/model_shapes.png', show_shapes=True)\n",
    "\"\"\""
   ]
  },
  {
   "cell_type": "markdown",
   "id": "e4aa6030",
   "metadata": {},
   "source": [
    "#### 3.2. 학습"
   ]
  },
  {
   "cell_type": "code",
   "execution_count": 24,
   "id": "d18415fc",
   "metadata": {},
   "outputs": [
    {
     "name": "stdout",
     "output_type": "stream",
     "text": [
      "Epoch 1/35\n",
      "      1/Unknown - 1s 998ms/step - loss: 0.0134 - mae: 0.0827\n",
      "Epoch 00001: val_loss improved from inf to 0.01650, saving model to model\\tmp_checkpoint_Covid.h5\n",
      "1/1 [==============================] - 4s 4s/step - loss: 0.0134 - mae: 0.0827 - val_loss: 0.0165 - val_mae: 0.0866\n",
      "Epoch 2/35\n",
      "1/1 [==============================] - ETA: 0s - loss: 0.0131 - mae: 0.0823\n",
      "Epoch 00002: val_loss improved from 0.01650 to 0.01628, saving model to model\\tmp_checkpoint_Covid.h5\n",
      "1/1 [==============================] - 0s 109ms/step - loss: 0.0131 - mae: 0.0823 - val_loss: 0.0163 - val_mae: 0.0866\n",
      "Epoch 3/35\n",
      "1/1 [==============================] - ETA: 0s - loss: 0.0129 - mae: 0.0820\n",
      "Epoch 00003: val_loss improved from 0.01628 to 0.01608, saving model to model\\tmp_checkpoint_Covid.h5\n",
      "1/1 [==============================] - 0s 103ms/step - loss: 0.0129 - mae: 0.0820 - val_loss: 0.0161 - val_mae: 0.0865\n",
      "Epoch 4/35\n",
      "1/1 [==============================] - ETA: 0s - loss: 0.0127 - mae: 0.0819\n",
      "Epoch 00004: val_loss improved from 0.01608 to 0.01590, saving model to model\\tmp_checkpoint_Covid.h5\n",
      "1/1 [==============================] - 0s 91ms/step - loss: 0.0127 - mae: 0.0819 - val_loss: 0.0159 - val_mae: 0.0865\n",
      "Epoch 5/35\n",
      "1/1 [==============================] - ETA: 0s - loss: 0.0125 - mae: 0.0817\n",
      "Epoch 00005: val_loss improved from 0.01590 to 0.01573, saving model to model\\tmp_checkpoint_Covid.h5\n",
      "1/1 [==============================] - 0s 95ms/step - loss: 0.0125 - mae: 0.0817 - val_loss: 0.0157 - val_mae: 0.0865\n",
      "Epoch 6/35\n",
      "1/1 [==============================] - ETA: 0s - loss: 0.0124 - mae: 0.0815\n",
      "Epoch 00006: val_loss improved from 0.01573 to 0.01557, saving model to model\\tmp_checkpoint_Covid.h5\n",
      "1/1 [==============================] - 0s 107ms/step - loss: 0.0124 - mae: 0.0815 - val_loss: 0.0156 - val_mae: 0.0864\n",
      "Epoch 7/35\n",
      "1/1 [==============================] - ETA: 0s - loss: 0.0122 - mae: 0.0814\n",
      "Epoch 00007: val_loss improved from 0.01557 to 0.01541, saving model to model\\tmp_checkpoint_Covid.h5\n",
      "1/1 [==============================] - 0s 108ms/step - loss: 0.0122 - mae: 0.0814 - val_loss: 0.0154 - val_mae: 0.0864\n",
      "Epoch 8/35\n",
      "1/1 [==============================] - ETA: 0s - loss: 0.0121 - mae: 0.0812\n",
      "Epoch 00008: val_loss improved from 0.01541 to 0.01527, saving model to model\\tmp_checkpoint_Covid.h5\n",
      "1/1 [==============================] - 0s 97ms/step - loss: 0.0121 - mae: 0.0812 - val_loss: 0.0153 - val_mae: 0.0863\n",
      "Epoch 9/35\n",
      "1/1 [==============================] - ETA: 0s - loss: 0.0120 - mae: 0.0811\n",
      "Epoch 00009: val_loss improved from 0.01527 to 0.01513, saving model to model\\tmp_checkpoint_Covid.h5\n",
      "1/1 [==============================] - 0s 101ms/step - loss: 0.0120 - mae: 0.0811 - val_loss: 0.0151 - val_mae: 0.0862\n",
      "Epoch 10/35\n",
      "1/1 [==============================] - ETA: 0s - loss: 0.0119 - mae: 0.0809\n",
      "Epoch 00010: val_loss improved from 0.01513 to 0.01499, saving model to model\\tmp_checkpoint_Covid.h5\n",
      "1/1 [==============================] - 0s 106ms/step - loss: 0.0119 - mae: 0.0809 - val_loss: 0.0150 - val_mae: 0.0860\n",
      "Epoch 11/35\n",
      "1/1 [==============================] - ETA: 0s - loss: 0.0118 - mae: 0.0806\n",
      "Epoch 00011: val_loss improved from 0.01499 to 0.01485, saving model to model\\tmp_checkpoint_Covid.h5\n",
      "1/1 [==============================] - 0s 105ms/step - loss: 0.0118 - mae: 0.0806 - val_loss: 0.0149 - val_mae: 0.0858\n",
      "Epoch 12/35\n",
      "1/1 [==============================] - ETA: 0s - loss: 0.0117 - mae: 0.0804\n",
      "Epoch 00012: val_loss improved from 0.01485 to 0.01471, saving model to model\\tmp_checkpoint_Covid.h5\n",
      "1/1 [==============================] - 0s 112ms/step - loss: 0.0117 - mae: 0.0804 - val_loss: 0.0147 - val_mae: 0.0856\n",
      "Epoch 13/35\n",
      "1/1 [==============================] - ETA: 0s - loss: 0.0116 - mae: 0.0801\n",
      "Epoch 00013: val_loss improved from 0.01471 to 0.01458, saving model to model\\tmp_checkpoint_Covid.h5\n",
      "1/1 [==============================] - 0s 113ms/step - loss: 0.0116 - mae: 0.0801 - val_loss: 0.0146 - val_mae: 0.0853\n",
      "Epoch 14/35\n",
      "1/1 [==============================] - ETA: 0s - loss: 0.0114 - mae: 0.0798\n",
      "Epoch 00014: val_loss improved from 0.01458 to 0.01445, saving model to model\\tmp_checkpoint_Covid.h5\n",
      "1/1 [==============================] - 0s 108ms/step - loss: 0.0114 - mae: 0.0798 - val_loss: 0.0144 - val_mae: 0.0850\n",
      "Epoch 15/35\n",
      "1/1 [==============================] - ETA: 0s - loss: 0.0113 - mae: 0.0795\n",
      "Epoch 00015: val_loss improved from 0.01445 to 0.01432, saving model to model\\tmp_checkpoint_Covid.h5\n",
      "1/1 [==============================] - 0s 98ms/step - loss: 0.0113 - mae: 0.0795 - val_loss: 0.0143 - val_mae: 0.0847\n",
      "Epoch 16/35\n",
      "1/1 [==============================] - ETA: 0s - loss: 0.0112 - mae: 0.0792\n",
      "Epoch 00016: val_loss improved from 0.01432 to 0.01419, saving model to model\\tmp_checkpoint_Covid.h5\n",
      "1/1 [==============================] - 0s 109ms/step - loss: 0.0112 - mae: 0.0792 - val_loss: 0.0142 - val_mae: 0.0843\n",
      "Epoch 17/35\n",
      "1/1 [==============================] - ETA: 0s - loss: 0.0111 - mae: 0.0789\n",
      "Epoch 00017: val_loss improved from 0.01419 to 0.01406, saving model to model\\tmp_checkpoint_Covid.h5\n",
      "1/1 [==============================] - 0s 114ms/step - loss: 0.0111 - mae: 0.0789 - val_loss: 0.0141 - val_mae: 0.0840\n",
      "Epoch 18/35\n",
      "1/1 [==============================] - ETA: 0s - loss: 0.0111 - mae: 0.0785\n",
      "Epoch 00018: val_loss improved from 0.01406 to 0.01394, saving model to model\\tmp_checkpoint_Covid.h5\n",
      "1/1 [==============================] - 0s 262ms/step - loss: 0.0111 - mae: 0.0785 - val_loss: 0.0139 - val_mae: 0.0836\n",
      "Epoch 19/35\n",
      "1/1 [==============================] - ETA: 0s - loss: 0.0110 - mae: 0.0782\n",
      "Epoch 00019: val_loss improved from 0.01394 to 0.01382, saving model to model\\tmp_checkpoint_Covid.h5\n",
      "1/1 [==============================] - 0s 107ms/step - loss: 0.0110 - mae: 0.0782 - val_loss: 0.0138 - val_mae: 0.0833\n",
      "Epoch 20/35\n",
      "1/1 [==============================] - ETA: 0s - loss: 0.0109 - mae: 0.0779\n",
      "Epoch 00020: val_loss improved from 0.01382 to 0.01370, saving model to model\\tmp_checkpoint_Covid.h5\n",
      "1/1 [==============================] - 0s 104ms/step - loss: 0.0109 - mae: 0.0779 - val_loss: 0.0137 - val_mae: 0.0830\n",
      "Epoch 21/35\n",
      "1/1 [==============================] - ETA: 0s - loss: 0.0108 - mae: 0.0776\n",
      "Epoch 00021: val_loss improved from 0.01370 to 0.01359, saving model to model\\tmp_checkpoint_Covid.h5\n",
      "1/1 [==============================] - 0s 104ms/step - loss: 0.0108 - mae: 0.0776 - val_loss: 0.0136 - val_mae: 0.0827\n",
      "Epoch 22/35\n",
      "1/1 [==============================] - ETA: 0s - loss: 0.0107 - mae: 0.0773\n",
      "Epoch 00022: val_loss improved from 0.01359 to 0.01347, saving model to model\\tmp_checkpoint_Covid.h5\n",
      "1/1 [==============================] - 0s 103ms/step - loss: 0.0107 - mae: 0.0773 - val_loss: 0.0135 - val_mae: 0.0824\n",
      "Epoch 23/35\n",
      "1/1 [==============================] - ETA: 0s - loss: 0.0106 - mae: 0.0770\n",
      "Epoch 00023: val_loss improved from 0.01347 to 0.01337, saving model to model\\tmp_checkpoint_Covid.h5\n",
      "1/1 [==============================] - 0s 105ms/step - loss: 0.0106 - mae: 0.0770 - val_loss: 0.0134 - val_mae: 0.0821\n",
      "Epoch 24/35\n",
      "1/1 [==============================] - ETA: 0s - loss: 0.0105 - mae: 0.0767\n",
      "Epoch 00024: val_loss improved from 0.01337 to 0.01326, saving model to model\\tmp_checkpoint_Covid.h5\n",
      "1/1 [==============================] - 0s 127ms/step - loss: 0.0105 - mae: 0.0767 - val_loss: 0.0133 - val_mae: 0.0818\n",
      "Epoch 25/35\n",
      "1/1 [==============================] - ETA: 0s - loss: 0.0104 - mae: 0.0764\n",
      "Epoch 00025: val_loss improved from 0.01326 to 0.01316, saving model to model\\tmp_checkpoint_Covid.h5\n",
      "1/1 [==============================] - 0s 90ms/step - loss: 0.0104 - mae: 0.0764 - val_loss: 0.0132 - val_mae: 0.0815\n",
      "Epoch 26/35\n",
      "1/1 [==============================] - ETA: 0s - loss: 0.0104 - mae: 0.0761\n",
      "Epoch 00026: val_loss improved from 0.01316 to 0.01306, saving model to model\\tmp_checkpoint_Covid.h5\n",
      "1/1 [==============================] - 0s 105ms/step - loss: 0.0104 - mae: 0.0761 - val_loss: 0.0131 - val_mae: 0.0812\n",
      "Epoch 27/35\n",
      "1/1 [==============================] - ETA: 0s - loss: 0.0103 - mae: 0.0759\n",
      "Epoch 00027: val_loss improved from 0.01306 to 0.01297, saving model to model\\tmp_checkpoint_Covid.h5\n",
      "1/1 [==============================] - 0s 93ms/step - loss: 0.0103 - mae: 0.0759 - val_loss: 0.0130 - val_mae: 0.0809\n"
     ]
    },
    {
     "name": "stdout",
     "output_type": "stream",
     "text": [
      "Epoch 28/35\n",
      "1/1 [==============================] - ETA: 0s - loss: 0.0102 - mae: 0.0756\n",
      "Epoch 00028: val_loss improved from 0.01297 to 0.01288, saving model to model\\tmp_checkpoint_Covid.h5\n",
      "1/1 [==============================] - 0s 108ms/step - loss: 0.0102 - mae: 0.0756 - val_loss: 0.0129 - val_mae: 0.0806\n",
      "Epoch 29/35\n",
      "1/1 [==============================] - ETA: 0s - loss: 0.0102 - mae: 0.0753\n",
      "Epoch 00029: val_loss improved from 0.01288 to 0.01279, saving model to model\\tmp_checkpoint_Covid.h5\n",
      "1/1 [==============================] - 0s 102ms/step - loss: 0.0102 - mae: 0.0753 - val_loss: 0.0128 - val_mae: 0.0804\n",
      "Epoch 30/35\n",
      "1/1 [==============================] - ETA: 0s - loss: 0.0101 - mae: 0.0751\n",
      "Epoch 00030: val_loss improved from 0.01279 to 0.01270, saving model to model\\tmp_checkpoint_Covid.h5\n",
      "1/1 [==============================] - 0s 117ms/step - loss: 0.0101 - mae: 0.0751 - val_loss: 0.0127 - val_mae: 0.0801\n",
      "Epoch 31/35\n",
      "1/1 [==============================] - ETA: 0s - loss: 0.0100 - mae: 0.0748\n",
      "Epoch 00031: val_loss improved from 0.01270 to 0.01262, saving model to model\\tmp_checkpoint_Covid.h5\n",
      "1/1 [==============================] - 0s 122ms/step - loss: 0.0100 - mae: 0.0748 - val_loss: 0.0126 - val_mae: 0.0799\n",
      "Epoch 32/35\n",
      "1/1 [==============================] - ETA: 0s - loss: 0.0100 - mae: 0.0746\n",
      "Epoch 00032: val_loss improved from 0.01262 to 0.01254, saving model to model\\tmp_checkpoint_Covid.h5\n",
      "1/1 [==============================] - 0s 106ms/step - loss: 0.0100 - mae: 0.0746 - val_loss: 0.0125 - val_mae: 0.0797\n",
      "Epoch 33/35\n",
      "1/1 [==============================] - ETA: 0s - loss: 0.0099 - mae: 0.0744\n",
      "Epoch 00033: val_loss improved from 0.01254 to 0.01246, saving model to model\\tmp_checkpoint_Covid.h5\n",
      "1/1 [==============================] - 0s 112ms/step - loss: 0.0099 - mae: 0.0744 - val_loss: 0.0125 - val_mae: 0.0794\n",
      "Epoch 34/35\n",
      "1/1 [==============================] - ETA: 0s - loss: 0.0098 - mae: 0.0742\n",
      "Epoch 00034: val_loss improved from 0.01246 to 0.01239, saving model to model\\tmp_checkpoint_Covid.h5\n",
      "1/1 [==============================] - 0s 94ms/step - loss: 0.0098 - mae: 0.0742 - val_loss: 0.0124 - val_mae: 0.0792\n",
      "Epoch 35/35\n",
      "1/1 [==============================] - ETA: 0s - loss: 0.0098 - mae: 0.0739\n",
      "Epoch 00035: val_loss improved from 0.01239 to 0.01231, saving model to model\\tmp_checkpoint_Covid.h5\n",
      "1/1 [==============================] - 0s 109ms/step - loss: 0.0098 - mae: 0.0739 - val_loss: 0.0123 - val_mae: 0.0790\n"
     ]
    }
   ],
   "source": [
    "#early_stop = EarlyStopping(monitor='val_loss', patience=20)\n",
    "\n",
    "with tf.device('/GPU:0'):\n",
    "    model_path = 'model'\n",
    "    filename = os.path.join(model_path, 'tmp_checkpoint_Covid.h5')\n",
    "    checkpoint = ModelCheckpoint(filename, monitor='val_loss', verbose=1, save_best_only=True, mode='auto')\n",
    "    history = model.fit(train_data, epochs=35, batch_size=BATCH_SIZE, validation_data=(valid_data), callbacks=[checkpoint])"
   ]
  },
  {
   "cell_type": "code",
   "execution_count": 25,
   "id": "269d7721",
   "metadata": {},
   "outputs": [
    {
     "name": "stdout",
     "output_type": "stream",
     "text": [
      "WARNING:tensorflow:Model was constructed with shape (None, 7, 1) for input KerasTensor(type_spec=TensorSpec(shape=(None, 7, 1), dtype=tf.float32, name='dense_input'), name='dense_input', description=\"created by layer 'dense_input'\"), but it was called on an input with incompatible shape (None, 1, 1).\n"
     ]
    }
   ],
   "source": [
    "model.load_weights(filename)\n",
    "pred = model.predict(test['Won'])"
   ]
  },
  {
   "cell_type": "markdown",
   "id": "3f70a61f",
   "metadata": {},
   "source": [
    "### 4. 결과 표시"
   ]
  },
  {
   "cell_type": "code",
   "execution_count": 26,
   "id": "33bddf7a",
   "metadata": {},
   "outputs": [
    {
     "name": "stdout",
     "output_type": "stream",
     "text": [
      "해당 폴더가 이미 존재합니다.\n"
     ]
    }
   ],
   "source": [
    "try:\n",
    "    os.mkdir('./Result')\n",
    "    print('폴더 생성 완료.')\n",
    "    \n",
    "except FileExistsError:\n",
    "    print('해당 폴더가 이미 존재합니다.')"
   ]
  },
  {
   "cell_type": "code",
   "execution_count": 27,
   "id": "90879fb0",
   "metadata": {},
   "outputs": [
    {
     "name": "stdout",
     "output_type": "stream",
     "text": [
      "해당 폴더가 이미 존재합니다.\n"
     ]
    }
   ],
   "source": [
    "try:\n",
    "    os.mkdir('./Result/Graph')\n",
    "    os.mkdir('./Result/Data')\n",
    "    print('폴더 생성 완료.')\n",
    "    \n",
    "except FileExistsError:\n",
    "    print('해당 폴더가 이미 존재합니다.')"
   ]
  },
  {
   "cell_type": "markdown",
   "id": "4dccbb45",
   "metadata": {},
   "source": [
    "#### 4.1. 손실 함수 그래프"
   ]
  },
  {
   "cell_type": "code",
   "execution_count": 28,
   "id": "d594d777",
   "metadata": {},
   "outputs": [
    {
     "data": {
      "text/plain": [
       "<function matplotlib.pyplot.show(close=None, block=None)>"
      ]
     },
     "execution_count": 28,
     "metadata": {},
     "output_type": "execute_result"
    },
    {
     "data": {
      "image/png": "[encoded data removed]",
      "text/plain": [
       "<Figure size 1152x720 with 1 Axes>"
      ]
     },
     "metadata": {
      "needs_background": "light"
     },
     "output_type": "display_data"
    }
   ],
   "source": [
    "plt.figure(figsize=(16, 10))\n",
    "plt.title('Model Loss Convergence Graph', size='15')\n",
    "y_tloss = history.history['loss']\n",
    "y_vloss = history.history['val_loss']\n",
    "x_len = np.arange(len(y_tloss))\n",
    "plt.xlabel('Epoch')\n",
    "plt.ylabel('Loss')\n",
    "\n",
    "# 그래프의 가시성을 높이기 위해 초반 2개의 급격한 감소를 그래프에서 삭제하고 세밀한 변화를 위주로 표현\n",
    "y_tloss=y_tloss[2:]\n",
    "y_vloss=y_vloss[2:]\n",
    "x_len=x_len[2:]\n",
    "\n",
    "plt.plot(x_len, y_tloss, \"o-\", c=\"blue\", markersize=3)\n",
    "plt.plot(x_len, y_vloss, \"o-\", c=\"red\", markersize=3)\n",
    "plt.margins(x=0.02)\n",
    "plt.legend(['Training loss', 'Validation loss'])\n",
    "plt.savefig('./Result/Graph/Model_Loss_Convergence_Graph.png')\n",
    "plt.show"
   ]
  },
  {
   "cell_type": "code",
   "execution_count": 29,
   "id": "afd501b5",
   "metadata": {},
   "outputs": [],
   "source": [
    "pred=pred.reshape(-1,1)"
   ]
  },
  {
   "cell_type": "code",
   "execution_count": 30,
   "id": "7b27eea7",
   "metadata": {},
   "outputs": [
    {
     "data": {
      "text/plain": [
       "(14, 1)"
      ]
     },
     "execution_count": 30,
     "metadata": {},
     "output_type": "execute_result"
    }
   ],
   "source": [
    "pred.shape"
   ]
  },
  {
   "cell_type": "markdown",
   "id": "491c5314",
   "metadata": {},
   "source": [
    "##### <채점용 csv 저장>"
   ]
  },
  {
   "cell_type": "code",
   "execution_count": 31,
   "id": "7264cb81",
   "metadata": {},
   "outputs": [],
   "source": [
    "PRED_df = pd.DataFrame(pred)\n",
    "PRED_df.to_csv('./Result/score/Pred.csv', index=False)"
   ]
  },
  {
   "cell_type": "markdown",
   "id": "da003525",
   "metadata": {},
   "source": [
    "#### 4.2. 측정 성능 출력"
   ]
  },
  {
   "cell_type": "code",
   "execution_count": 36,
   "id": "f21915c7",
   "metadata": {},
   "outputs": [
    {
     "name": "stdout",
     "output_type": "stream",
     "text": [
      "r2 >> 0.5486\n",
      "MAE >> 0.0422\n",
      "RMSE >> 0.0542\n"
     ]
    }
   ],
   "source": [
    "from sklearn.metrics import r2_score as r2\n",
    "from sklearn.metrics import mean_absolute_error as MAE\n",
    "from sklearn.metrics import mean_squared_error as MSE\n",
    "from sklearn.metrics import mean_squared_log_error as MSLE\n",
    "\n",
    "RMSE = np.sqrt(MSE(test['Won'], pred))\n",
    "R2 = r2(test['Won'], pred)\n",
    "print('r2 >> %.4f' %R2) # 1에 가까워야 좋음\n",
    "print('MAE >> %.4f' %MAE(test['Won'], pred)) # 0에 가까워야 좋음\n",
    "print('RMSE >> %.4f' %RMSE) # 0에 가까워야 좋음"
   ]
  },
  {
   "cell_type": "code",
   "execution_count": 33,
   "id": "afe21115",
   "metadata": {},
   "outputs": [
    {
     "name": "stdout",
     "output_type": "stream",
     "text": [
      "RMSE Accuracy = 94.576 %\n"
     ]
    }
   ],
   "source": [
    "RMSE_pct = round(1-RMSE, 5)*100\n",
    "RMSE_Percentage='RMSE Accuracy = %.3f %%' %RMSE_pct\n",
    "print(RMSE_Percentage)"
   ]
  },
  {
   "cell_type": "code",
   "execution_count": 34,
   "id": "310a88fc",
   "metadata": {},
   "outputs": [
    {
     "name": "stdout",
     "output_type": "stream",
     "text": [
      "Final Score = 0.5*r2 + 0.5*RMSE = 0.7472\n"
     ]
    }
   ],
   "source": [
    "score = round(((1-RMSE)/2 + R2/2),4)\n",
    "Final_score = 'Final Score = 0.5*r2 + 0.5*RMSE = %.4f' %score\n",
    "print(Final_score)"
   ]
  },
  {
   "cell_type": "markdown",
   "id": "f9eb998c",
   "metadata": {},
   "source": [
    "#### 4.3. 예측 그래프"
   ]
  },
  {
   "cell_type": "code",
   "execution_count": 35,
   "id": "09554c4d",
   "metadata": {},
   "outputs": [
    {
     "data": {
      "image/png": "[encoded data removed]",
      "text/plain": [
       "<Figure size 1008x648 with 1 Axes>"
      ]
     },
     "metadata": {
      "needs_background": "light"
     },
     "output_type": "display_data"
    }
   ],
   "source": [
    "plt.figure(figsize=(14,9))\n",
    "plt.title('Sales Forecasting during COVID-19 ', y=1.03, size='15')\n",
    "plt.suptitle(Final_score, y=0.9, fontsize=12)\n",
    "plt.plot(test['Won'], label='Actual')\n",
    "plt.plot(pred, label='Prediction')\n",
    "plt.xticks(range(0,14), labels=range(1,15))\n",
    "plt.xlabel('Days')\n",
    "plt.yticks([0, 0.0688, 0.1376, 0.2064, 0.2752, 0.344, 0.4128], \n",
    "           labels=[0, 50000, 100000, 150000, 200000, 250000, 300000])\n",
    "plt.ylabel('Won')\n",
    "plt.grid(True)\n",
    "plt.legend()\n",
    "plt.savefig('./Result/Graph/Result_Grpah.png')\n",
    "plt.show()"
   ]
  }
 ],
 "metadata": {
  "kernelspec": {
   "display_name": "Python 3 (ipykernel)",
   "language": "python",
   "name": "python3"
  },
  "language_info": {
   "codemirror_mode": {
    "name": "ipython",
    "version": 3
   },
   "file_extension": ".py",
   "mimetype": "text/x-python",
   "name": "python",
   "nbconvert_exporter": "python",
   "pygments_lexer": "ipython3",
   "version": "3.9.7"
  }
 },
 "nbformat": 4,
 "nbformat_minor": 5
}
