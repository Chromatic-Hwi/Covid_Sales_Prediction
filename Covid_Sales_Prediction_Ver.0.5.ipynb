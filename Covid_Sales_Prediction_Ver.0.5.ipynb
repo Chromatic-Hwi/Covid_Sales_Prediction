{
 "cells": [
  {
   "cell_type": "markdown",
   "id": "49534bc4",
   "metadata": {},
   "source": [
    "# Covid Sales Prediction"
   ]
  },
  {
   "cell_type": "markdown",
   "id": "ea4a87c8",
   "metadata": {},
   "source": [
    "### 목차"
   ]
  },
  {
   "cell_type": "code",
   "execution_count": null,
   "id": "626d35d1",
   "metadata": {},
   "outputs": [],
   "source": [
    "\"\"\"\n",
    "1. 모듈 임포트\n",
    "\n",
    "2. 데이터 처리\n",
    "\n",
    "3. 그래프 확인\n",
    "\n",
    "4. 데이터 정규화 \n",
    "\n",
    "5. 데이터 연관성 분석\n",
    "\n",
    "6. 이상치 처리\n",
    "    -이상치 확인 함수 생성\n",
    "    -분위별 이상치 1차 검색\n",
    "    -이상치 치환\n",
    "    -처리 후 잔여 개수 확인\n",
    "\n",
    "7. 데이터셋 편집\n",
    "\n",
    "8. 딥러닝 모델\n",
    "\n",
    "9. 결과 표시\n",
    "    -그래프 표시\n",
    "    -그래프 비교 결과\n",
    "    -성능 측정 지표\n",
    "\n",
    "10. 예측값과 실제값 결과 csv 파일 저장\n",
    "\"\"\""
   ]
  },
  {
   "cell_type": "markdown",
   "id": "79f886a9",
   "metadata": {},
   "source": [
    "### <화면 가로 확장>"
   ]
  },
  {
   "cell_type": "code",
   "execution_count": 1,
   "id": "01779336",
   "metadata": {},
   "outputs": [
    {
     "data": {
      "text/html": [
       "<style>.container { width:80% !important; }</style>"
      ],
      "text/plain": [
       "<IPython.core.display.HTML object>"
      ]
     },
     "metadata": {},
     "output_type": "display_data"
    }
   ],
   "source": [
    "# 화면 가로 확장 코드 (기본 width 50%)\n",
    "from IPython.core.display import display, HTML\n",
    "display(HTML(\"<style>.container { width:80% !important; }</style>\"))"
   ]
  },
  {
   "cell_type": "markdown",
   "id": "5914b761",
   "metadata": {},
   "source": [
    "### 1. 모듈 임포트"
   ]
  },
  {
   "cell_type": "code",
   "execution_count": 2,
   "id": "4fef1b48",
   "metadata": {},
   "outputs": [],
   "source": [
    "import numpy as np \n",
    "import pandas as pd \n",
    "import matplotlib.pyplot as plt\n",
    "from mpl_toolkits.mplot3d import Axes3D\n",
    "import seaborn as sns\n",
    "import tensorflow as tf\n",
    "import csv\n",
    "import os\n",
    "import datetime"
   ]
  },
  {
   "cell_type": "markdown",
   "id": "f7f69a8e",
   "metadata": {},
   "source": [
    "### <GPU 확인>"
   ]
  },
  {
   "cell_type": "code",
   "execution_count": 3,
   "id": "b6295985",
   "metadata": {},
   "outputs": [
    {
     "data": {
      "text/plain": [
       "'/device:GPU:0'"
      ]
     },
     "execution_count": 3,
     "metadata": {},
     "output_type": "execute_result"
    }
   ],
   "source": [
    "tf.test.gpu_device_name()"
   ]
  },
  {
   "cell_type": "markdown",
   "id": "ffe6b822",
   "metadata": {},
   "source": [
    "### 2. 데이터"
   ]
  },
  {
   "cell_type": "markdown",
   "id": "c6ff4499",
   "metadata": {},
   "source": [
    "#### 배달의 민족 월별 정산 데이터"
   ]
  },
  {
   "cell_type": "code",
   "execution_count": 17,
   "id": "deafc2aa",
   "metadata": {},
   "outputs": [
    {
     "name": "stdout",
     "output_type": "stream",
     "text": [
      "폴더 생성 완료.\n"
     ]
    }
   ],
   "source": [
    "try:\n",
    "    os.mkdir('./Data')\n",
    "    os.mkdir('./Data/BaeMin')\n",
    "    print('폴더 생성 완료.')\n",
    "    \n",
    "except FileExistsError:\n",
    "    print('해당 폴더가 이미 존재합니다.')"
   ]
  },
  {
   "cell_type": "code",
   "execution_count": 36,
   "id": "82fcde6c",
   "metadata": {},
   "outputs": [],
   "source": [
    "for BM in range(1, len(os.listdir('./Original_Data/BaeMin'))+1):\n",
    "    if BM<=9:\n",
    "        count_num='0'+str(BM)\n",
    "    else:\n",
    "        count_num=str(BM)\n",
    "        \n",
    "    data_bm = pd.read_excel('./Original_Data/BaeMin/배달의민족-2021년'+count_num+'월_정산명세서_성정환사장님.xlsx', sheet_name='상세')\n",
    "    data_bm = data_bm.iloc[3:, [0, 20]] # 행, 열 제한으로 필요 정보 추출\n",
    "    data_bm = data_bm.reset_index(drop=True) # 인덱스 초기화\n",
    "    data_bm.to_csv('./Data/BaeMin/배달의 민족_2021년_'+count_num+'월_수익정산.csv', header=False, encoding='cp949')"
   ]
  },
  {
   "cell_type": "markdown",
   "id": "74b65ecd",
   "metadata": {},
   "source": [
    "#### 서울시 기상 정보"
   ]
  },
  {
   "cell_type": "code",
   "execution_count": 90,
   "id": "e592562a",
   "metadata": {},
   "outputs": [
    {
     "name": "stderr",
     "output_type": "stream",
     "text": [
      "C:\\Users\\ADMINI~1\\AppData\\Local\\Temp/ipykernel_8676/1693192224.py:9: SettingWithCopyWarning: \n",
      "A value is trying to be set on a copy of a slice from a DataFrame\n",
      "\n",
      "See the caveats in the documentation: https://pandas.pydata.org/pandas-docs/stable/user_guide/indexing.html#returning-a-view-versus-a-copy\n",
      "  data_weather['강수여부'][num]=0\n"
     ]
    }
   ],
   "source": [
    "data_weather = pd.read_excel('./Original_Data/OBS_ASOS_DD_20211123223955.xlsx')\n",
    "data_weather = data_weather.iloc[:, [2,3,5,6]]\n",
    "data_weather.insert(2, '강수여부', 1) # 컬럼 새로 생성 후 우선은 다 비오는 경우인 '1'로 입력\n",
    "\n",
    "for num in range(len(data_weather)):\n",
    "    rain_values = data_weather.iloc[num, [3]].values[0] # 강수량 컬럼의 정보를 읽어옴\n",
    "    if (str(rain_values)=='nan' or float(rain_values)==0.0):\n",
    "        data_weather['강수여부'][num]=0 # 맑은 날은 0으로 값 변경\n",
    "        \n",
    "data_weather = data_weather.reset_index(drop=True) # 인덱스 초기화\n",
    "data_weather.to_csv('./Data/2021_서울_기상정보.csv', encoding='cp949')"
   ]
  },
  {
   "cell_type": "markdown",
   "id": "099b62a5",
   "metadata": {},
   "source": [
    "#### 전국 Covid 정보"
   ]
  },
  {
   "cell_type": "code",
   "execution_count": 125,
   "id": "1ded3a6f",
   "metadata": {},
   "outputs": [],
   "source": [
    "data_covid = pd.read_excel('./Original_Data/코로나 현황.xlsx')\n",
    "start_date=int(data_covid.loc[data_covid['날짜'] == 20210101].index[0])\n",
    "data_covid = data_covid.iloc[start_date:, [0,1,4]]\n",
    "data_covid = data_covid.reset_index(drop=True) # 인덱스 초기화\n",
    "data_covid.to_csv('./Data/2021_KOREA_Covid.csv', encoding='cp949')"
   ]
  },
  {
   "cell_type": "markdown",
   "id": "19140c2d",
   "metadata": {},
   "source": [
    "### ======================================"
   ]
  },
  {
   "cell_type": "code",
   "execution_count": null,
   "id": "d161094e",
   "metadata": {},
   "outputs": [],
   "source": [
    "df_3Y = pd.DataFrame()\n",
    "for y in range(2013, 2016):\n",
    "    file = './Combined_Data/'+str(y)+'_'+'House1_Ch1_Combined_Data_Y.csv'\n",
    "    df_y= pd.read_csv(file, encoding='cp949')\n",
    "    df_3Y = pd.concat([df_3Y, df_y])\n",
    "    \n",
    "df_3Y = df_3Y.drop([df_3Y.columns[0]], axis=1)\n",
    "df_3Y = df_3Y.reset_index(drop=True)\n",
    "df_3Y.to_csv(\"./Combined_Data/House1_Ch1_Combined_Data_13-15.csv\", encoding='cp949')"
   ]
  },
  {
   "cell_type": "code",
   "execution_count": null,
   "id": "58a3e584",
   "metadata": {},
   "outputs": [],
   "source": [
    "Data_3Y = pd.read_csv('./Combined_Data/House1_Ch1_Combined_Data_13-15.csv', encoding='cp949')\n",
    "Data_3Y.info()"
   ]
  },
  {
   "cell_type": "markdown",
   "id": "842146ce",
   "metadata": {},
   "source": [
    "#### 4년치 데이터"
   ]
  },
  {
   "cell_type": "code",
   "execution_count": null,
   "id": "98ac9cfa",
   "metadata": {},
   "outputs": [],
   "source": [
    "df_4Y = pd.DataFrame()\n",
    "for y in range(2013, 2017):\n",
    "    file = './Combined_Data/'+str(y)+'_'+'House1_Ch1_Combined_Data_Y.csv'\n",
    "    df_y= pd.read_csv(file, encoding='cp949')\n",
    "    df_4Y = pd.concat([df_4Y, df_y])\n",
    "    \n",
    "df_4Y = df_4Y.drop([df_4Y.columns[0]], axis=1)\n",
    "df_4Y = df_4Y.reset_index(drop=True)\n",
    "df_4Y.to_csv(\"./Combined_Data/House1_Ch1_Combined_Data_13-16.csv\", encoding='cp949')"
   ]
  },
  {
   "cell_type": "code",
   "execution_count": null,
   "id": "a49a883c",
   "metadata": {},
   "outputs": [],
   "source": [
    "Data_4Y = pd.read_csv('./Combined_Data/House1_Ch1_Combined_Data_13-16.csv', encoding='cp949')\n",
    "Data_4Y.info()"
   ]
  },
  {
   "cell_type": "markdown",
   "id": "1e775fbc",
   "metadata": {},
   "source": [
    "### 3. 그래프 확인"
   ]
  },
  {
   "cell_type": "markdown",
   "id": "7999cf42",
   "metadata": {},
   "source": [
    "#### 각 연도별 csv 데이터 로드"
   ]
  },
  {
   "cell_type": "code",
   "execution_count": null,
   "id": "19cb0e26",
   "metadata": {},
   "outputs": [],
   "source": [
    "Data_2013=pd.read_csv('./Combined_Data/2013_House1_Ch1_Combined_Data_Y.csv', encoding='cp949')\n",
    "Data_2014=pd.read_csv('./Combined_Data/2014_House1_Ch1_Combined_Data_Y.csv', encoding='cp949')\n",
    "Data_2015=pd.read_csv('./Combined_Data/2015_House1_Ch1_Combined_Data_Y.csv', encoding='cp949')\n",
    "Data_2016=pd.read_csv('./Combined_Data/2016_House1_Ch1_Combined_Data_Y.csv', encoding='cp949')"
   ]
  },
  {
   "cell_type": "markdown",
   "id": "783e69e9",
   "metadata": {},
   "source": [
    "#### Plt 그래프 함수"
   ]
  },
  {
   "cell_type": "code",
   "execution_count": null,
   "id": "1105c343",
   "metadata": {},
   "outputs": [],
   "source": [
    "def Graph(name1, name2, year):\n",
    "    font_head = {'color': 'w', 'weight': 'bold', 'size': 20}\n",
    "    font_body = {'color': 'w', 'weight': 'bold', 'size': 15}\n",
    "\n",
    "    # 1번째 그래프\n",
    "    ax1 = plt.subplot(2, 1, 1)\n",
    "    ax1.spines['left'].set_color('yellow')\n",
    "    ax1.spines['left'].set_lw(2)\n",
    "    ax1.spines['bottom'].set_color('yellow')\n",
    "    ax1.spines['bottom'].set_lw(2)\n",
    "\n",
    "    ax1.tick_params(axis='x', colors='white', size=10)\n",
    "    ax1.tick_params(axis='x', colors='white', labelsize=15)\n",
    "    ax1.tick_params(axis='y', colors='white', size=10)\n",
    "    ax1.tick_params(axis='y', colors='white', labelsize=15)\n",
    "\n",
    "    plt.plot(x, y1, '.-', color='y', linewidth=1)\n",
    "    plt.title(name1, fontdict=font_head, pad=20)\n",
    "    plt.xticks(visible=False)\n",
    "    plt.ylabel('Watt',labelpad=15, fontdict=font_body)\n",
    "\n",
    "    # 2번째 그래프\n",
    "    ax2 = plt.subplot(2, 1, 2, sharex=ax1)\n",
    "    ax2.spines['left'].set_color('blue')\n",
    "    ax2.spines['left'].set_lw(2)\n",
    "    ax2.spines['bottom'].set_color('blue')\n",
    "    ax2.spines['bottom'].set_lw(2)\n",
    "\n",
    "    ax2.tick_params(axis='x', colors='white', size=10)\n",
    "    ax2.tick_params(axis='x', colors='white', labelsize=15)\n",
    "    ax2.tick_params(axis='y', colors='white', size=10)\n",
    "    ax2.tick_params(axis='y', colors='white', labelsize=15)\n",
    "\n",
    "    plt.plot(x, y2, '.-', color='b', linewidth=1)\n",
    "    plt.title(name2, fontdict=font_head, pad=20)\n",
    "    plt.xlabel('Time',labelpad=15, fontdict=font_body)\n",
    "    plt.ylabel('Temp',labelpad=15, fontdict=font_body)\n",
    "    plt.margins(x=0.02)\n",
    "    \n",
    "    if year==1:\n",
    "        plt.xticks([0, 31, 59, 90, 120, 151, 181, 212, 243, 273, 304, 334], labels=['Jan', 'Feb', 'Mar', 'Apr', 'May', 'Jun', 'Jul', 'Aug', 'Sep', 'Oct', 'Nov', 'Dec'])\n",
    "    if year==3:\n",
    "        plt.xticks([0, 365, 730], labels=['2013', '2014', '2015'])\n",
    "\n",
    "    #plt.tight_layout()\n",
    "    plt.show()"
   ]
  },
  {
   "cell_type": "markdown",
   "id": "62741961",
   "metadata": {},
   "source": [
    "#### 1년치 그래프 확인"
   ]
  },
  {
   "cell_type": "markdown",
   "id": "75da8dcd",
   "metadata": {},
   "source": [
    "#### 2013"
   ]
  },
  {
   "cell_type": "code",
   "execution_count": null,
   "id": "7671a864",
   "metadata": {
    "scrolled": false
   },
   "outputs": [],
   "source": [
    "x = Data_2013['Graph_Date']\n",
    "y1 = Data_2013['Watt']\n",
    "y2 = Data_2013['Temp']\n",
    "\n",
    "plt.figure(figsize=(30,17))\n",
    "\n",
    "Graph(\"2013's Time-Watt Graph\", \"2013's Time-Temp Graph\", 1)"
   ]
  },
  {
   "cell_type": "markdown",
   "id": "1a5258cf",
   "metadata": {},
   "source": [
    "#### 2014"
   ]
  },
  {
   "cell_type": "code",
   "execution_count": null,
   "id": "5899dbfc",
   "metadata": {},
   "outputs": [],
   "source": [
    "x = Data_2014['Graph_Date']\n",
    "y1 = Data_2014['Watt']\n",
    "y2 = Data_2014['Temp']\n",
    "\n",
    "plt.figure(figsize=(30,17))\n",
    "\n",
    "Graph(\"2014's Time-Watt Graph\", \"2014's Time-Temp Graph\", 1)"
   ]
  },
  {
   "cell_type": "markdown",
   "id": "fa3d55a8",
   "metadata": {},
   "source": [
    "#### 2015"
   ]
  },
  {
   "cell_type": "code",
   "execution_count": null,
   "id": "4e168780",
   "metadata": {},
   "outputs": [],
   "source": [
    "x = Data_2015['Graph_Date']\n",
    "y1 = Data_2015['Watt']\n",
    "y2 = Data_2015['Temp']\n",
    "\n",
    "plt.figure(figsize=(30,17))\n",
    "\n",
    "Graph(\"2015's Time-Watt Graph\", \"2015's Time-Temp Graph\", 1)"
   ]
  },
  {
   "cell_type": "markdown",
   "id": "2cc96b63",
   "metadata": {},
   "source": [
    "#### 3년치 데이터 그래프 확인"
   ]
  },
  {
   "cell_type": "markdown",
   "id": "62720520",
   "metadata": {},
   "source": [
    "#### 2013-2015"
   ]
  },
  {
   "cell_type": "code",
   "execution_count": null,
   "id": "6f8fa7b6",
   "metadata": {},
   "outputs": [],
   "source": [
    "x = Data_3Y['Graph_Date']\n",
    "y1 = Data_3Y['Watt']\n",
    "y2 = Data_3Y['Temp']\n",
    "\n",
    "plt.figure(figsize=(40,17))\n",
    "\n",
    "Graph(\"13-15's Time-Watt Graph\",\"13-15's Time-Temp Graph\", 3)"
   ]
  },
  {
   "cell_type": "markdown",
   "id": "3fb042ae",
   "metadata": {},
   "source": [
    "### 4. 데이터 정규화"
   ]
  },
  {
   "cell_type": "markdown",
   "id": "60c87e2c",
   "metadata": {},
   "source": [
    "#### Min-Max Scaling 이용, 4년치 학습 데이터 정규화"
   ]
  },
  {
   "cell_type": "code",
   "execution_count": null,
   "id": "b72ea907",
   "metadata": {},
   "outputs": [],
   "source": [
    "from sklearn.preprocessing import MinMaxScaler\n",
    "\n",
    "# 정규화 과정을 거쳐 데이터 범위를 원하는 범위로 제한. 그래프는 동일하나 손실 정도를 확인하기에 더 좋음.\n",
    "# 배치 정규화는 기울기 소멸 문제를 해결하기는 좋으나, RNN의 경우 계층별로 미니 정규화 적용이 필요해 모델이 복잡해지고 효율이 저하됨.\n",
    "Data_4Y.sort_index(ascending=False).reset_index(drop=True)\n",
    "\n",
    "scaler = MinMaxScaler()\n",
    "scale_cols = ['Holiday', 'Watt', 'Temp', 'CPI']\n",
    "Data_4Y_scaled = scaler.fit_transform(Data_4Y[scale_cols])\n",
    "Data_4Y_scaled = pd.DataFrame(Data_4Y_scaled)\n",
    "Data_4Y_scaled.columns = scale_cols\n",
    "\n",
    "Data_4Y_scaled.insert(0, 'DateTime', Data_4Y['DateTime'])\n",
    "Data_4Y_scaled.insert(1, 'Graph_Date', Data_4Y['Graph_Date'])\n",
    "Data_4Y_scaled"
   ]
  },
  {
   "cell_type": "markdown",
   "id": "88477722",
   "metadata": {},
   "source": [
    "### 5. 데이터 연관성 분석"
   ]
  },
  {
   "cell_type": "code",
   "execution_count": null,
   "id": "38e5c5fb",
   "metadata": {},
   "outputs": [],
   "source": [
    "import scipy.stats as stats\n",
    "\n",
    "# 피어슨 stat을 이용하면 피어슨 상관계수와 p-value값이 출력되는데 상관계수는 양 or 음의 비례관계 정도를, p-value는 상관 정도를 보여준다. (0에 가까울수록 영향이 크다.)\n",
    "\n",
    "Correlation=stats.pearsonr(Data_4Y_scaled['Holiday'], Data_4Y_scaled['Watt'])\n",
    "print('< Holiday - Watt >')\n",
    "print('P-value ==>> %.3f\\n' %Correlation[1])\n",
    "\n",
    "Correlation=stats.pearsonr(Data_4Y_scaled['Temp'], Data_4Y_scaled['Watt'])\n",
    "print('< Temp - Watt >')\n",
    "print('P-value ==>> %.3f\\n' %Correlation[1])\n",
    "\n",
    "Correlation=stats.pearsonr(Data_4Y_scaled['CPI'], Data_4Y_scaled['Watt'])\n",
    "print('< CPI - Watt >')\n",
    "print('P-value ==>> %.3f\\n' %Correlation[1])"
   ]
  },
  {
   "cell_type": "markdown",
   "id": "097b89a7",
   "metadata": {},
   "source": [
    "### 6. 이상치 처리"
   ]
  },
  {
   "cell_type": "markdown",
   "id": "0462c163",
   "metadata": {},
   "source": [
    "#### 이상치 확인 함수 생성"
   ]
  },
  {
   "cell_type": "code",
   "execution_count": null,
   "id": "25f92552",
   "metadata": {},
   "outputs": [],
   "source": [
    "def get_outlier(df=None, column=None, weight=1.5):\n",
    "    quantile_25 = np.percentile(df[column].values, 25)\n",
    "    quantile_50 = np.percentile(df[column].values, 50)\n",
    "    quantile_75 = np.percentile(df[column].values, 75)\n",
    "    \n",
    "    IQR = quantile_75 - quantile_25\n",
    "    IQR_weight = IQR * weight\n",
    "    \n",
    "    lowest_val = quantile_25-IQR_weight\n",
    "    highest_val = quantile_75+IQR_weight\n",
    "    \n",
    "    outlier_index_low = df[column][df[column] < lowest_val].index\n",
    "    outlier_index_high = df[column][df[column] > highest_val].index\n",
    "    \n",
    "    return outlier_index_low, outlier_index_high, quantile_25, quantile_50, quantile_75"
   ]
  },
  {
   "cell_type": "markdown",
   "id": "6efdefc0",
   "metadata": {},
   "source": [
    "#### 분위별 이상치 1차 검색"
   ]
  },
  {
   "cell_type": "code",
   "execution_count": null,
   "id": "ea9010c1",
   "metadata": {},
   "outputs": [],
   "source": [
    "print('Low Outlier ==>> {}\\n'.format(get_outlier(df=Data_4Y_scaled, column='Watt', weight=1.5)[0]))\n",
    "print('High Outlier ==>> {}\\n'.format(get_outlier(df=Data_4Y_scaled, column='Watt', weight=1.5)[1]))\n",
    "\n",
    "print('25% Value ==>> {}\\n'.format(get_outlier(df=Data_4Y_scaled, column='Watt', weight=1.5)[2]))\n",
    "print('50% Value ==>> {}\\n'.format(get_outlier(df=Data_4Y_scaled, column='Watt', weight=1.5)[3]))\n",
    "print('75% Value ==>> {}'.format(get_outlier(df=Data_4Y_scaled, column='Watt', weight=1.5)[4]))"
   ]
  },
  {
   "cell_type": "markdown",
   "id": "567d06ff",
   "metadata": {},
   "source": [
    "#### 이상치 치환"
   ]
  },
  {
   "cell_type": "code",
   "execution_count": null,
   "id": "c95db0ad",
   "metadata": {},
   "outputs": [],
   "source": [
    "high_val = get_outlier(df=Data_4Y_scaled, column='Watt', weight=1.5)[1].values.tolist()\n",
    "\n",
    "for l in range(len(high_val)):\n",
    "    Data_4Y_scaled['Watt'][high_val[l]] = get_outlier(df=Data_4Y_scaled, column='Watt', weight=1.5)[4]"
   ]
  },
  {
   "cell_type": "markdown",
   "id": "fad6a440",
   "metadata": {},
   "source": [
    "#### 이상치 처리 후 잔여 개수 확인"
   ]
  },
  {
   "cell_type": "code",
   "execution_count": null,
   "id": "19d9db24",
   "metadata": {},
   "outputs": [],
   "source": [
    "print('Quantity of Low Outlier ==>> {}\\n'.format(len(get_outlier(df=Data_4Y_scaled, column='Watt', weight=1.5)[0])))\n",
    "print('Quantity of High Outlier ==>> {}\\n'.format(len(get_outlier(df=Data_4Y_scaled, column='Watt', weight=1.5)[1])))"
   ]
  },
  {
   "cell_type": "markdown",
   "id": "8395aaba",
   "metadata": {},
   "source": [
    "### 7. 데이터셋 편집"
   ]
  },
  {
   "cell_type": "code",
   "execution_count": null,
   "id": "ee1957fe",
   "metadata": {},
   "outputs": [],
   "source": [
    "TEST_SIZE = 8760 # 1년치를 테스트셋으로 사용\n",
    "WINDOW_SIZE = 1 # 얼마 동안의 과거 기반의 데이터에 기반하여 다음날의 값을 예측할 것인지 설정. 1=1시간을 의미\n",
    "\n",
    "train = Data_4Y_scaled[:-TEST_SIZE]\n",
    "test= Data_4Y_scaled[-TEST_SIZE:]"
   ]
  },
  {
   "cell_type": "code",
   "execution_count": null,
   "id": "68b2123f",
   "metadata": {},
   "outputs": [],
   "source": [
    "from sklearn.model_selection import train_test_split\n",
    "\n",
    "feature_cols = ['Holiday', 'Watt', 'Temp', 'CPI']\n",
    "label_cols = ['Watt']\n",
    "\n",
    "train_feature = train[feature_cols]\n",
    "train_label = train[label_cols]\n",
    "\n",
    "x_train, x_valid, y_train, y_valid = train_test_split(train_feature, train_label, test_size=0.2, random_state=0, shuffle=False)"
   ]
  },
  {
   "cell_type": "code",
   "execution_count": null,
   "id": "5f1c1da0",
   "metadata": {},
   "outputs": [],
   "source": [
    "def windowed_dataset(series, window_size, batch_size, shuffle):\n",
    "    series = tf.expand_dims(series, axis=-1)\n",
    "    ds = tf.data.Dataset.from_tensor_slices(series)\n",
    "    ds = ds.window(window_size + 1, shift=1, drop_remainder=True)\n",
    "    ds = ds.flat_map(lambda w: w.batch(window_size + 1))\n",
    "    if shuffle:\n",
    "        ds = ds.shuffle(1000)\n",
    "    ds = ds.map(lambda w: (w[:-1], w[-1]))\n",
    "    return ds.batch(batch_size).prefetch(1)"
   ]
  },
  {
   "cell_type": "code",
   "execution_count": null,
   "id": "801a3128",
   "metadata": {},
   "outputs": [],
   "source": [
    "WINDOW_SIZE=1\n",
    "BATCH_SIZE=128"
   ]
  },
  {
   "cell_type": "code",
   "execution_count": null,
   "id": "f5741c7c",
   "metadata": {},
   "outputs": [],
   "source": [
    "train_data = windowed_dataset(y_train, WINDOW_SIZE, BATCH_SIZE, False) # 학습도 셔플 안해야 맞는게 아닌가??\n",
    "valid_data = windowed_dataset(y_valid, WINDOW_SIZE, BATCH_SIZE, False)"
   ]
  },
  {
   "cell_type": "code",
   "execution_count": null,
   "id": "00efa566",
   "metadata": {},
   "outputs": [],
   "source": [
    "for data in train_data.take(1):\n",
    "    print(f'데이터셋(X) 구성(batch_size, window_size, feature갯수): {data[0].shape}')\n",
    "    print(f'데이터셋(Y) 구성(batch_size, window_size, feature갯수): {data[1].shape}')"
   ]
  },
  {
   "cell_type": "markdown",
   "id": "0249c42f",
   "metadata": {},
   "source": [
    "### 8. 딥러닝 모델"
   ]
  },
  {
   "cell_type": "code",
   "execution_count": null,
   "id": "04552117",
   "metadata": {},
   "outputs": [],
   "source": [
    "from tensorflow.keras.models import Sequential\n",
    "from tensorflow.keras.layers import Dense, Dropout, Flatten, Conv1D, MaxPooling1D\n",
    "from tensorflow.keras.callbacks import EarlyStopping, ModelCheckpoint\n",
    "from tensorflow.keras.layers import LSTM\n",
    "from tensorflow.keras.layers import Bidirectional\n",
    "from keras.layers.wrappers import TimeDistributed\n",
    "from tensorflow.keras.utils import plot_model\n",
    "import keras\n",
    "    \n",
    "model = Sequential([\n",
    "    Conv1D(filters=64, kernel_size=5, padding=\"causal\",activation=\"relu\", input_shape=[WINDOW_SIZE, 1]),\n",
    "    TimeDistributed(Dense(64)),\n",
    "    LSTM(256, activation='relu',return_sequences=True),\n",
    "    Bidirectional(LSTM(128, activation='ReLU', return_sequences=True), merge_mode='concat'),\n",
    "    LSTM(128, activation='relu',return_sequences=True),\n",
    "    Bidirectional(LSTM(64, activation='ReLU', return_sequences=True), merge_mode='concat'),\n",
    "    LSTM(128, activation='ReLU', return_sequences = True),\n",
    "    Bidirectional(LSTM(32, activation='ReLU', return_sequences=True), merge_mode='concat'),\n",
    "    LSTM(32, activation='ReLU', return_sequences = False),\n",
    "    Dense(1, activation='sigmoid')\n",
    "                    ])\n",
    "\n",
    "model.summary()\n",
    "model.compile(loss='mean_squared_error', optimizer='Nadam')"
   ]
  },
  {
   "cell_type": "markdown",
   "id": "cd6964ab",
   "metadata": {},
   "source": [
    "#### Plot model 저장"
   ]
  },
  {
   "cell_type": "code",
   "execution_count": null,
   "id": "82e93e66",
   "metadata": {},
   "outputs": [],
   "source": [
    "from keras.utils.vis_utils import plot_model\n",
    "import pydot\n",
    "import pydotplus\n",
    "import graphviz\n",
    "\n",
    "plot_model(model, to_file='./Result/CNN+LSTM/model.png')\n",
    "plot_model(model, to_file='./Result/CNN+LSTM/model_shapes.png', show_shapes=True)"
   ]
  },
  {
   "cell_type": "markdown",
   "id": "e4aa6030",
   "metadata": {},
   "source": [
    "#### 학습"
   ]
  },
  {
   "cell_type": "code",
   "execution_count": null,
   "id": "d18415fc",
   "metadata": {},
   "outputs": [],
   "source": [
    "early_stop = EarlyStopping(monitor='val_loss', patience=20)\n",
    "\n",
    "with tf.device('/GPU:0'):\n",
    "    model_path = 'model'\n",
    "    filename = os.path.join(model_path, 'tmp_checkpoint_CL.h5')\n",
    "    checkpoint = ModelCheckpoint(filename, monitor='val_loss', verbose=1, save_best_only=True, mode='auto')\n",
    "    history = model.fit(train_data, epochs=100, batch_size=32,validation_data=(valid_data), callbacks=[early_stop, checkpoint])"
   ]
  },
  {
   "cell_type": "code",
   "execution_count": null,
   "id": "269d7721",
   "metadata": {},
   "outputs": [],
   "source": [
    "model.load_weights(filename)\n",
    "pred = model.predict(test['Watt'])\n",
    "\n",
    "pred.shape"
   ]
  },
  {
   "cell_type": "markdown",
   "id": "3f70a61f",
   "metadata": {},
   "source": [
    "### 9. 결과 표시"
   ]
  },
  {
   "cell_type": "code",
   "execution_count": null,
   "id": "33bddf7a",
   "metadata": {},
   "outputs": [],
   "source": [
    "try:\n",
    "    os.mkdir('./Result')\n",
    "    print('폴더 생성 완료.')\n",
    "    \n",
    "except FileExistsError:\n",
    "    print('해당 폴더가 이미 존재합니다.')"
   ]
  },
  {
   "cell_type": "code",
   "execution_count": null,
   "id": "90879fb0",
   "metadata": {},
   "outputs": [],
   "source": [
    "try:\n",
    "    os.mkdir('./Result/CNN+LSTM')\n",
    "    os.mkdir('./Result/CNN+LSTM/Graph')\n",
    "    os.mkdir('./Result/CNN+LSTM/Data')\n",
    "    print('폴더 생성 완료.')\n",
    "    \n",
    "except FileExistsError:\n",
    "    print('해당 폴더가 이미 존재합니다.')"
   ]
  },
  {
   "cell_type": "code",
   "execution_count": null,
   "id": "e96d8ad2",
   "metadata": {},
   "outputs": [],
   "source": [
    "plt.title('Model Validation Loss', size='15')\n",
    "plt.xlabel('Epoch')\n",
    "plt.ylabel('Val_loss')\n",
    "plt.grid(True)\n",
    "plt.plot(history.history['val_loss'])\n",
    "plt.savefig('./Result/CNN+LSTM/Graph/Model_Valdation_Loss.png')\n",
    "plt.show"
   ]
  },
  {
   "cell_type": "code",
   "execution_count": null,
   "id": "2052fca8",
   "metadata": {},
   "outputs": [],
   "source": [
    "plt.figure(figsize=(300, 15))\n",
    "\n",
    "plt.tick_params(axis='x', colors='blue', size=15)\n",
    "plt.tick_params(axis='x', colors='blue', labelsize=12)\n",
    "plt.tick_params(axis='y', colors='blue', size=15)\n",
    "plt.tick_params(axis='y', colors='blue', labelsize=12)\n",
    "\n",
    "plt.plot(pred, label = 'Prediction',color='blue')\n",
    "\n",
    "plt.xticks([0, 31*24, 59*24, 90*24, 120*24, 151*24, 181*24, 212*24, 243*24, 273*24, 304*24, 334*24], \n",
    "           labels=['Jan', 'Feb', 'Mar', 'Apr', 'May', 'Jun', 'Jul', 'Aug', 'Sep', 'Oct', 'Nov', 'Dec'])\n",
    "plt.yticks([0, 0.2, 0.4, 0.6, 0.8], labels=['0', '2000 W', '3500 W', '5500 W', '7000 W'])\n",
    "\n",
    "plt.margins(x=0.005)\n",
    "plt.savefig('./Result/CNN+LSTM/Graph/Prediction.png')\n",
    "plt.show()"
   ]
  },
  {
   "cell_type": "code",
   "execution_count": null,
   "id": "51a66e75",
   "metadata": {},
   "outputs": [],
   "source": [
    "plt.figure(figsize=(300, 15))\n",
    "\n",
    "plt.tick_params(axis='x', colors='darkorange', size=15)\n",
    "plt.tick_params(axis='x', colors='darkorange', labelsize=12)\n",
    "plt.tick_params(axis='y', colors='darkorange', size=15)\n",
    "plt.tick_params(axis='y', colors='darkorange', labelsize=12)\n",
    "\n",
    "x=test['Graph_Date']\n",
    "\n",
    "plt.plot(test['Watt'], label = 'Actual', color='darkorange')\n",
    "\n",
    "#plt.xticks([0, 31*24, 59*24, 90*24, 120*24, 151*24, 181*24, 212*24, 243*24, 273*24, 304*24, 334*24], labels=['Jan', 'Feb', 'Mar', 'Apr', 'May', 'Jun', 'Jul', 'Aug', 'Sep', 'Oct', 'Nov', 'Dec'])\n",
    "plt.yticks([0, 0.2, 0.4, 0.6, 0.8], labels=['0', '2000 W', '3500 W', '5500 W', '7000 W'])\n",
    "\n",
    "plt.margins(x=0.005)\n",
    "plt.savefig('./Result/CNN+LSTM/Graph/Actual.png')\n",
    "plt.show()"
   ]
  },
  {
   "cell_type": "code",
   "execution_count": null,
   "id": "fd15b506",
   "metadata": {},
   "outputs": [],
   "source": [
    "fig = plt.figure(figsize=(300,15)) \n",
    "ax1 = fig.add_subplot() # subplot 그래프 생성\n",
    "ax1.tick_params(axis='y', size=20, labelsize=20) # y축 눈금 표기 설정\n",
    "ax1.set_yticks([0, 0.2, 0.4, 0.6, 0.8], labels=['0', '2000 W', '3500 W', '5500 W', '7000 W'])\n",
    "\n",
    "color1 = 'darkorange'\n",
    "ax1.plot(test['Watt'], color=color1)\n",
    "ax1.set_xlabel('x1', color=color1, size=20) # x1축 레이블명 표시\n",
    "ax1.set_ylabel('y', size=20)\n",
    "ax1.tick_params(axis='y')\n",
    "ax1.tick_params(axis='x', size=20, labelsize=20)\n",
    "ax1.margins(x=0.005)\n",
    "ax1.set_xticks([26280, 26280+31*24, 26280+59*24, 26280+90*24, 26280+120*24, 26280+151*24, 26280+181*24, 26280+212*24, 26280+243*24, 26280+273*24, 26280+304*24, 26280+334*24], \n",
    "           labels=['Jan', 'Feb', 'Mar', 'Apr', 'May', 'Jun', 'Jul', 'Aug', 'Sep', 'Oct', 'Nov', 'Dec']) # x1의 칸당 간격(=ticks) 설정\n",
    "\n",
    "\n",
    "color2 = 'blue'\n",
    "ax2 = ax1.twiny()\n",
    "ax2.plot(pred, color=color2)\n",
    "ax2.set_xlabel('x2', color=color2, size=20) # x2축 레이블명 표시\n",
    "ax2.tick_params(axis='x', size=20, labelsize=20)\n",
    "ax2.margins(x=0.005)\n",
    "ax2.set_xticks([0, 31*24, 59*24, 90*24, 120*24, 151*24, 181*24, 212*24, 243*24, 273*24, 304*24, 334*24], \n",
    "           labels=['Jan', 'Feb', 'Mar', 'Apr', 'May', 'Jun', 'Jul', 'Aug', 'Sep', 'Oct', 'Nov', 'Dec']) # x1의 칸당 간격(=ticks) 설정\n",
    "\n",
    "\n",
    "plt.legend()\n",
    "plt.savefig('./Result/CNN+LSTM/Graph/Pred_with_Actual.png')\n",
    "plt.show()"
   ]
  },
  {
   "cell_type": "code",
   "execution_count": null,
   "id": "3c221bff",
   "metadata": {},
   "outputs": [],
   "source": [
    "# 월 단위 그래프 분할 표시 및 저장\n",
    "for m in range(1,13):\n",
    "    month = {0:0, 1:31, 2:28, 3:31, 4:30, 5:31, 6:30, 7:31, 8:31, 9:30, 10:31, 11:30, 12:31}\n",
    "    \n",
    "    start = {1:0, 2:744, 3:1416, 4:2160, 5:2880, 6:3624, 7:4344, 8:5088, 9:5832, 10:6552, 11:7296, 12:8016}\n",
    "    end = {1:744, 2:1416, 3:2160, 4:2880, 5:3624, 6:4344, 7:5088, 8:5832, 9:6552, 10:7296, 11:8016, 12:8760}\n",
    "        \n",
    "    ax2.set_title('Prediction & Actual Graph - month'+str(m), size='15')\n",
    "    \n",
    "    watt_list=test['Watt'].tolist()\n",
    "    \n",
    "    fig = plt.figure(figsize=(30,15)) \n",
    "    ax1 = fig.add_subplot() # subplot 그래프 생성\n",
    "    ax1.tick_params(axis='y', size=20, labelsize=20) # y축 눈금 표기 설정\n",
    "    ax1.set_yticks([0, 0.2, 0.4, 0.6, 0.8], labels=['0', '2000 W', '3500 W', '5500 W', '7000 W'])\n",
    "\n",
    "    # Actual\n",
    "    color1 = 'darkorange'\n",
    "    ax1.plot(watt_list[start[m]:end[m]], color=color1, marker='.')\n",
    "    ax1.tick_params(axis='x', size=20, labelsize=20)\n",
    "    ax1.margins(x=0.005)\n",
    "    ax1.legend(['Actual'], loc=1, bbox_to_anchor=(0.95, 1, 0, 0))\n",
    "    \n",
    "    # Predict\n",
    "    color2 = 'blue'\n",
    "    ax2 = ax1.twiny()\n",
    "    ax2.plot(pred[start[m]:end[m]], color=color2, marker='.')\n",
    "    ax2.tick_params(axis='x', size=20, labelsize=20)\n",
    "    ax2.xaxis.set_visible(False)\n",
    "    ax2.margins(x=0.005)\n",
    "    ax2.legend(['Predict'], loc=1, bbox_to_anchor=(1, 1, 0, 0))\n",
    "    \n",
    "    # 월별 xticks 설정 함수\n",
    "    def xticks_list (days):\n",
    "        xticks_list=[]\n",
    "        for x in range(0,days+1):\n",
    "            xticks_list.append(x*24)\n",
    "        return xticks_list\n",
    "    \n",
    "    # month labels 설정 함수\n",
    "    def month_labels (days):\n",
    "        month_labels=[]\n",
    "        for ml in range(1,days+1):\n",
    "            month_labels.append(ml)\n",
    "        month_labels.append('end') \n",
    "        return month_labels\n",
    "    \n",
    "    if (m==2):\n",
    "        ax1.set_xticks(xticks_list(28), labels=month_labels(28))\n",
    "\n",
    "    if (m==4 or m==6  or m==9 or m==11):\n",
    "        ax1.set_xticks(xticks_list(30), labels=month_labels(30))\n",
    "        \n",
    "    if (m==1 or m==3 or m==5 or m==7 or m==8 or m==10 or m==12):\n",
    "        ax1.set_xticks(xticks_list(31), labels=month_labels(31))\n",
    "        \n",
    "    ax1.set_yticks([0, 0.2, 0.4, 0.6, 0.8], labels=['0', '2000 W', '3500 W', '5500 W', '7000 W'])\n",
    "    \n",
    "    plt.suptitle('Prediction_with_Actual_'+str(m),fontsize=20)\n",
    "    plt.grid(True)\n",
    "    plt.savefig('./Result/CNN+LSTM/Graph/Prediction_with_Actual_'+str(m)+'.png')\n",
    "    plt.show()"
   ]
  },
  {
   "cell_type": "markdown",
   "id": "f2f77043",
   "metadata": {},
   "source": [
    "#### 그래프 비교 결과"
   ]
  },
  {
   "cell_type": "code",
   "execution_count": null,
   "id": "a05fddf4",
   "metadata": {},
   "outputs": [],
   "source": [
    "import cv2\n",
    "from skimage.metrics import structural_similarity as ssim"
   ]
  },
  {
   "cell_type": "code",
   "execution_count": null,
   "id": "10777410",
   "metadata": {},
   "outputs": [],
   "source": [
    "# 유사도 측정을 위한 이미지 가공\n",
    "image1 = cv2.imread('./Result/CNN+LSTM/Graph/Prediction.png')\n",
    "image2 = cv2.imread('./Result/CNN+LSTM/Graph/Actual.png')\n",
    "\n",
    "tempDiff1 = cv2.subtract(image1, image2)\n",
    "\n",
    "gray1 = cv2.cvtColor(image1, cv2.COLOR_BGR2GRAY)\n",
    "gray2 = cv2.cvtColor(image2, cv2.COLOR_BGR2GRAY)"
   ]
  },
  {
   "cell_type": "code",
   "execution_count": null,
   "id": "ec1490fa",
   "metadata": {},
   "outputs": [],
   "source": [
    "# 차이 추출을 위한 뺄셈 과정\n",
    "pred_list=pred.tolist()\n",
    "actual_list=test['Watt'].tolist()"
   ]
  },
  {
   "cell_type": "code",
   "execution_count": null,
   "id": "a62529df",
   "metadata": {},
   "outputs": [],
   "source": [
    "(score, diff) = ssim(gray1, gray2, full=True)\n",
    "sim_score = round(score,5)*100\n",
    "\n",
    "print('그래프 유사도 ==>> %.3f %%' %sim_score)"
   ]
  },
  {
   "cell_type": "markdown",
   "id": "d56b11c1",
   "metadata": {},
   "source": [
    "#### 성능 측정 지표"
   ]
  },
  {
   "cell_type": "code",
   "execution_count": null,
   "id": "f21915c7",
   "metadata": {},
   "outputs": [],
   "source": [
    "from sklearn.metrics import r2_score as r2\n",
    "from sklearn.metrics import mean_absolute_error as MAE\n",
    "from sklearn.metrics import mean_squared_error as MSE\n",
    "from sklearn.metrics import mean_squared_log_error as MSLE\n",
    "\n",
    "print('r2 >> %.4f' %r2(test['Watt'], pred)) # 1에 가까워야 좋음\n",
    "print('MAE >> %.4f' %MAE(test['Watt'], pred)) # 0에 가까워야 좋음\n",
    "print('MSE >> %.4f' %MSE(test['Watt'], pred)) # 0에 가까워야 좋음\n",
    "print('RMSE >> %.4f' %np.sqrt(MSE(test['Watt'], pred))) # 0에 가까워야 좋음\n",
    "print('RMSLE >> %.4f' %np.sqrt(MSLE(test['Watt'], pred))) # 0에 가까워야 좋음"
   ]
  },
  {
   "cell_type": "code",
   "execution_count": null,
   "id": "afe21115",
   "metadata": {},
   "outputs": [],
   "source": [
    "RMSE = np.sqrt(MSE(test['Watt'], pred))\n",
    "RMSE_pct = round(1-RMSE, 5)*100\n",
    "print('RMSE 측정 정확도 ==>> %.3f %%' %RMSE_pct)"
   ]
  },
  {
   "cell_type": "markdown",
   "id": "29569fd3",
   "metadata": {},
   "source": [
    "### 10. 예측값과 실제값 결과 csv 파일 저장"
   ]
  },
  {
   "cell_type": "markdown",
   "id": "c45f1a15",
   "metadata": {},
   "source": [
    "#### 1년 단위 데이터 저장"
   ]
  },
  {
   "cell_type": "code",
   "execution_count": null,
   "id": "aa200761",
   "metadata": {},
   "outputs": [],
   "source": [
    "# 날짜 정보 생성\n",
    "month = {1:31, 2:28, 3:31, 4:30, 5:31, 6:30, 7:31, 8:31, 9:30, 10:31, 11:30, 12:31}\n",
    "datetime_list=[]\n",
    "\n",
    "for m in range(1, 13):\n",
    "    month = {1:31, 2:28, 3:31, 4:30, 5:31, 6:30, 7:31, 8:31, 9:30, 10:31, 11:30, 12:31}\n",
    "    for d in range(month[m]):\n",
    "        d=d+1\n",
    "        m=int(m)\n",
    "        d=int(d)\n",
    "        \n",
    "        if m<=9:\n",
    "            m='0'+str(m)\n",
    "        if d<=9:\n",
    "            d='0'+str(d)\n",
    "            \n",
    "        for h in range(1,25):\n",
    "            elem = '2016'+'년-'+str(m)+'월-'+str(d)+'일-'+str(h)+'시'\n",
    "            datetime_list.append(elem)"
   ]
  },
  {
   "cell_type": "code",
   "execution_count": null,
   "id": "378d76b3",
   "metadata": {},
   "outputs": [],
   "source": [
    "# 넘파이 어레이를 데이터 프레임으로 변환\n",
    "pred_df = pd.DataFrame(pred)\n",
    "actual_df = pd.DataFrame(watt_list)"
   ]
  },
  {
   "cell_type": "code",
   "execution_count": null,
   "id": "8dc8ff82",
   "metadata": {},
   "outputs": [],
   "source": [
    "df_for_chart = pd.DataFrame(columns=['datetime', 'pred', 'actual'])\n",
    "df_for_chart['datetime']=datetime_list\n",
    "df_for_chart['pred']=pred_df\n",
    "df_for_chart['actual']=actual_df\n",
    "df_for_chart.to_csv(\"./Result/CNN+LSTM/Data/Electric_Prediction_result_data_for_Chart_Year.csv\", encoding='cp949')\n",
    "\n",
    "print('Job Done!!')"
   ]
  },
  {
   "cell_type": "markdown",
   "id": "7bd5192e",
   "metadata": {},
   "source": [
    "#### 1달 단위 데이터 저장"
   ]
  },
  {
   "cell_type": "code",
   "execution_count": null,
   "id": "7a934a25",
   "metadata": {},
   "outputs": [],
   "source": [
    "pred_list=pred_df[0].tolist()\n",
    "actual_list=actual_df[0].tolist()\n",
    "\n",
    "for m in range(1,13):\n",
    "    m=int(m)\n",
    "    month = {0:0, 1:31, 2:28, 3:31, 4:30, 5:31, 6:30, 7:31, 8:31, 9:30, 10:31, 11:30, 12:31}\n",
    "    start = {1:0, 2:744, 3:1416, 4:2160, 5:2880, 6:3624, 7:4344, 8:5088, 9:5832, 10:6552, 11:7296, 12:8016}\n",
    "    end = {1:744, 2:1416, 3:2160, 4:2880, 5:3624, 6:4344, 7:5088, 8:5832, 9:6552, 10:7296, 11:8016, 12:8760}\n",
    "    \n",
    "    df_for_chart = pd.DataFrame(columns=['datetime', 'pred', 'actual'])\n",
    "    df_for_chart['datetime']=datetime_list[start[m]:end[m]]\n",
    "    df_for_chart['pred']=pred_list[start[m]:end[m]]\n",
    "    df_for_chart['actual']=actual_list[start[m]:end[m]]\n",
    "    \n",
    "    if m<=9:\n",
    "        m=str(m)\n",
    "        m='0'+m\n",
    "        \n",
    "    df_for_chart.to_csv(\"./Result/CNN+LSTM/Data/Electric_Prediction_result_data_for_Chart_\"+str(m)+\".csv\", encoding='cp949')\n",
    "    \n",
    "print('Job Done!!')"
   ]
  },
  {
   "cell_type": "markdown",
   "id": "828fa950",
   "metadata": {},
   "source": [
    "#### 일주일 단위 데이터 저장"
   ]
  },
  {
   "cell_type": "code",
   "execution_count": null,
   "id": "89d8abac",
   "metadata": {},
   "outputs": [],
   "source": [
    "try:\n",
    "    os.mkdir('./Result/CNN+LSTM/Data/Week')\n",
    "    print('폴더 생성 완료.')\n",
    "    \n",
    "except FileExistsError:\n",
    "    print('해당 폴더가 이미 존재합니다.')"
   ]
  },
  {
   "cell_type": "code",
   "execution_count": null,
   "id": "ac50819f",
   "metadata": {},
   "outputs": [],
   "source": [
    "count=0\n",
    "for w in range(0, 8760-168, 168):\n",
    "    count=int(count)\n",
    "    count+=1\n",
    "    start=w\n",
    "    end=w+168\n",
    "    \n",
    "    df_for_chart = pd.DataFrame(columns=['datetime', 'pred', 'actual'])\n",
    "    df_for_chart['datetime']=datetime_list[start:end]\n",
    "    df_for_chart['pred']=pred_list[start:end]\n",
    "    df_for_chart['actual']=actual_list[start:end]\n",
    "    \n",
    "    if count<=9:\n",
    "        count=str(count)\n",
    "        count='0'+count\n",
    "        \n",
    "    df_for_chart.to_csv(\"./Result/CNN+LSTM/Data//Week/Electric_Prediction_result_data_for_Chart_\"+str(count)+\".csv\", encoding='cp949')\n",
    "    \n",
    "print('Job Done!!')"
   ]
  }
 ],
 "metadata": {
  "kernelspec": {
   "display_name": "Python 3 (ipykernel)",
   "language": "python",
   "name": "python3"
  },
  "language_info": {
   "codemirror_mode": {
    "name": "ipython",
    "version": 3
   },
   "file_extension": ".py",
   "mimetype": "text/x-python",
   "name": "python",
   "nbconvert_exporter": "python",
   "pygments_lexer": "ipython3",
   "version": "3.9.7"
  }
 },
 "nbformat": 4,
 "nbformat_minor": 5
}
